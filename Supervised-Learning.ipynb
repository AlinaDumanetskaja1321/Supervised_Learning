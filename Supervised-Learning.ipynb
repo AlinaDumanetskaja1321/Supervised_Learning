{
 "cells": [
  {
   "cell_type": "markdown",
   "metadata": {
    "toc": true
   },
   "source": [
    "<h1>Содержание<span class=\"tocSkip\"></span></h1>\n",
    "<div class=\"toc\"><ul class=\"toc-item\"><li><span><a href=\"#Подготовка-данных\" data-toc-modified-id=\"Подготовка-данных-1\"><span class=\"toc-item-num\">1&nbsp;&nbsp;</span>Подготовка данных</a></span></li><li><span><a href=\"#Исследование-задачи\" data-toc-modified-id=\"Исследование-задачи-2\"><span class=\"toc-item-num\">2&nbsp;&nbsp;</span>Исследование задачи</a></span></li><li><span><a href=\"#Борьба-с-дисбалансом\" data-toc-modified-id=\"Борьба-с-дисбалансом-3\"><span class=\"toc-item-num\">3&nbsp;&nbsp;</span>Борьба с дисбалансом</a></span><ul class=\"toc-item\"><li><span><a href=\"#Взвешивание-классов\" data-toc-modified-id=\"Взвешивание-классов-3.1\"><span class=\"toc-item-num\">3.1&nbsp;&nbsp;</span>Взвешивание классов</a></span></li><li><span><a href=\"#Уменьшение-выборки-(downsampling)\" data-toc-modified-id=\"Уменьшение-выборки-(downsampling)-3.2\"><span class=\"toc-item-num\">3.2&nbsp;&nbsp;</span>Уменьшение выборки (downsampling)</a></span></li></ul></li><li><span><a href=\"#Тестирование-модели\" data-toc-modified-id=\"Тестирование-модели-4\"><span class=\"toc-item-num\">4&nbsp;&nbsp;</span>Тестирование модели</a></span></li></ul></div>"
   ]
  },
  {
   "cell_type": "markdown",
   "metadata": {},
   "source": [
    "# Отток клиентов"
   ]
  },
  {
   "cell_type": "markdown",
   "metadata": {},
   "source": [
    "Из «Бета-Банка» стали уходить клиенты. Каждый месяц. Немного, но заметно. Банковские маркетологи посчитали: сохранять текущих клиентов дешевле, чем привлекать новых.\n",
    "\n",
    "Нужно спрогнозировать, уйдёт клиент из банка в ближайшее время или нет. Вам предоставлены исторические данные о поведении клиентов и расторжении договоров с банком. \n",
    "\n",
    "Постройте модель с предельно большим значением *F1*-меры. Чтобы сдать проект успешно, нужно довести метрику до 0.59. Проверьте *F1*-меру на тестовой выборке самостоятельно.\n",
    "\n",
    "Дополнительно измеряйте *AUC-ROC*, сравнивайте её значение с *F1*-мерой.\n",
    "\n",
    "Источник данных: [https://www.kaggle.com/barelydedicated/bank-customer-churn-modeling](https://www.kaggle.com/barelydedicated/bank-customer-churn-modeling)"
   ]
  },
  {
   "cell_type": "markdown",
   "metadata": {},
   "source": [
    "## Подготовка данных"
   ]
  },
  {
   "cell_type": "code",
   "execution_count": 1,
   "metadata": {},
   "outputs": [],
   "source": [
    "import pandas as pd\n",
    "import matplotlib.pyplot as plt\n",
    "\n",
    "from sklearn.linear_model import LogisticRegression\n",
    "from sklearn.ensemble import RandomForestClassifier\n",
    "from sklearn.tree import DecisionTreeClassifier\n",
    "from sklearn.dummy import DummyClassifier\n",
    "from sklearn.preprocessing import StandardScaler\n",
    "from sklearn.utils import shuffle\n",
    "from sklearn.model_selection import train_test_split\n",
    "from sklearn.metrics import (\n",
    "    accuracy_score,\n",
    "    recall_score,\n",
    "    precision_score,\n",
    "    roc_curve,\n",
    "    plot_confusion_matrix, \n",
    "    f1_score,\n",
    "    roc_auc_score\n",
    "    \n",
    ")\n",
    "import warnings\n",
    "warnings.filterwarnings(\"ignore\")"
   ]
  },
  {
   "cell_type": "code",
   "execution_count": 2,
   "metadata": {},
   "outputs": [],
   "source": [
    "try:\n",
    "    df = pd.read_csv('/datasets/Churn.csv')\n",
    "except:\n",
    "    df = pd.read_csv('https://code.s3.yandex.net/datasets/Churn.csv')\n"
   ]
  },
  {
   "cell_type": "code",
   "execution_count": 3,
   "metadata": {},
   "outputs": [],
   "source": [
    "def info(data):\n",
    "    display(data.head())\n",
    "    print(data.info())\n",
    "    print('Количество дубликатов:', data.duplicated().sum())\n",
    "    print(f''' Количество пропусков:\n",
    "{data.isna().sum()}''')\n",
    "    \n",
    "    display(data.describe())\n",
    "    print(data.shape)"
   ]
  },
  {
   "cell_type": "code",
   "execution_count": 4,
   "metadata": {},
   "outputs": [
    {
     "data": {
      "text/html": [
       "<div>\n",
       "<style scoped>\n",
       "    .dataframe tbody tr th:only-of-type {\n",
       "        vertical-align: middle;\n",
       "    }\n",
       "\n",
       "    .dataframe tbody tr th {\n",
       "        vertical-align: top;\n",
       "    }\n",
       "\n",
       "    .dataframe thead th {\n",
       "        text-align: right;\n",
       "    }\n",
       "</style>\n",
       "<table border=\"1\" class=\"dataframe\">\n",
       "  <thead>\n",
       "    <tr style=\"text-align: right;\">\n",
       "      <th></th>\n",
       "      <th>RowNumber</th>\n",
       "      <th>CustomerId</th>\n",
       "      <th>Surname</th>\n",
       "      <th>CreditScore</th>\n",
       "      <th>Geography</th>\n",
       "      <th>Gender</th>\n",
       "      <th>Age</th>\n",
       "      <th>Tenure</th>\n",
       "      <th>Balance</th>\n",
       "      <th>NumOfProducts</th>\n",
       "      <th>HasCrCard</th>\n",
       "      <th>IsActiveMember</th>\n",
       "      <th>EstimatedSalary</th>\n",
       "      <th>Exited</th>\n",
       "    </tr>\n",
       "  </thead>\n",
       "  <tbody>\n",
       "    <tr>\n",
       "      <th>0</th>\n",
       "      <td>1</td>\n",
       "      <td>15634602</td>\n",
       "      <td>Hargrave</td>\n",
       "      <td>619</td>\n",
       "      <td>France</td>\n",
       "      <td>Female</td>\n",
       "      <td>42</td>\n",
       "      <td>2.0</td>\n",
       "      <td>0.00</td>\n",
       "      <td>1</td>\n",
       "      <td>1</td>\n",
       "      <td>1</td>\n",
       "      <td>101348.88</td>\n",
       "      <td>1</td>\n",
       "    </tr>\n",
       "    <tr>\n",
       "      <th>1</th>\n",
       "      <td>2</td>\n",
       "      <td>15647311</td>\n",
       "      <td>Hill</td>\n",
       "      <td>608</td>\n",
       "      <td>Spain</td>\n",
       "      <td>Female</td>\n",
       "      <td>41</td>\n",
       "      <td>1.0</td>\n",
       "      <td>83807.86</td>\n",
       "      <td>1</td>\n",
       "      <td>0</td>\n",
       "      <td>1</td>\n",
       "      <td>112542.58</td>\n",
       "      <td>0</td>\n",
       "    </tr>\n",
       "    <tr>\n",
       "      <th>2</th>\n",
       "      <td>3</td>\n",
       "      <td>15619304</td>\n",
       "      <td>Onio</td>\n",
       "      <td>502</td>\n",
       "      <td>France</td>\n",
       "      <td>Female</td>\n",
       "      <td>42</td>\n",
       "      <td>8.0</td>\n",
       "      <td>159660.80</td>\n",
       "      <td>3</td>\n",
       "      <td>1</td>\n",
       "      <td>0</td>\n",
       "      <td>113931.57</td>\n",
       "      <td>1</td>\n",
       "    </tr>\n",
       "    <tr>\n",
       "      <th>3</th>\n",
       "      <td>4</td>\n",
       "      <td>15701354</td>\n",
       "      <td>Boni</td>\n",
       "      <td>699</td>\n",
       "      <td>France</td>\n",
       "      <td>Female</td>\n",
       "      <td>39</td>\n",
       "      <td>1.0</td>\n",
       "      <td>0.00</td>\n",
       "      <td>2</td>\n",
       "      <td>0</td>\n",
       "      <td>0</td>\n",
       "      <td>93826.63</td>\n",
       "      <td>0</td>\n",
       "    </tr>\n",
       "    <tr>\n",
       "      <th>4</th>\n",
       "      <td>5</td>\n",
       "      <td>15737888</td>\n",
       "      <td>Mitchell</td>\n",
       "      <td>850</td>\n",
       "      <td>Spain</td>\n",
       "      <td>Female</td>\n",
       "      <td>43</td>\n",
       "      <td>2.0</td>\n",
       "      <td>125510.82</td>\n",
       "      <td>1</td>\n",
       "      <td>1</td>\n",
       "      <td>1</td>\n",
       "      <td>79084.10</td>\n",
       "      <td>0</td>\n",
       "    </tr>\n",
       "  </tbody>\n",
       "</table>\n",
       "</div>"
      ],
      "text/plain": [
       "   RowNumber  CustomerId   Surname  CreditScore Geography  Gender  Age  \\\n",
       "0          1    15634602  Hargrave          619    France  Female   42   \n",
       "1          2    15647311      Hill          608     Spain  Female   41   \n",
       "2          3    15619304      Onio          502    France  Female   42   \n",
       "3          4    15701354      Boni          699    France  Female   39   \n",
       "4          5    15737888  Mitchell          850     Spain  Female   43   \n",
       "\n",
       "   Tenure    Balance  NumOfProducts  HasCrCard  IsActiveMember  \\\n",
       "0     2.0       0.00              1          1               1   \n",
       "1     1.0   83807.86              1          0               1   \n",
       "2     8.0  159660.80              3          1               0   \n",
       "3     1.0       0.00              2          0               0   \n",
       "4     2.0  125510.82              1          1               1   \n",
       "\n",
       "   EstimatedSalary  Exited  \n",
       "0        101348.88       1  \n",
       "1        112542.58       0  \n",
       "2        113931.57       1  \n",
       "3         93826.63       0  \n",
       "4         79084.10       0  "
      ]
     },
     "metadata": {},
     "output_type": "display_data"
    },
    {
     "name": "stdout",
     "output_type": "stream",
     "text": [
      "<class 'pandas.core.frame.DataFrame'>\n",
      "RangeIndex: 10000 entries, 0 to 9999\n",
      "Data columns (total 14 columns):\n",
      " #   Column           Non-Null Count  Dtype  \n",
      "---  ------           --------------  -----  \n",
      " 0   RowNumber        10000 non-null  int64  \n",
      " 1   CustomerId       10000 non-null  int64  \n",
      " 2   Surname          10000 non-null  object \n",
      " 3   CreditScore      10000 non-null  int64  \n",
      " 4   Geography        10000 non-null  object \n",
      " 5   Gender           10000 non-null  object \n",
      " 6   Age              10000 non-null  int64  \n",
      " 7   Tenure           9091 non-null   float64\n",
      " 8   Balance          10000 non-null  float64\n",
      " 9   NumOfProducts    10000 non-null  int64  \n",
      " 10  HasCrCard        10000 non-null  int64  \n",
      " 11  IsActiveMember   10000 non-null  int64  \n",
      " 12  EstimatedSalary  10000 non-null  float64\n",
      " 13  Exited           10000 non-null  int64  \n",
      "dtypes: float64(3), int64(8), object(3)\n",
      "memory usage: 1.1+ MB\n",
      "None\n",
      "Количество дубликатов: 0\n",
      " Количество пропусков:\n",
      "RowNumber            0\n",
      "CustomerId           0\n",
      "Surname              0\n",
      "CreditScore          0\n",
      "Geography            0\n",
      "Gender               0\n",
      "Age                  0\n",
      "Tenure             909\n",
      "Balance              0\n",
      "NumOfProducts        0\n",
      "HasCrCard            0\n",
      "IsActiveMember       0\n",
      "EstimatedSalary      0\n",
      "Exited               0\n",
      "dtype: int64\n"
     ]
    },
    {
     "data": {
      "text/html": [
       "<div>\n",
       "<style scoped>\n",
       "    .dataframe tbody tr th:only-of-type {\n",
       "        vertical-align: middle;\n",
       "    }\n",
       "\n",
       "    .dataframe tbody tr th {\n",
       "        vertical-align: top;\n",
       "    }\n",
       "\n",
       "    .dataframe thead th {\n",
       "        text-align: right;\n",
       "    }\n",
       "</style>\n",
       "<table border=\"1\" class=\"dataframe\">\n",
       "  <thead>\n",
       "    <tr style=\"text-align: right;\">\n",
       "      <th></th>\n",
       "      <th>RowNumber</th>\n",
       "      <th>CustomerId</th>\n",
       "      <th>CreditScore</th>\n",
       "      <th>Age</th>\n",
       "      <th>Tenure</th>\n",
       "      <th>Balance</th>\n",
       "      <th>NumOfProducts</th>\n",
       "      <th>HasCrCard</th>\n",
       "      <th>IsActiveMember</th>\n",
       "      <th>EstimatedSalary</th>\n",
       "      <th>Exited</th>\n",
       "    </tr>\n",
       "  </thead>\n",
       "  <tbody>\n",
       "    <tr>\n",
       "      <th>count</th>\n",
       "      <td>10000.00000</td>\n",
       "      <td>1.000000e+04</td>\n",
       "      <td>10000.000000</td>\n",
       "      <td>10000.000000</td>\n",
       "      <td>9091.000000</td>\n",
       "      <td>10000.000000</td>\n",
       "      <td>10000.000000</td>\n",
       "      <td>10000.00000</td>\n",
       "      <td>10000.000000</td>\n",
       "      <td>10000.000000</td>\n",
       "      <td>10000.000000</td>\n",
       "    </tr>\n",
       "    <tr>\n",
       "      <th>mean</th>\n",
       "      <td>5000.50000</td>\n",
       "      <td>1.569094e+07</td>\n",
       "      <td>650.528800</td>\n",
       "      <td>38.921800</td>\n",
       "      <td>4.997690</td>\n",
       "      <td>76485.889288</td>\n",
       "      <td>1.530200</td>\n",
       "      <td>0.70550</td>\n",
       "      <td>0.515100</td>\n",
       "      <td>100090.239881</td>\n",
       "      <td>0.203700</td>\n",
       "    </tr>\n",
       "    <tr>\n",
       "      <th>std</th>\n",
       "      <td>2886.89568</td>\n",
       "      <td>7.193619e+04</td>\n",
       "      <td>96.653299</td>\n",
       "      <td>10.487806</td>\n",
       "      <td>2.894723</td>\n",
       "      <td>62397.405202</td>\n",
       "      <td>0.581654</td>\n",
       "      <td>0.45584</td>\n",
       "      <td>0.499797</td>\n",
       "      <td>57510.492818</td>\n",
       "      <td>0.402769</td>\n",
       "    </tr>\n",
       "    <tr>\n",
       "      <th>min</th>\n",
       "      <td>1.00000</td>\n",
       "      <td>1.556570e+07</td>\n",
       "      <td>350.000000</td>\n",
       "      <td>18.000000</td>\n",
       "      <td>0.000000</td>\n",
       "      <td>0.000000</td>\n",
       "      <td>1.000000</td>\n",
       "      <td>0.00000</td>\n",
       "      <td>0.000000</td>\n",
       "      <td>11.580000</td>\n",
       "      <td>0.000000</td>\n",
       "    </tr>\n",
       "    <tr>\n",
       "      <th>25%</th>\n",
       "      <td>2500.75000</td>\n",
       "      <td>1.562853e+07</td>\n",
       "      <td>584.000000</td>\n",
       "      <td>32.000000</td>\n",
       "      <td>2.000000</td>\n",
       "      <td>0.000000</td>\n",
       "      <td>1.000000</td>\n",
       "      <td>0.00000</td>\n",
       "      <td>0.000000</td>\n",
       "      <td>51002.110000</td>\n",
       "      <td>0.000000</td>\n",
       "    </tr>\n",
       "    <tr>\n",
       "      <th>50%</th>\n",
       "      <td>5000.50000</td>\n",
       "      <td>1.569074e+07</td>\n",
       "      <td>652.000000</td>\n",
       "      <td>37.000000</td>\n",
       "      <td>5.000000</td>\n",
       "      <td>97198.540000</td>\n",
       "      <td>1.000000</td>\n",
       "      <td>1.00000</td>\n",
       "      <td>1.000000</td>\n",
       "      <td>100193.915000</td>\n",
       "      <td>0.000000</td>\n",
       "    </tr>\n",
       "    <tr>\n",
       "      <th>75%</th>\n",
       "      <td>7500.25000</td>\n",
       "      <td>1.575323e+07</td>\n",
       "      <td>718.000000</td>\n",
       "      <td>44.000000</td>\n",
       "      <td>7.000000</td>\n",
       "      <td>127644.240000</td>\n",
       "      <td>2.000000</td>\n",
       "      <td>1.00000</td>\n",
       "      <td>1.000000</td>\n",
       "      <td>149388.247500</td>\n",
       "      <td>0.000000</td>\n",
       "    </tr>\n",
       "    <tr>\n",
       "      <th>max</th>\n",
       "      <td>10000.00000</td>\n",
       "      <td>1.581569e+07</td>\n",
       "      <td>850.000000</td>\n",
       "      <td>92.000000</td>\n",
       "      <td>10.000000</td>\n",
       "      <td>250898.090000</td>\n",
       "      <td>4.000000</td>\n",
       "      <td>1.00000</td>\n",
       "      <td>1.000000</td>\n",
       "      <td>199992.480000</td>\n",
       "      <td>1.000000</td>\n",
       "    </tr>\n",
       "  </tbody>\n",
       "</table>\n",
       "</div>"
      ],
      "text/plain": [
       "         RowNumber    CustomerId   CreditScore           Age       Tenure  \\\n",
       "count  10000.00000  1.000000e+04  10000.000000  10000.000000  9091.000000   \n",
       "mean    5000.50000  1.569094e+07    650.528800     38.921800     4.997690   \n",
       "std     2886.89568  7.193619e+04     96.653299     10.487806     2.894723   \n",
       "min        1.00000  1.556570e+07    350.000000     18.000000     0.000000   \n",
       "25%     2500.75000  1.562853e+07    584.000000     32.000000     2.000000   \n",
       "50%     5000.50000  1.569074e+07    652.000000     37.000000     5.000000   \n",
       "75%     7500.25000  1.575323e+07    718.000000     44.000000     7.000000   \n",
       "max    10000.00000  1.581569e+07    850.000000     92.000000    10.000000   \n",
       "\n",
       "             Balance  NumOfProducts    HasCrCard  IsActiveMember  \\\n",
       "count   10000.000000   10000.000000  10000.00000    10000.000000   \n",
       "mean    76485.889288       1.530200      0.70550        0.515100   \n",
       "std     62397.405202       0.581654      0.45584        0.499797   \n",
       "min         0.000000       1.000000      0.00000        0.000000   \n",
       "25%         0.000000       1.000000      0.00000        0.000000   \n",
       "50%     97198.540000       1.000000      1.00000        1.000000   \n",
       "75%    127644.240000       2.000000      1.00000        1.000000   \n",
       "max    250898.090000       4.000000      1.00000        1.000000   \n",
       "\n",
       "       EstimatedSalary        Exited  \n",
       "count     10000.000000  10000.000000  \n",
       "mean     100090.239881      0.203700  \n",
       "std       57510.492818      0.402769  \n",
       "min          11.580000      0.000000  \n",
       "25%       51002.110000      0.000000  \n",
       "50%      100193.915000      0.000000  \n",
       "75%      149388.247500      0.000000  \n",
       "max      199992.480000      1.000000  "
      ]
     },
     "metadata": {},
     "output_type": "display_data"
    },
    {
     "name": "stdout",
     "output_type": "stream",
     "text": [
      "(10000, 14)\n"
     ]
    }
   ],
   "source": [
    "info(df)"
   ]
  },
  {
   "cell_type": "markdown",
   "metadata": {},
   "source": [
    "RowNumber — индекс строки в данных \n",
    "\n",
    "CustomerId — уникальный идентификатор клиента\n",
    "\n",
    "Surname — фамилия\n",
    "\n",
    "CreditScore — кредитный рейтинг\n",
    "\n",
    "Geography — страна проживания\n",
    "\n",
    "Gender — пол\n",
    "\n",
    "Age — возраст\n",
    "\n",
    "Tenure — сколько лет человек является клиентом банка\n",
    "\n",
    "Balance — баланс на счёте\n",
    "\n",
    "NumOfProducts — количество продуктов банка, используемых \n",
    "клиентом\n",
    "\n",
    "HasCrCard — наличие кредитной карты\n",
    "\n",
    "IsActiveMember — активность клиента\n",
    "\n",
    "EstimatedSalary — предполагаемая зарплата\n",
    "\n",
    "**Exited - это целевой признак**"
   ]
  },
  {
   "cell_type": "markdown",
   "metadata": {},
   "source": [
    "**Проверим на дубликаты**"
   ]
  },
  {
   "cell_type": "code",
   "execution_count": 5,
   "metadata": {},
   "outputs": [
    {
     "data": {
      "text/plain": [
       "'2.00%'"
      ]
     },
     "execution_count": 5,
     "metadata": {},
     "output_type": "execute_result"
    }
   ],
   "source": [
    "f\"{df['Tenure'].isna().sum()/df['Tenure'].sum():.2%}\""
   ]
  },
  {
   "cell_type": "code",
   "execution_count": 6,
   "metadata": {},
   "outputs": [],
   "source": [
    "df1 = df[df['Tenure'].isna()]"
   ]
  },
  {
   "cell_type": "code",
   "execution_count": 7,
   "metadata": {},
   "outputs": [
    {
     "data": {
      "text/html": [
       "<div>\n",
       "<style scoped>\n",
       "    .dataframe tbody tr th:only-of-type {\n",
       "        vertical-align: middle;\n",
       "    }\n",
       "\n",
       "    .dataframe tbody tr th {\n",
       "        vertical-align: top;\n",
       "    }\n",
       "\n",
       "    .dataframe thead th {\n",
       "        text-align: right;\n",
       "    }\n",
       "</style>\n",
       "<table border=\"1\" class=\"dataframe\">\n",
       "  <thead>\n",
       "    <tr style=\"text-align: right;\">\n",
       "      <th></th>\n",
       "      <th>RowNumber</th>\n",
       "      <th>CustomerId</th>\n",
       "      <th>Surname</th>\n",
       "      <th>CreditScore</th>\n",
       "      <th>Geography</th>\n",
       "      <th>Gender</th>\n",
       "      <th>Age</th>\n",
       "      <th>Tenure</th>\n",
       "      <th>Balance</th>\n",
       "      <th>NumOfProducts</th>\n",
       "      <th>HasCrCard</th>\n",
       "      <th>IsActiveMember</th>\n",
       "      <th>EstimatedSalary</th>\n",
       "      <th>Exited</th>\n",
       "    </tr>\n",
       "  </thead>\n",
       "  <tbody>\n",
       "    <tr>\n",
       "      <th>30</th>\n",
       "      <td>31</td>\n",
       "      <td>15589475</td>\n",
       "      <td>Azikiwe</td>\n",
       "      <td>591</td>\n",
       "      <td>Spain</td>\n",
       "      <td>Female</td>\n",
       "      <td>39</td>\n",
       "      <td>NaN</td>\n",
       "      <td>0.00</td>\n",
       "      <td>3</td>\n",
       "      <td>1</td>\n",
       "      <td>0</td>\n",
       "      <td>140469.38</td>\n",
       "      <td>1</td>\n",
       "    </tr>\n",
       "    <tr>\n",
       "      <th>48</th>\n",
       "      <td>49</td>\n",
       "      <td>15766205</td>\n",
       "      <td>Yin</td>\n",
       "      <td>550</td>\n",
       "      <td>Germany</td>\n",
       "      <td>Male</td>\n",
       "      <td>38</td>\n",
       "      <td>NaN</td>\n",
       "      <td>103391.38</td>\n",
       "      <td>1</td>\n",
       "      <td>0</td>\n",
       "      <td>1</td>\n",
       "      <td>90878.13</td>\n",
       "      <td>0</td>\n",
       "    </tr>\n",
       "    <tr>\n",
       "      <th>51</th>\n",
       "      <td>52</td>\n",
       "      <td>15768193</td>\n",
       "      <td>Trevisani</td>\n",
       "      <td>585</td>\n",
       "      <td>Germany</td>\n",
       "      <td>Male</td>\n",
       "      <td>36</td>\n",
       "      <td>NaN</td>\n",
       "      <td>146050.97</td>\n",
       "      <td>2</td>\n",
       "      <td>0</td>\n",
       "      <td>0</td>\n",
       "      <td>86424.57</td>\n",
       "      <td>0</td>\n",
       "    </tr>\n",
       "    <tr>\n",
       "      <th>53</th>\n",
       "      <td>54</td>\n",
       "      <td>15702298</td>\n",
       "      <td>Parkhill</td>\n",
       "      <td>655</td>\n",
       "      <td>Germany</td>\n",
       "      <td>Male</td>\n",
       "      <td>41</td>\n",
       "      <td>NaN</td>\n",
       "      <td>125561.97</td>\n",
       "      <td>1</td>\n",
       "      <td>0</td>\n",
       "      <td>0</td>\n",
       "      <td>164040.94</td>\n",
       "      <td>1</td>\n",
       "    </tr>\n",
       "    <tr>\n",
       "      <th>60</th>\n",
       "      <td>61</td>\n",
       "      <td>15651280</td>\n",
       "      <td>Hunter</td>\n",
       "      <td>742</td>\n",
       "      <td>Germany</td>\n",
       "      <td>Male</td>\n",
       "      <td>35</td>\n",
       "      <td>NaN</td>\n",
       "      <td>136857.00</td>\n",
       "      <td>1</td>\n",
       "      <td>0</td>\n",
       "      <td>0</td>\n",
       "      <td>84509.57</td>\n",
       "      <td>0</td>\n",
       "    </tr>\n",
       "    <tr>\n",
       "      <th>...</th>\n",
       "      <td>...</td>\n",
       "      <td>...</td>\n",
       "      <td>...</td>\n",
       "      <td>...</td>\n",
       "      <td>...</td>\n",
       "      <td>...</td>\n",
       "      <td>...</td>\n",
       "      <td>...</td>\n",
       "      <td>...</td>\n",
       "      <td>...</td>\n",
       "      <td>...</td>\n",
       "      <td>...</td>\n",
       "      <td>...</td>\n",
       "      <td>...</td>\n",
       "    </tr>\n",
       "    <tr>\n",
       "      <th>9944</th>\n",
       "      <td>9945</td>\n",
       "      <td>15703923</td>\n",
       "      <td>Cameron</td>\n",
       "      <td>744</td>\n",
       "      <td>Germany</td>\n",
       "      <td>Male</td>\n",
       "      <td>41</td>\n",
       "      <td>NaN</td>\n",
       "      <td>190409.34</td>\n",
       "      <td>2</td>\n",
       "      <td>1</td>\n",
       "      <td>1</td>\n",
       "      <td>138361.48</td>\n",
       "      <td>0</td>\n",
       "    </tr>\n",
       "    <tr>\n",
       "      <th>9956</th>\n",
       "      <td>9957</td>\n",
       "      <td>15707861</td>\n",
       "      <td>Nucci</td>\n",
       "      <td>520</td>\n",
       "      <td>France</td>\n",
       "      <td>Female</td>\n",
       "      <td>46</td>\n",
       "      <td>NaN</td>\n",
       "      <td>85216.61</td>\n",
       "      <td>1</td>\n",
       "      <td>1</td>\n",
       "      <td>0</td>\n",
       "      <td>117369.52</td>\n",
       "      <td>1</td>\n",
       "    </tr>\n",
       "    <tr>\n",
       "      <th>9964</th>\n",
       "      <td>9965</td>\n",
       "      <td>15642785</td>\n",
       "      <td>Douglas</td>\n",
       "      <td>479</td>\n",
       "      <td>France</td>\n",
       "      <td>Male</td>\n",
       "      <td>34</td>\n",
       "      <td>NaN</td>\n",
       "      <td>117593.48</td>\n",
       "      <td>2</td>\n",
       "      <td>0</td>\n",
       "      <td>0</td>\n",
       "      <td>113308.29</td>\n",
       "      <td>0</td>\n",
       "    </tr>\n",
       "    <tr>\n",
       "      <th>9985</th>\n",
       "      <td>9986</td>\n",
       "      <td>15586914</td>\n",
       "      <td>Nepean</td>\n",
       "      <td>659</td>\n",
       "      <td>France</td>\n",
       "      <td>Male</td>\n",
       "      <td>36</td>\n",
       "      <td>NaN</td>\n",
       "      <td>123841.49</td>\n",
       "      <td>2</td>\n",
       "      <td>1</td>\n",
       "      <td>0</td>\n",
       "      <td>96833.00</td>\n",
       "      <td>0</td>\n",
       "    </tr>\n",
       "    <tr>\n",
       "      <th>9999</th>\n",
       "      <td>10000</td>\n",
       "      <td>15628319</td>\n",
       "      <td>Walker</td>\n",
       "      <td>792</td>\n",
       "      <td>France</td>\n",
       "      <td>Female</td>\n",
       "      <td>28</td>\n",
       "      <td>NaN</td>\n",
       "      <td>130142.79</td>\n",
       "      <td>1</td>\n",
       "      <td>1</td>\n",
       "      <td>0</td>\n",
       "      <td>38190.78</td>\n",
       "      <td>0</td>\n",
       "    </tr>\n",
       "  </tbody>\n",
       "</table>\n",
       "<p>909 rows × 14 columns</p>\n",
       "</div>"
      ],
      "text/plain": [
       "      RowNumber  CustomerId    Surname  CreditScore Geography  Gender  Age  \\\n",
       "30           31    15589475    Azikiwe          591     Spain  Female   39   \n",
       "48           49    15766205        Yin          550   Germany    Male   38   \n",
       "51           52    15768193  Trevisani          585   Germany    Male   36   \n",
       "53           54    15702298   Parkhill          655   Germany    Male   41   \n",
       "60           61    15651280     Hunter          742   Germany    Male   35   \n",
       "...         ...         ...        ...          ...       ...     ...  ...   \n",
       "9944       9945    15703923    Cameron          744   Germany    Male   41   \n",
       "9956       9957    15707861      Nucci          520    France  Female   46   \n",
       "9964       9965    15642785    Douglas          479    France    Male   34   \n",
       "9985       9986    15586914     Nepean          659    France    Male   36   \n",
       "9999      10000    15628319     Walker          792    France  Female   28   \n",
       "\n",
       "      Tenure    Balance  NumOfProducts  HasCrCard  IsActiveMember  \\\n",
       "30       NaN       0.00              3          1               0   \n",
       "48       NaN  103391.38              1          0               1   \n",
       "51       NaN  146050.97              2          0               0   \n",
       "53       NaN  125561.97              1          0               0   \n",
       "60       NaN  136857.00              1          0               0   \n",
       "...      ...        ...            ...        ...             ...   \n",
       "9944     NaN  190409.34              2          1               1   \n",
       "9956     NaN   85216.61              1          1               0   \n",
       "9964     NaN  117593.48              2          0               0   \n",
       "9985     NaN  123841.49              2          1               0   \n",
       "9999     NaN  130142.79              1          1               0   \n",
       "\n",
       "      EstimatedSalary  Exited  \n",
       "30          140469.38       1  \n",
       "48           90878.13       0  \n",
       "51           86424.57       0  \n",
       "53          164040.94       1  \n",
       "60           84509.57       0  \n",
       "...               ...     ...  \n",
       "9944        138361.48       0  \n",
       "9956        117369.52       1  \n",
       "9964        113308.29       0  \n",
       "9985         96833.00       0  \n",
       "9999         38190.78       0  \n",
       "\n",
       "[909 rows x 14 columns]"
      ]
     },
     "execution_count": 7,
     "metadata": {},
     "output_type": "execute_result"
    }
   ],
   "source": [
    "df1"
   ]
  },
  {
   "cell_type": "code",
   "execution_count": 8,
   "metadata": {},
   "outputs": [],
   "source": [
    "df['Tenure'] = df['Tenure']. fillna(df['Tenure'].median())"
   ]
  },
  {
   "cell_type": "code",
   "execution_count": 9,
   "metadata": {},
   "outputs": [
    {
     "data": {
      "text/plain": [
       "RowNumber          0\n",
       "CustomerId         0\n",
       "Surname            0\n",
       "CreditScore        0\n",
       "Geography          0\n",
       "Gender             0\n",
       "Age                0\n",
       "Tenure             0\n",
       "Balance            0\n",
       "NumOfProducts      0\n",
       "HasCrCard          0\n",
       "IsActiveMember     0\n",
       "EstimatedSalary    0\n",
       "Exited             0\n",
       "dtype: int64"
      ]
     },
     "execution_count": 9,
     "metadata": {},
     "output_type": "execute_result"
    }
   ],
   "source": [
    "df.isna().sum()"
   ]
  },
  {
   "cell_type": "code",
   "execution_count": 10,
   "metadata": {},
   "outputs": [
    {
     "data": {
      "text/plain": [
       "array(['France', 'Spain', 'Germany'], dtype=object)"
      ]
     },
     "execution_count": 10,
     "metadata": {},
     "output_type": "execute_result"
    }
   ],
   "source": [
    "df['Geography'].unique()"
   ]
  },
  {
   "cell_type": "markdown",
   "metadata": {},
   "source": [
    "**Вывод**\n",
    "\n",
    "RowNumber — столбец дублирует информацию стандартного датафрейма и не несетя ценности для обучения модели. Поэтому столбец можно удалить\n",
    "\n",
    "CustomerId — является идентификатором пользователя (по данному столбцу значению необходимо проверить наличие дубликатов) и если отсутсвуют — стоблец также можно удалить.\n",
    "\n",
    "Surname —  не несет ценности для качества будущей модели — столбец можно удалить.\n",
    "\n",
    "Geography — всего 3 уникальных значения France', 'Spain', 'Germany' — выполнить преобразование OHE / ordinal encoding\n",
    "\n",
    "Gender — значение преобразовать — OHE / ordinal encoding.\n",
    "\n",
    "Age — Exited — тип данных верны.\n"
   ]
  },
  {
   "cell_type": "markdown",
   "metadata": {},
   "source": [
    "## Исследование задачи"
   ]
  },
  {
   "cell_type": "code",
   "execution_count": 11,
   "metadata": {},
   "outputs": [],
   "source": [
    "# применяем ohe к 2 признакам\n",
    "df = pd.get_dummies(df, drop_first=True, columns=['Gender', 'Geography'])"
   ]
  },
  {
   "cell_type": "code",
   "execution_count": 12,
   "metadata": {},
   "outputs": [
    {
     "data": {
      "text/html": [
       "<div>\n",
       "<style scoped>\n",
       "    .dataframe tbody tr th:only-of-type {\n",
       "        vertical-align: middle;\n",
       "    }\n",
       "\n",
       "    .dataframe tbody tr th {\n",
       "        vertical-align: top;\n",
       "    }\n",
       "\n",
       "    .dataframe thead th {\n",
       "        text-align: right;\n",
       "    }\n",
       "</style>\n",
       "<table border=\"1\" class=\"dataframe\">\n",
       "  <thead>\n",
       "    <tr style=\"text-align: right;\">\n",
       "      <th></th>\n",
       "      <th>RowNumber</th>\n",
       "      <th>CustomerId</th>\n",
       "      <th>Surname</th>\n",
       "      <th>CreditScore</th>\n",
       "      <th>Age</th>\n",
       "      <th>Tenure</th>\n",
       "      <th>Balance</th>\n",
       "      <th>NumOfProducts</th>\n",
       "      <th>HasCrCard</th>\n",
       "      <th>IsActiveMember</th>\n",
       "      <th>EstimatedSalary</th>\n",
       "      <th>Exited</th>\n",
       "      <th>Gender_Male</th>\n",
       "      <th>Geography_Germany</th>\n",
       "      <th>Geography_Spain</th>\n",
       "    </tr>\n",
       "  </thead>\n",
       "  <tbody>\n",
       "    <tr>\n",
       "      <th>0</th>\n",
       "      <td>1</td>\n",
       "      <td>15634602</td>\n",
       "      <td>Hargrave</td>\n",
       "      <td>619</td>\n",
       "      <td>42</td>\n",
       "      <td>2.0</td>\n",
       "      <td>0.00</td>\n",
       "      <td>1</td>\n",
       "      <td>1</td>\n",
       "      <td>1</td>\n",
       "      <td>101348.88</td>\n",
       "      <td>1</td>\n",
       "      <td>0</td>\n",
       "      <td>0</td>\n",
       "      <td>0</td>\n",
       "    </tr>\n",
       "    <tr>\n",
       "      <th>1</th>\n",
       "      <td>2</td>\n",
       "      <td>15647311</td>\n",
       "      <td>Hill</td>\n",
       "      <td>608</td>\n",
       "      <td>41</td>\n",
       "      <td>1.0</td>\n",
       "      <td>83807.86</td>\n",
       "      <td>1</td>\n",
       "      <td>0</td>\n",
       "      <td>1</td>\n",
       "      <td>112542.58</td>\n",
       "      <td>0</td>\n",
       "      <td>0</td>\n",
       "      <td>0</td>\n",
       "      <td>1</td>\n",
       "    </tr>\n",
       "    <tr>\n",
       "      <th>2</th>\n",
       "      <td>3</td>\n",
       "      <td>15619304</td>\n",
       "      <td>Onio</td>\n",
       "      <td>502</td>\n",
       "      <td>42</td>\n",
       "      <td>8.0</td>\n",
       "      <td>159660.80</td>\n",
       "      <td>3</td>\n",
       "      <td>1</td>\n",
       "      <td>0</td>\n",
       "      <td>113931.57</td>\n",
       "      <td>1</td>\n",
       "      <td>0</td>\n",
       "      <td>0</td>\n",
       "      <td>0</td>\n",
       "    </tr>\n",
       "    <tr>\n",
       "      <th>3</th>\n",
       "      <td>4</td>\n",
       "      <td>15701354</td>\n",
       "      <td>Boni</td>\n",
       "      <td>699</td>\n",
       "      <td>39</td>\n",
       "      <td>1.0</td>\n",
       "      <td>0.00</td>\n",
       "      <td>2</td>\n",
       "      <td>0</td>\n",
       "      <td>0</td>\n",
       "      <td>93826.63</td>\n",
       "      <td>0</td>\n",
       "      <td>0</td>\n",
       "      <td>0</td>\n",
       "      <td>0</td>\n",
       "    </tr>\n",
       "    <tr>\n",
       "      <th>4</th>\n",
       "      <td>5</td>\n",
       "      <td>15737888</td>\n",
       "      <td>Mitchell</td>\n",
       "      <td>850</td>\n",
       "      <td>43</td>\n",
       "      <td>2.0</td>\n",
       "      <td>125510.82</td>\n",
       "      <td>1</td>\n",
       "      <td>1</td>\n",
       "      <td>1</td>\n",
       "      <td>79084.10</td>\n",
       "      <td>0</td>\n",
       "      <td>0</td>\n",
       "      <td>0</td>\n",
       "      <td>1</td>\n",
       "    </tr>\n",
       "  </tbody>\n",
       "</table>\n",
       "</div>"
      ],
      "text/plain": [
       "   RowNumber  CustomerId   Surname  CreditScore  Age  Tenure    Balance  \\\n",
       "0          1    15634602  Hargrave          619   42     2.0       0.00   \n",
       "1          2    15647311      Hill          608   41     1.0   83807.86   \n",
       "2          3    15619304      Onio          502   42     8.0  159660.80   \n",
       "3          4    15701354      Boni          699   39     1.0       0.00   \n",
       "4          5    15737888  Mitchell          850   43     2.0  125510.82   \n",
       "\n",
       "   NumOfProducts  HasCrCard  IsActiveMember  EstimatedSalary  Exited  \\\n",
       "0              1          1               1        101348.88       1   \n",
       "1              1          0               1        112542.58       0   \n",
       "2              3          1               0        113931.57       1   \n",
       "3              2          0               0         93826.63       0   \n",
       "4              1          1               1         79084.10       0   \n",
       "\n",
       "   Gender_Male  Geography_Germany  Geography_Spain  \n",
       "0            0                  0                0  \n",
       "1            0                  0                1  \n",
       "2            0                  0                0  \n",
       "3            0                  0                0  \n",
       "4            0                  0                1  "
      ]
     },
     "execution_count": 12,
     "metadata": {},
     "output_type": "execute_result"
    }
   ],
   "source": [
    "df.head()"
   ]
  },
  {
   "cell_type": "markdown",
   "metadata": {},
   "source": [
    "**Дальше разделим датасет на 3 выборки - обучающую, валидационную и тестовую.\n",
    "Кроме того, удалим признаки Surmane и CustomerId, так как они никак не влияют на качество обучения **"
   ]
  },
  {
   "cell_type": "code",
   "execution_count": 13,
   "metadata": {},
   "outputs": [],
   "source": [
    "target = df['Exited']\n",
    "features = df.drop(['Exited', 'Surname', 'CustomerId', 'RowNumber'], axis=1)\n",
    "\n",
    "# разделяем на обучающую и тестовую выборки (80/20)\n",
    "features_train, features_test, target_train, target_test = train_test_split(features, \n",
    "                                                                            target, \n",
    "                                                                            test_size=0.2, \n",
    "                                                                            random_state=12345)"
   ]
  },
  {
   "cell_type": "code",
   "execution_count": 14,
   "metadata": {},
   "outputs": [],
   "source": [
    "\n",
    "# разделяем обучающую выборку на обучающую и валидационную (75/25)\n",
    "features_train, features_valid, target_train, target_valid = train_test_split(features_train, \n",
    "                                                                              target_train, \n",
    "                                                                              test_size=0.25, \n",
    "                                                                              random_state=1235)"
   ]
  },
  {
   "cell_type": "markdown",
   "metadata": {},
   "source": [
    "**Для масштабирования методом scaler зафиксируем численные признаки**"
   ]
  },
  {
   "cell_type": "code",
   "execution_count": 15,
   "metadata": {},
   "outputs": [],
   "source": [
    "\n",
    "numeric = ['CreditScore', 'Age',  'Balance','Tenure', 'EstimatedSalary']"
   ]
  },
  {
   "cell_type": "code",
   "execution_count": 16,
   "metadata": {},
   "outputs": [
    {
     "data": {
      "text/html": [
       "<style>#sk-container-id-1 {color: black;background-color: white;}#sk-container-id-1 pre{padding: 0;}#sk-container-id-1 div.sk-toggleable {background-color: white;}#sk-container-id-1 label.sk-toggleable__label {cursor: pointer;display: block;width: 100%;margin-bottom: 0;padding: 0.3em;box-sizing: border-box;text-align: center;}#sk-container-id-1 label.sk-toggleable__label-arrow:before {content: \"▸\";float: left;margin-right: 0.25em;color: #696969;}#sk-container-id-1 label.sk-toggleable__label-arrow:hover:before {color: black;}#sk-container-id-1 div.sk-estimator:hover label.sk-toggleable__label-arrow:before {color: black;}#sk-container-id-1 div.sk-toggleable__content {max-height: 0;max-width: 0;overflow: hidden;text-align: left;background-color: #f0f8ff;}#sk-container-id-1 div.sk-toggleable__content pre {margin: 0.2em;color: black;border-radius: 0.25em;background-color: #f0f8ff;}#sk-container-id-1 input.sk-toggleable__control:checked~div.sk-toggleable__content {max-height: 200px;max-width: 100%;overflow: auto;}#sk-container-id-1 input.sk-toggleable__control:checked~label.sk-toggleable__label-arrow:before {content: \"▾\";}#sk-container-id-1 div.sk-estimator input.sk-toggleable__control:checked~label.sk-toggleable__label {background-color: #d4ebff;}#sk-container-id-1 div.sk-label input.sk-toggleable__control:checked~label.sk-toggleable__label {background-color: #d4ebff;}#sk-container-id-1 input.sk-hidden--visually {border: 0;clip: rect(1px 1px 1px 1px);clip: rect(1px, 1px, 1px, 1px);height: 1px;margin: -1px;overflow: hidden;padding: 0;position: absolute;width: 1px;}#sk-container-id-1 div.sk-estimator {font-family: monospace;background-color: #f0f8ff;border: 1px dotted black;border-radius: 0.25em;box-sizing: border-box;margin-bottom: 0.5em;}#sk-container-id-1 div.sk-estimator:hover {background-color: #d4ebff;}#sk-container-id-1 div.sk-parallel-item::after {content: \"\";width: 100%;border-bottom: 1px solid gray;flex-grow: 1;}#sk-container-id-1 div.sk-label:hover label.sk-toggleable__label {background-color: #d4ebff;}#sk-container-id-1 div.sk-serial::before {content: \"\";position: absolute;border-left: 1px solid gray;box-sizing: border-box;top: 0;bottom: 0;left: 50%;z-index: 0;}#sk-container-id-1 div.sk-serial {display: flex;flex-direction: column;align-items: center;background-color: white;padding-right: 0.2em;padding-left: 0.2em;position: relative;}#sk-container-id-1 div.sk-item {position: relative;z-index: 1;}#sk-container-id-1 div.sk-parallel {display: flex;align-items: stretch;justify-content: center;background-color: white;position: relative;}#sk-container-id-1 div.sk-item::before, #sk-container-id-1 div.sk-parallel-item::before {content: \"\";position: absolute;border-left: 1px solid gray;box-sizing: border-box;top: 0;bottom: 0;left: 50%;z-index: -1;}#sk-container-id-1 div.sk-parallel-item {display: flex;flex-direction: column;z-index: 1;position: relative;background-color: white;}#sk-container-id-1 div.sk-parallel-item:first-child::after {align-self: flex-end;width: 50%;}#sk-container-id-1 div.sk-parallel-item:last-child::after {align-self: flex-start;width: 50%;}#sk-container-id-1 div.sk-parallel-item:only-child::after {width: 0;}#sk-container-id-1 div.sk-dashed-wrapped {border: 1px dashed gray;margin: 0 0.4em 0.5em 0.4em;box-sizing: border-box;padding-bottom: 0.4em;background-color: white;}#sk-container-id-1 div.sk-label label {font-family: monospace;font-weight: bold;display: inline-block;line-height: 1.2em;}#sk-container-id-1 div.sk-label-container {text-align: center;}#sk-container-id-1 div.sk-container {/* jupyter's `normalize.less` sets `[hidden] { display: none; }` but bootstrap.min.css set `[hidden] { display: none !important; }` so we also need the `!important` here to be able to override the default hidden behavior on the sphinx rendered scikit-learn.org. See: https://github.com/scikit-learn/scikit-learn/issues/21755 */display: inline-block !important;position: relative;}#sk-container-id-1 div.sk-text-repr-fallback {display: none;}</style><div id=\"sk-container-id-1\" class=\"sk-top-container\"><div class=\"sk-text-repr-fallback\"><pre>StandardScaler()</pre><b>In a Jupyter environment, please rerun this cell to show the HTML representation or trust the notebook. <br />On GitHub, the HTML representation is unable to render, please try loading this page with nbviewer.org.</b></div><div class=\"sk-container\" hidden><div class=\"sk-item\"><div class=\"sk-estimator sk-toggleable\"><input class=\"sk-toggleable__control sk-hidden--visually\" id=\"sk-estimator-id-1\" type=\"checkbox\" checked><label for=\"sk-estimator-id-1\" class=\"sk-toggleable__label sk-toggleable__label-arrow\">StandardScaler</label><div class=\"sk-toggleable__content\"><pre>StandardScaler()</pre></div></div></div></div></div>"
      ],
      "text/plain": [
       "StandardScaler()"
      ]
     },
     "execution_count": 16,
     "metadata": {},
     "output_type": "execute_result"
    }
   ],
   "source": [
    "scaler = StandardScaler()\n",
    "scaler.fit(features_train[numeric])"
   ]
  },
  {
   "cell_type": "code",
   "execution_count": 17,
   "metadata": {},
   "outputs": [
    {
     "data": {
      "text/html": [
       "<div>\n",
       "<style scoped>\n",
       "    .dataframe tbody tr th:only-of-type {\n",
       "        vertical-align: middle;\n",
       "    }\n",
       "\n",
       "    .dataframe tbody tr th {\n",
       "        vertical-align: top;\n",
       "    }\n",
       "\n",
       "    .dataframe thead th {\n",
       "        text-align: right;\n",
       "    }\n",
       "</style>\n",
       "<table border=\"1\" class=\"dataframe\">\n",
       "  <thead>\n",
       "    <tr style=\"text-align: right;\">\n",
       "      <th></th>\n",
       "      <th>CreditScore</th>\n",
       "      <th>Age</th>\n",
       "      <th>Tenure</th>\n",
       "      <th>Balance</th>\n",
       "      <th>NumOfProducts</th>\n",
       "      <th>HasCrCard</th>\n",
       "      <th>IsActiveMember</th>\n",
       "      <th>EstimatedSalary</th>\n",
       "      <th>Gender_Male</th>\n",
       "      <th>Geography_Germany</th>\n",
       "      <th>Geography_Spain</th>\n",
       "    </tr>\n",
       "  </thead>\n",
       "  <tbody>\n",
       "    <tr>\n",
       "      <th>87</th>\n",
       "      <td>0.809375</td>\n",
       "      <td>-0.842141</td>\n",
       "      <td>1.435890</td>\n",
       "      <td>-1.221559</td>\n",
       "      <td>2</td>\n",
       "      <td>1</td>\n",
       "      <td>0</td>\n",
       "      <td>0.900311</td>\n",
       "      <td>1</td>\n",
       "      <td>0</td>\n",
       "      <td>0</td>\n",
       "    </tr>\n",
       "    <tr>\n",
       "      <th>6890</th>\n",
       "      <td>-1.666279</td>\n",
       "      <td>0.016456</td>\n",
       "      <td>-1.447061</td>\n",
       "      <td>-1.221559</td>\n",
       "      <td>3</td>\n",
       "      <td>1</td>\n",
       "      <td>0</td>\n",
       "      <td>1.233643</td>\n",
       "      <td>1</td>\n",
       "      <td>0</td>\n",
       "      <td>0</td>\n",
       "    </tr>\n",
       "    <tr>\n",
       "      <th>7951</th>\n",
       "      <td>2.062739</td>\n",
       "      <td>0.111856</td>\n",
       "      <td>-1.807430</td>\n",
       "      <td>-1.221559</td>\n",
       "      <td>2</td>\n",
       "      <td>1</td>\n",
       "      <td>0</td>\n",
       "      <td>-1.718479</td>\n",
       "      <td>0</td>\n",
       "      <td>0</td>\n",
       "      <td>0</td>\n",
       "    </tr>\n",
       "    <tr>\n",
       "      <th>1537</th>\n",
       "      <td>1.762346</td>\n",
       "      <td>-1.032940</td>\n",
       "      <td>1.075521</td>\n",
       "      <td>-1.221559</td>\n",
       "      <td>1</td>\n",
       "      <td>1</td>\n",
       "      <td>1</td>\n",
       "      <td>-1.099183</td>\n",
       "      <td>0</td>\n",
       "      <td>0</td>\n",
       "      <td>0</td>\n",
       "    </tr>\n",
       "    <tr>\n",
       "      <th>1209</th>\n",
       "      <td>2.062739</td>\n",
       "      <td>-0.651342</td>\n",
       "      <td>0.715152</td>\n",
       "      <td>-1.221559</td>\n",
       "      <td>2</td>\n",
       "      <td>0</td>\n",
       "      <td>0</td>\n",
       "      <td>0.958632</td>\n",
       "      <td>0</td>\n",
       "      <td>0</td>\n",
       "      <td>0</td>\n",
       "    </tr>\n",
       "  </tbody>\n",
       "</table>\n",
       "</div>"
      ],
      "text/plain": [
       "      CreditScore       Age    Tenure   Balance  NumOfProducts  HasCrCard  \\\n",
       "87       0.809375 -0.842141  1.435890 -1.221559              2          1   \n",
       "6890    -1.666279  0.016456 -1.447061 -1.221559              3          1   \n",
       "7951     2.062739  0.111856 -1.807430 -1.221559              2          1   \n",
       "1537     1.762346 -1.032940  1.075521 -1.221559              1          1   \n",
       "1209     2.062739 -0.651342  0.715152 -1.221559              2          0   \n",
       "\n",
       "      IsActiveMember  EstimatedSalary  Gender_Male  Geography_Germany  \\\n",
       "87                 0         0.900311            1                  0   \n",
       "6890               0         1.233643            1                  0   \n",
       "7951               0        -1.718479            0                  0   \n",
       "1537               1        -1.099183            0                  0   \n",
       "1209               0         0.958632            0                  0   \n",
       "\n",
       "      Geography_Spain  \n",
       "87                  0  \n",
       "6890                0  \n",
       "7951                0  \n",
       "1537                0  \n",
       "1209                0  "
      ]
     },
     "execution_count": 17,
     "metadata": {},
     "output_type": "execute_result"
    }
   ],
   "source": [
    "#Масштабируем числ признаки обучающей выборки\n",
    "features_train[numeric] = scaler.transform(features_train[numeric])\n",
    "features_train.head()"
   ]
  },
  {
   "cell_type": "code",
   "execution_count": 18,
   "metadata": {},
   "outputs": [
    {
     "data": {
      "text/html": [
       "<div>\n",
       "<style scoped>\n",
       "    .dataframe tbody tr th:only-of-type {\n",
       "        vertical-align: middle;\n",
       "    }\n",
       "\n",
       "    .dataframe tbody tr th {\n",
       "        vertical-align: top;\n",
       "    }\n",
       "\n",
       "    .dataframe thead th {\n",
       "        text-align: right;\n",
       "    }\n",
       "</style>\n",
       "<table border=\"1\" class=\"dataframe\">\n",
       "  <thead>\n",
       "    <tr style=\"text-align: right;\">\n",
       "      <th></th>\n",
       "      <th>CreditScore</th>\n",
       "      <th>Age</th>\n",
       "      <th>Tenure</th>\n",
       "      <th>Balance</th>\n",
       "      <th>NumOfProducts</th>\n",
       "      <th>HasCrCard</th>\n",
       "      <th>IsActiveMember</th>\n",
       "      <th>EstimatedSalary</th>\n",
       "      <th>Gender_Male</th>\n",
       "      <th>Geography_Germany</th>\n",
       "      <th>Geography_Spain</th>\n",
       "    </tr>\n",
       "  </thead>\n",
       "  <tbody>\n",
       "    <tr>\n",
       "      <th>1994</th>\n",
       "      <td>0.560774</td>\n",
       "      <td>0.970454</td>\n",
       "      <td>0.715152</td>\n",
       "      <td>-1.221559</td>\n",
       "      <td>1</td>\n",
       "      <td>1</td>\n",
       "      <td>0</td>\n",
       "      <td>-0.636267</td>\n",
       "      <td>0</td>\n",
       "      <td>0</td>\n",
       "      <td>0</td>\n",
       "    </tr>\n",
       "    <tr>\n",
       "      <th>4536</th>\n",
       "      <td>-0.091805</td>\n",
       "      <td>1.542852</td>\n",
       "      <td>0.715152</td>\n",
       "      <td>-1.221559</td>\n",
       "      <td>2</td>\n",
       "      <td>1</td>\n",
       "      <td>1</td>\n",
       "      <td>0.025694</td>\n",
       "      <td>0</td>\n",
       "      <td>0</td>\n",
       "      <td>0</td>\n",
       "    </tr>\n",
       "    <tr>\n",
       "      <th>2040</th>\n",
       "      <td>-1.075851</td>\n",
       "      <td>-0.078943</td>\n",
       "      <td>-0.005586</td>\n",
       "      <td>1.463024</td>\n",
       "      <td>1</td>\n",
       "      <td>0</td>\n",
       "      <td>1</td>\n",
       "      <td>1.027768</td>\n",
       "      <td>0</td>\n",
       "      <td>0</td>\n",
       "      <td>0</td>\n",
       "    </tr>\n",
       "    <tr>\n",
       "      <th>5823</th>\n",
       "      <td>1.037259</td>\n",
       "      <td>1.161253</td>\n",
       "      <td>0.715152</td>\n",
       "      <td>1.151123</td>\n",
       "      <td>1</td>\n",
       "      <td>1</td>\n",
       "      <td>0</td>\n",
       "      <td>0.805509</td>\n",
       "      <td>0</td>\n",
       "      <td>1</td>\n",
       "      <td>0</td>\n",
       "    </tr>\n",
       "    <tr>\n",
       "      <th>2715</th>\n",
       "      <td>-0.019296</td>\n",
       "      <td>-0.078943</td>\n",
       "      <td>-1.447061</td>\n",
       "      <td>0.736741</td>\n",
       "      <td>1</td>\n",
       "      <td>0</td>\n",
       "      <td>1</td>\n",
       "      <td>-0.192298</td>\n",
       "      <td>1</td>\n",
       "      <td>0</td>\n",
       "      <td>0</td>\n",
       "    </tr>\n",
       "  </tbody>\n",
       "</table>\n",
       "</div>"
      ],
      "text/plain": [
       "      CreditScore       Age    Tenure   Balance  NumOfProducts  HasCrCard  \\\n",
       "1994     0.560774  0.970454  0.715152 -1.221559              1          1   \n",
       "4536    -0.091805  1.542852  0.715152 -1.221559              2          1   \n",
       "2040    -1.075851 -0.078943 -0.005586  1.463024              1          0   \n",
       "5823     1.037259  1.161253  0.715152  1.151123              1          1   \n",
       "2715    -0.019296 -0.078943 -1.447061  0.736741              1          0   \n",
       "\n",
       "      IsActiveMember  EstimatedSalary  Gender_Male  Geography_Germany  \\\n",
       "1994               0        -0.636267            0                  0   \n",
       "4536               1         0.025694            0                  0   \n",
       "2040               1         1.027768            0                  0   \n",
       "5823               0         0.805509            0                  1   \n",
       "2715               1        -0.192298            1                  0   \n",
       "\n",
       "      Geography_Spain  \n",
       "1994                0  \n",
       "4536                0  \n",
       "2040                0  \n",
       "5823                0  \n",
       "2715                0  "
      ]
     },
     "execution_count": 18,
     "metadata": {},
     "output_type": "execute_result"
    }
   ],
   "source": [
    "#Масштабируем численные признаки валидационной выборки \n",
    "features_valid[numeric] = scaler.transform(features_valid[numeric])\n",
    "features_valid.head()"
   ]
  },
  {
   "cell_type": "code",
   "execution_count": 19,
   "metadata": {
    "scrolled": false
   },
   "outputs": [
    {
     "data": {
      "text/html": [
       "<div>\n",
       "<style scoped>\n",
       "    .dataframe tbody tr th:only-of-type {\n",
       "        vertical-align: middle;\n",
       "    }\n",
       "\n",
       "    .dataframe tbody tr th {\n",
       "        vertical-align: top;\n",
       "    }\n",
       "\n",
       "    .dataframe thead th {\n",
       "        text-align: right;\n",
       "    }\n",
       "</style>\n",
       "<table border=\"1\" class=\"dataframe\">\n",
       "  <thead>\n",
       "    <tr style=\"text-align: right;\">\n",
       "      <th></th>\n",
       "      <th>CreditScore</th>\n",
       "      <th>Age</th>\n",
       "      <th>Tenure</th>\n",
       "      <th>Balance</th>\n",
       "      <th>NumOfProducts</th>\n",
       "      <th>HasCrCard</th>\n",
       "      <th>IsActiveMember</th>\n",
       "      <th>EstimatedSalary</th>\n",
       "      <th>Gender_Male</th>\n",
       "      <th>Geography_Germany</th>\n",
       "      <th>Geography_Spain</th>\n",
       "    </tr>\n",
       "  </thead>\n",
       "  <tbody>\n",
       "    <tr>\n",
       "      <th>7867</th>\n",
       "      <td>-0.112521</td>\n",
       "      <td>0.684255</td>\n",
       "      <td>-0.726324</td>\n",
       "      <td>-1.221559</td>\n",
       "      <td>1</td>\n",
       "      <td>1</td>\n",
       "      <td>1</td>\n",
       "      <td>0.976576</td>\n",
       "      <td>0</td>\n",
       "      <td>0</td>\n",
       "      <td>1</td>\n",
       "    </tr>\n",
       "    <tr>\n",
       "      <th>1402</th>\n",
       "      <td>1.099410</td>\n",
       "      <td>-0.937541</td>\n",
       "      <td>1.075521</td>\n",
       "      <td>0.866412</td>\n",
       "      <td>1</td>\n",
       "      <td>1</td>\n",
       "      <td>0</td>\n",
       "      <td>-0.391979</td>\n",
       "      <td>1</td>\n",
       "      <td>0</td>\n",
       "      <td>0</td>\n",
       "    </tr>\n",
       "    <tr>\n",
       "      <th>8606</th>\n",
       "      <td>1.617329</td>\n",
       "      <td>0.302656</td>\n",
       "      <td>-0.005586</td>\n",
       "      <td>-1.221559</td>\n",
       "      <td>2</td>\n",
       "      <td>1</td>\n",
       "      <td>1</td>\n",
       "      <td>-0.436593</td>\n",
       "      <td>1</td>\n",
       "      <td>0</td>\n",
       "      <td>1</td>\n",
       "    </tr>\n",
       "    <tr>\n",
       "      <th>8885</th>\n",
       "      <td>0.177513</td>\n",
       "      <td>0.588855</td>\n",
       "      <td>-0.365955</td>\n",
       "      <td>0.420632</td>\n",
       "      <td>2</td>\n",
       "      <td>1</td>\n",
       "      <td>1</td>\n",
       "      <td>1.013385</td>\n",
       "      <td>1</td>\n",
       "      <td>0</td>\n",
       "      <td>1</td>\n",
       "    </tr>\n",
       "    <tr>\n",
       "      <th>6494</th>\n",
       "      <td>0.498623</td>\n",
       "      <td>-1.032940</td>\n",
       "      <td>0.715152</td>\n",
       "      <td>-1.221559</td>\n",
       "      <td>2</td>\n",
       "      <td>1</td>\n",
       "      <td>1</td>\n",
       "      <td>-1.343561</td>\n",
       "      <td>1</td>\n",
       "      <td>0</td>\n",
       "      <td>0</td>\n",
       "    </tr>\n",
       "  </tbody>\n",
       "</table>\n",
       "</div>"
      ],
      "text/plain": [
       "      CreditScore       Age    Tenure   Balance  NumOfProducts  HasCrCard  \\\n",
       "7867    -0.112521  0.684255 -0.726324 -1.221559              1          1   \n",
       "1402     1.099410 -0.937541  1.075521  0.866412              1          1   \n",
       "8606     1.617329  0.302656 -0.005586 -1.221559              2          1   \n",
       "8885     0.177513  0.588855 -0.365955  0.420632              2          1   \n",
       "6494     0.498623 -1.032940  0.715152 -1.221559              2          1   \n",
       "\n",
       "      IsActiveMember  EstimatedSalary  Gender_Male  Geography_Germany  \\\n",
       "7867               1         0.976576            0                  0   \n",
       "1402               0        -0.391979            1                  0   \n",
       "8606               1        -0.436593            1                  0   \n",
       "8885               1         1.013385            1                  0   \n",
       "6494               1        -1.343561            1                  0   \n",
       "\n",
       "      Geography_Spain  \n",
       "7867                1  \n",
       "1402                0  \n",
       "8606                1  \n",
       "8885                1  \n",
       "6494                0  "
      ]
     },
     "execution_count": 19,
     "metadata": {},
     "output_type": "execute_result"
    }
   ],
   "source": [
    "\n",
    "#Масштабируем численные признаки тестовой выборки \n",
    "features_test[numeric] = scaler.transform(features_test[numeric])\n",
    "features_test.head()"
   ]
  },
  {
   "cell_type": "markdown",
   "metadata": {},
   "source": [
    "**Проверим, разделился ли датасет в назначенных пропорциях**"
   ]
  },
  {
   "cell_type": "code",
   "execution_count": 20,
   "metadata": {},
   "outputs": [
    {
     "data": {
      "text/plain": [
       "(6000,)"
      ]
     },
     "execution_count": 20,
     "metadata": {},
     "output_type": "execute_result"
    }
   ],
   "source": [
    "target_train.shape"
   ]
  },
  {
   "cell_type": "code",
   "execution_count": 21,
   "metadata": {},
   "outputs": [
    {
     "data": {
      "text/plain": [
       "0.6"
      ]
     },
     "execution_count": 21,
     "metadata": {},
     "output_type": "execute_result"
    }
   ],
   "source": [
    "\n",
    "round(len(target_train) / len(df), 3)"
   ]
  },
  {
   "cell_type": "code",
   "execution_count": 22,
   "metadata": {},
   "outputs": [
    {
     "data": {
      "text/plain": [
       "(2000,)"
      ]
     },
     "execution_count": 22,
     "metadata": {},
     "output_type": "execute_result"
    }
   ],
   "source": [
    "target_test.shape"
   ]
  },
  {
   "cell_type": "code",
   "execution_count": 23,
   "metadata": {},
   "outputs": [
    {
     "data": {
      "text/plain": [
       "0.2"
      ]
     },
     "execution_count": 23,
     "metadata": {},
     "output_type": "execute_result"
    }
   ],
   "source": [
    "round(len(target_test) / len(df), 3)"
   ]
  },
  {
   "cell_type": "code",
   "execution_count": 24,
   "metadata": {},
   "outputs": [
    {
     "data": {
      "text/plain": [
       "(2000,)"
      ]
     },
     "execution_count": 24,
     "metadata": {},
     "output_type": "execute_result"
    }
   ],
   "source": [
    "target_valid.shape"
   ]
  },
  {
   "cell_type": "code",
   "execution_count": 25,
   "metadata": {},
   "outputs": [
    {
     "data": {
      "text/plain": [
       "0.2"
      ]
     },
     "execution_count": 25,
     "metadata": {},
     "output_type": "execute_result"
    }
   ],
   "source": [
    "round(len(target_valid) / len(df), 3)"
   ]
  },
  {
   "cell_type": "markdown",
   "metadata": {},
   "source": [
    "Данные разделены на 3 выборки согласно заданным параметрам."
   ]
  },
  {
   "cell_type": "markdown",
   "metadata": {},
   "source": [
    "## Борьба с дисбалансом"
   ]
  },
  {
   "cell_type": "code",
   "execution_count": 26,
   "metadata": {},
   "outputs": [
    {
     "data": {
      "text/plain": [
       "0    0.7945\n",
       "1    0.2055\n",
       "Name: Exited, dtype: float64"
      ]
     },
     "execution_count": 26,
     "metadata": {},
     "output_type": "execute_result"
    }
   ],
   "source": [
    "target_train.value_counts(normalize = 1)"
   ]
  },
  {
   "cell_type": "markdown",
   "metadata": {},
   "source": [
    "Сравним качество предсказаний с константной моделью. За константу примем пример 0, так как это значение встречается почти в 80% случаев"
   ]
  },
  {
   "cell_type": "code",
   "execution_count": 27,
   "metadata": {},
   "outputs": [
    {
     "name": "stdout",
     "output_type": "stream",
     "text": [
      "0.8115\n"
     ]
    }
   ],
   "source": [
    "target_pred_constant = pd.Series([0]*len(target_valid))\n",
    "print(accuracy_score(target_valid, target_pred_constant))"
   ]
  },
  {
   "cell_type": "markdown",
   "metadata": {},
   "source": [
    "Как мы выяснили в нашей выборке отрицательны ответов ≈80% , положитительных ≈ 20%. С уверенностью можем сказать что имеется дисбаланс."
   ]
  },
  {
   "cell_type": "markdown",
   "metadata": {},
   "source": [
    " **Проверка моделей без учета дисбаланса**"
   ]
  },
  {
   "cell_type": "markdown",
   "metadata": {},
   "source": [
    "**Дерово решений(DecisionTreeClassifier)**"
   ]
  },
  {
   "cell_type": "code",
   "execution_count": 28,
   "metadata": {},
   "outputs": [
    {
     "name": "stdout",
     "output_type": "stream",
     "text": [
      "Оптимальная глубина дерева = 7\n",
      "Качество модели -  0.5501618122977346\n"
     ]
    }
   ],
   "source": [
    "\n",
    "# дерево решений - подберем лучшие гиперпараметры\n",
    "best_model = None\n",
    "best_f1 = 0\n",
    "for depth in range(1, 10):\n",
    "    model_tree = DecisionTreeClassifier(random_state=12345,\n",
    "                                        max_depth=depth)\n",
    "    model_tree.fit(features_train, target_train)\n",
    "    predictions_valid_tree = model_tree.predict(features_valid)\n",
    "    f1_tree = f1_score(target_valid, predictions_valid_tree)\n",
    "    if f1_tree > best_f1:\n",
    "        best_model = model_tree\n",
    "        best_depth = depth\n",
    "        best_f1 = f1_tree\n",
    "        \n",
    "\n",
    "print('Оптимальная глубина дерева =', best_depth) \n",
    "print('Качество модели - ', f1_tree)"
   ]
  },
  {
   "cell_type": "code",
   "execution_count": 29,
   "metadata": {},
   "outputs": [],
   "source": [
    "# обучаем модель с оптимальными значениями гиперпараметров\n",
    "model_tree = DecisionTreeClassifier(random_state=12345,\n",
    "                                    max_depth=7)\n",
    "model_tree.fit(features_train, target_train)\n",
    "predictions_valid_tree = model_tree.predict(features_valid)"
   ]
  },
  {
   "cell_type": "code",
   "execution_count": 30,
   "metadata": {
    "scrolled": true
   },
   "outputs": [
    {
     "name": "stdout",
     "output_type": "stream",
     "text": [
      "Accuracy_tree: 0.865\n",
      "Recall_tree: 0.4907161803713528\n",
      "Precision_tree: 0.7034220532319392\n",
      "F1_tree: 0.578125\n"
     ]
    }
   ],
   "source": [
    "\n",
    "print(\"Accuracy_tree:\", accuracy_score(target_valid, predictions_valid_tree))\n",
    "print(\"Recall_tree:\", recall_score(target_valid, predictions_valid_tree))\n",
    "print(\"Precision_tree:\", precision_score(target_valid, predictions_valid_tree))\n",
    "print(\"F1_tree:\", f1_score(target_valid, predictions_valid_tree))"
   ]
  },
  {
   "cell_type": "markdown",
   "metadata": {},
   "source": [
    "**Случайный лес(RandomForestClassifier)**"
   ]
  },
  {
   "cell_type": "code",
   "execution_count": 31,
   "metadata": {},
   "outputs": [
    {
     "name": "stdout",
     "output_type": "stream",
     "text": [
      "Оптимальное количество оценок = 100\n",
      "Оптимальная глубина дерева = 9\n",
      "Качество модели -  0.5559322033898306\n"
     ]
    }
   ],
   "source": [
    "best_model = None\n",
    "best_f1 = 0\n",
    "for depth in range(1,10):\n",
    "    for est in range(10, 101, 10):\n",
    "        model = RandomForestClassifier(random_state = 12345,\n",
    "                                      n_estimators = est,\n",
    "                                      max_depth = depth)\n",
    "        model.fit(features_train, target_train)\n",
    "        predictions_valid_forest = model.predict(features_valid)\n",
    "        f1_forest = f1_score(target_valid, predictions_valid_forest)\n",
    "        if f1_forest > best_f1:\n",
    "            best_model = model\n",
    "            best_est = est\n",
    "            best_depth = depth\n",
    "\n",
    "print('Оптимальное количество оценок =', best_est)\n",
    "print('Оптимальная глубина дерева =', best_depth)\n",
    "print('Качество модели - ', f1_forest)"
   ]
  },
  {
   "cell_type": "code",
   "execution_count": 32,
   "metadata": {},
   "outputs": [],
   "source": [
    "# обучаем модель с оптимальными значениями гиперпараметров\n",
    "\n",
    "model = RandomForestClassifier(random_state=12345, \n",
    "                                      n_estimators=100, \n",
    "                                      max_depth=9)\n",
    "model.fit(features_train, target_train)\n",
    "predictions_valid_forest = model.predict(features_valid)"
   ]
  },
  {
   "cell_type": "code",
   "execution_count": 33,
   "metadata": {},
   "outputs": [
    {
     "name": "stdout",
     "output_type": "stream",
     "text": [
      "Accuracy_forest: 0.869\n",
      "Recall_forest: 0.4350132625994695\n",
      "Precision_forest: 0.7699530516431925\n",
      "F1_forest: 0.5559322033898306\n"
     ]
    }
   ],
   "source": [
    "\n",
    "print(\"Accuracy_forest:\", accuracy_score(target_valid, predictions_valid_forest))\n",
    "print(\"Recall_forest:\", recall_score(target_valid, predictions_valid_forest))\n",
    "print(\"Precision_forest:\", precision_score(target_valid, predictions_valid_forest))\n",
    "print(\"F1_forest:\", f1_score(target_valid, predictions_valid_forest))"
   ]
  },
  {
   "cell_type": "markdown",
   "metadata": {},
   "source": [
    "**Логистическая регрессия(LogisticRegression)**"
   ]
  },
  {
   "cell_type": "code",
   "execution_count": 34,
   "metadata": {},
   "outputs": [],
   "source": [
    "\n",
    "model_log = LogisticRegression(random_state=12345,\n",
    "                               solver='liblinear')\n",
    "# обучаем модель на тренировочной выборке\n",
    "model_log.fit(features_train, target_train)\n",
    "# получаем предсказания на валидационной выборке\n",
    "predictions_valid_log = model_log.predict(features_valid)"
   ]
  },
  {
   "cell_type": "code",
   "execution_count": 35,
   "metadata": {},
   "outputs": [
    {
     "name": "stdout",
     "output_type": "stream",
     "text": [
      "Accuracy_log: 0.8215\n",
      "Recall_log: 0.246684350132626\n",
      "Precision_log: 0.5602409638554217\n",
      "F1_log: 0.34254143646408836\n"
     ]
    }
   ],
   "source": [
    "\n",
    "print(\"Accuracy_log:\", accuracy_score(target_valid, predictions_valid_log))\n",
    "print(\"Recall_log:\", recall_score(target_valid, predictions_valid_log))\n",
    "print(\"Precision_log:\", precision_score(target_valid, predictions_valid_log))\n",
    "print(\"F1_log:\", f1_score(target_valid, predictions_valid_log))"
   ]
  },
  {
   "cell_type": "markdown",
   "metadata": {},
   "source": [
    "**Вывод**\n",
    "\n",
    "Без учёта дисбаланса наибольшее значение F1 наблюдается решений и случайный лес - 0.58 и 0.59 соответственно. Проверим эти 2 модели."
   ]
  },
  {
   "cell_type": "code",
   "execution_count": 36,
   "metadata": {},
   "outputs": [
    {
     "data": {
      "text/plain": [
       "<sklearn.metrics._plot.confusion_matrix.ConfusionMatrixDisplay at 0x1c9ccd162e0>"
      ]
     },
     "execution_count": 36,
     "metadata": {},
     "output_type": "execute_result"
    },
    {
     "data": {
      "image/png": "[encoded data removed]",
      "text/plain": [
       "<Figure size 640x480 with 2 Axes>"
      ]
     },
     "metadata": {},
     "output_type": "display_data"
    }
   ],
   "source": [
    "# построим матрицу ошибок, чтобы посмотреть на соотношения TP, TN, FP и FN\n",
    "plot_confusion_matrix(estimator=model_tree, X=features_valid, y_true=target_valid,\n",
    "                      normalize='true', cmap='Reds')"
   ]
  },
  {
   "cell_type": "code",
   "execution_count": 37,
   "metadata": {},
   "outputs": [
    {
     "data": {
      "text/plain": [
       "<sklearn.metrics._plot.confusion_matrix.ConfusionMatrixDisplay at 0x1c9ccd25730>"
      ]
     },
     "execution_count": 37,
     "metadata": {},
     "output_type": "execute_result"
    },
    {
     "data": {
      "image/png": "[encoded data removed]",
      "text/plain": [
       "<Figure size 640x480 with 2 Axes>"
      ]
     },
     "metadata": {},
     "output_type": "display_data"
    }
   ],
   "source": [
    "# построим матрицу ошибок, чтобы посмотреть на соотношения TP, TN, FP и FN \n",
    "plot_confusion_matrix(estimator=model, X=features_valid, y_true=target_valid,\n",
    "                      normalize='true', cmap='Blues')"
   ]
  },
  {
   "cell_type": "code",
   "execution_count": 38,
   "metadata": {},
   "outputs": [
    {
     "data": {
      "text/plain": [
       "<sklearn.metrics._plot.confusion_matrix.ConfusionMatrixDisplay at 0x1c9cccdad30>"
      ]
     },
     "execution_count": 38,
     "metadata": {},
     "output_type": "execute_result"
    },
    {
     "data": {
      "image/png": "[encoded data removed]",
      "text/plain": [
       "<Figure size 640x480 with 2 Axes>"
      ]
     },
     "metadata": {},
     "output_type": "display_data"
    }
   ],
   "source": [
    "# построим матрицу ошибок, чтобы посмотреть на соотношения TP, TN, FP и FN \n",
    "plot_confusion_matrix(estimator=model_log, X=features_valid, y_true=target_valid,\n",
    "                      normalize='true', cmap='Purples')"
   ]
  },
  {
   "cell_type": "markdown",
   "metadata": {},
   "source": [
    "Несмотря наа высокие Accuracy,\n",
    "Матрицы ошибок показалИ сильный дисбаланас классов"
   ]
  },
  {
   "cell_type": "markdown",
   "metadata": {},
   "source": [
    "**3 метода борьбы с дисбалансом классов:**\n",
    "\n",
    "* Взвешивание классов\n",
    "* Увеличение выборки (upsampling)\n",
    "* Уменьшение выборки (downsampling)"
   ]
  },
  {
   "cell_type": "markdown",
   "metadata": {},
   "source": [
    "### Взвешивание классов"
   ]
  },
  {
   "cell_type": "markdown",
   "metadata": {},
   "source": [
    "**Дерево решений**"
   ]
  },
  {
   "cell_type": "code",
   "execution_count": 39,
   "metadata": {},
   "outputs": [
    {
     "name": "stdout",
     "output_type": "stream",
     "text": [
      "Оптимальная глубина дерева = 6\n",
      "Качество модели -  0.5172074729596854\n"
     ]
    }
   ],
   "source": [
    "best_model = None\n",
    "best_f1 = 0\n",
    "for depth in range(1, 10):\n",
    "    model_tree = DecisionTreeClassifier(random_state=12345,\n",
    "                                        max_depth=depth,\n",
    "                                        class_weight='balanced')\n",
    "    model_tree.fit(features_train, target_train)\n",
    "    predictions_valid_tree = model_tree.predict(features_valid)\n",
    "    f1_tree = f1_score(target_valid, predictions_valid_tree)\n",
    "    if f1_tree > best_f1:\n",
    "        best_model = model_tree\n",
    "        best_depth = depth\n",
    "        best_f1 = f1_tree\n",
    "\n",
    "print('Оптимальная глубина дерева =', best_depth) \n",
    "print('Качество модели - ', f1_tree)\n"
   ]
  },
  {
   "cell_type": "code",
   "execution_count": 40,
   "metadata": {},
   "outputs": [],
   "source": [
    "# обучаем модель с оптимальными значениями гиперпараметров\n",
    "model_tree = DecisionTreeClassifier(random_state=12345,\n",
    "                                    max_depth=6,\n",
    "                                    class_weight='balanced')\n",
    "model_tree.fit(features_train, target_train)\n",
    "predictions_valid_tree = model_tree.predict(features_valid)"
   ]
  },
  {
   "cell_type": "code",
   "execution_count": 41,
   "metadata": {},
   "outputs": [
    {
     "name": "stdout",
     "output_type": "stream",
     "text": [
      "Recall_tree: 0.7320954907161804\n",
      "Precision_tree: 0.4437299035369775\n",
      "F1_tree: 0.5525525525525525\n",
      "ROC-AUC_tree: 0.8385582908815747\n"
     ]
    }
   ],
   "source": [
    "print(\"Recall_tree:\", recall_score(target_valid, predictions_valid_tree))\n",
    "print(\"Precision_tree:\", precision_score(target_valid, predictions_valid_tree))\n",
    "print(\"F1_tree:\", f1_score(target_valid, predictions_valid_tree))\n",
    "\n",
    "probabilities_valid = model_tree.predict_proba(features_valid)\n",
    "probabilities_one_valid = probabilities_valid[:, 1]\n",
    "print(\"ROC-AUC_tree:\", roc_auc_score(target_valid, probabilities_one_valid))"
   ]
  },
  {
   "cell_type": "markdown",
   "metadata": {},
   "source": [
    "**Случайный лес**"
   ]
  },
  {
   "cell_type": "code",
   "execution_count": 42,
   "metadata": {},
   "outputs": [
    {
     "name": "stdout",
     "output_type": "stream",
     "text": [
      "Оптимальное количество оценок = 100\n",
      "Оптимальная глубина дерева = 9\n",
      "Качество модели -  0.5902439024390244\n"
     ]
    }
   ],
   "source": [
    "# случайный лес - подберем лучшие гиперпараметры\n",
    "best_model = None\n",
    "for est in range(10, 101, 10):\n",
    "    for depth in range(1, 10):\n",
    "        model = RandomForestClassifier(random_state=12345,\n",
    "                                              n_estimators=est, \n",
    "                                              max_depth=depth,\n",
    "                                              class_weight='balanced')\n",
    "        model.fit(features_train, target_train)\n",
    "        predictions_valid_forest = model.predict(features_valid)\n",
    "        f1_forest = f1_score(target_valid, predictions_valid_forest)\n",
    "        if f1_forest > best_f1:\n",
    "            best_model = model\n",
    "            best_est = est\n",
    "            best_depth = depth\n",
    "\n",
    "print('Оптимальное количество оценок =', best_est)\n",
    "print('Оптимальная глубина дерева =', best_depth)\n",
    "print('Качество модели - ', f1_forest)"
   ]
  },
  {
   "cell_type": "code",
   "execution_count": 43,
   "metadata": {},
   "outputs": [
    {
     "data": {
      "text/plain": [
       "0.5902439024390244"
      ]
     },
     "execution_count": 43,
     "metadata": {},
     "output_type": "execute_result"
    }
   ],
   "source": [
    "# код ревьюера\n",
    "f1_forest"
   ]
  },
  {
   "cell_type": "code",
   "execution_count": 44,
   "metadata": {},
   "outputs": [],
   "source": [
    "# обучаем модель с оптимальными значениями гиперпараметров\n",
    "model = RandomForestClassifier(random_state=12345, \n",
    "                                      n_estimators=100, \n",
    "                                      max_depth=9,\n",
    "                                      class_weight='balanced')\n",
    "model.fit(features_train, target_train)\n",
    "predictions_valid_forest = model.predict(features_valid)"
   ]
  },
  {
   "cell_type": "code",
   "execution_count": 45,
   "metadata": {},
   "outputs": [
    {
     "name": "stdout",
     "output_type": "stream",
     "text": [
      "Recall_forest: 0.6419098143236074\n",
      "Precision_forest: 0.54627539503386\n",
      "F1_forest: 0.5902439024390244\n",
      "ROC-AUC_forest: 0.8463989958667758\n"
     ]
    }
   ],
   "source": [
    "print(\"Recall_forest:\", recall_score(target_valid, predictions_valid_forest))\n",
    "print(\"Precision_forest:\", precision_score(target_valid, predictions_valid_forest))\n",
    "print(\"F1_forest:\", f1_score(target_valid, predictions_valid_forest))\n",
    "\n",
    "probabilities_valid = model.predict_proba(features_valid)\n",
    "probabilities_one_valid = probabilities_valid[:, 1]\n",
    "print(\"ROC-AUC_forest:\", roc_auc_score(target_valid, probabilities_one_valid))"
   ]
  },
  {
   "cell_type": "markdown",
   "metadata": {},
   "source": [
    "**Логистическая регрессия**"
   ]
  },
  {
   "cell_type": "code",
   "execution_count": 46,
   "metadata": {},
   "outputs": [],
   "source": [
    "model_log = LogisticRegression(random_state=12345,\n",
    "                               solver='liblinear',\n",
    "                               class_weight='balanced')\n",
    "\n",
    "model_log.fit(features_train, target_train)\n",
    "predictions_valid_log = model_log.predict(features_valid)"
   ]
  },
  {
   "cell_type": "code",
   "execution_count": 47,
   "metadata": {},
   "outputs": [
    {
     "name": "stdout",
     "output_type": "stream",
     "text": [
      "Recall_log: 0.6710875331564987\n",
      "Precision_log: 0.3418918918918919\n",
      "F1_log: 0.45299910474485233\n",
      "ROC-AUC_log: 0.7596911767349653\n"
     ]
    }
   ],
   "source": [
    "print(\"Recall_log:\", recall_score(target_valid, predictions_valid_log))\n",
    "print(\"Precision_log:\", precision_score(target_valid, predictions_valid_log))\n",
    "print(\"F1_log:\", f1_score(target_valid, predictions_valid_log))\n",
    "\n",
    "probabilities_valid = model_log.predict_proba(features_valid)\n",
    "probabilities_one_valid = probabilities_valid[:, 1]\n",
    "print(\"ROC-AUC_log:\", roc_auc_score(target_valid, probabilities_one_valid))"
   ]
  },
  {
   "cell_type": "markdown",
   "metadata": {},
   "source": [
    "### Уменьшение выборки (downsampling)"
   ]
  },
  {
   "cell_type": "code",
   "execution_count": 48,
   "metadata": {},
   "outputs": [
    {
     "name": "stdout",
     "output_type": "stream",
     "text": [
      "(2425, 11)\n",
      "(2425,)\n"
     ]
    }
   ],
   "source": [
    "def downsample(features, target, fraction):\n",
    "    features_zeros = features[target == 0]\n",
    "    features_ones = features[target == 1]\n",
    "    target_zeros = target[target == 0]\n",
    "    target_ones = target[target == 1]\n",
    "\n",
    "\n",
    "    features_downsampled = pd.concat([features_zeros.sample(frac=fraction, random_state=12345)] +\n",
    "                                     [features_ones])\n",
    "    target_downsampled = pd.concat([target_zeros.sample(frac=fraction, random_state=12345)] +\n",
    "                                   [target_ones])\n",
    "    \n",
    "    features_downsampled = shuffle(features_downsampled, random_state=12345)\n",
    "    target_downsampled = shuffle(target_downsampled, random_state=12345)\n",
    "\n",
    "    return features_downsampled, target_downsampled\n",
    "\n",
    "features_downsampled, target_downsampled = downsample(features_train, target_train, 0.25)\n",
    "\n",
    "print(features_downsampled.shape)\n",
    "print(target_downsampled.shape)"
   ]
  },
  {
   "cell_type": "markdown",
   "metadata": {},
   "source": [
    "**Дерево решений**"
   ]
  },
  {
   "cell_type": "code",
   "execution_count": 49,
   "metadata": {},
   "outputs": [
    {
     "name": "stdout",
     "output_type": "stream",
     "text": [
      "Recall_tree: 0.6763925729442971\n",
      "Precision_tree: 0.4242928452579035\n",
      "F1_tree: 0.5214723926380368\n",
      "ROC-AUC_tree: 0.7889808472700945\n"
     ]
    }
   ],
   "source": [
    "model_tree = DecisionTreeClassifier(random_state=12345,\n",
    "                                    max_depth=7)\n",
    "model_tree.fit(features_downsampled, target_downsampled)\n",
    "predictions_valid_tree = model_tree.predict(features_valid)\n",
    "\n",
    "print(\"Recall_tree:\", recall_score(target_valid, predictions_valid_tree))\n",
    "print(\"Precision_tree:\", precision_score(target_valid, predictions_valid_tree))\n",
    "print(\"F1_tree:\", f1_score(target_valid, predictions_valid_tree))\n",
    "\n",
    "probabilities_valid = model_tree.predict_proba(features_valid)\n",
    "probabilities_one_valid = probabilities_valid[:, 1]\n",
    "print(\"ROC-AUC_tree:\", roc_auc_score(target_valid, probabilities_one_valid))"
   ]
  },
  {
   "cell_type": "markdown",
   "metadata": {},
   "source": [
    "**Случайный лес**"
   ]
  },
  {
   "cell_type": "code",
   "execution_count": 50,
   "metadata": {},
   "outputs": [
    {
     "name": "stdout",
     "output_type": "stream",
     "text": [
      "Recall_forest: 0.7427055702917772\n",
      "Precision_forest: 0.4148148148148148\n",
      "F1_forest: 0.532319391634981\n",
      "ROC-AUC_forest: 0.830123506425374\n"
     ]
    }
   ],
   "source": [
    "model = RandomForestClassifier(random_state=12345, \n",
    "                                      n_estimators=10, \n",
    "                                      max_depth=9)\n",
    "model.fit(features_downsampled, target_downsampled)\n",
    "predictions_valid_forest = model.predict(features_valid)\n",
    "\n",
    "print(\"Recall_forest:\", recall_score(target_valid, predictions_valid_forest))\n",
    "print(\"Precision_forest:\", precision_score(target_valid, predictions_valid_forest))\n",
    "print(\"F1_forest:\", f1_score(target_valid, predictions_valid_forest))\n",
    "\n",
    "probabilities_valid = model.predict_proba(features_valid)\n",
    "probabilities_one_valid = probabilities_valid[:, 1]\n",
    "print(\"ROC-AUC_forest:\", roc_auc_score(target_valid, probabilities_one_valid))"
   ]
  },
  {
   "cell_type": "markdown",
   "metadata": {},
   "source": [
    "**Логическая регрессия**"
   ]
  },
  {
   "cell_type": "code",
   "execution_count": 51,
   "metadata": {},
   "outputs": [
    {
     "name": "stdout",
     "output_type": "stream",
     "text": [
      "Recall_log: 0.6976127320954907\n",
      "Precision_log: 0.3478835978835979\n",
      "F1_log: 0.4642541924095323\n",
      "ROC-AUC_log: 0.7632196982697335\n"
     ]
    }
   ],
   "source": [
    "model_log = LogisticRegression(random_state=12345,\n",
    "                               solver='liblinear')\n",
    "\n",
    "model_log.fit(features_downsampled, target_downsampled)\n",
    "predictions_valid_log = model_log.predict(features_valid)\n",
    "\n",
    "print(\"Recall_log:\", recall_score(target_valid, predictions_valid_log))\n",
    "print(\"Precision_log:\", precision_score(target_valid, predictions_valid_log))\n",
    "print(\"F1_log:\", f1_score(target_valid, predictions_valid_log))\n",
    "\n",
    "probabilities_valid = model_log.predict_proba(features_valid)\n",
    "probabilities_one_valid = probabilities_valid[:, 1]\n",
    "print(\"ROC-AUC_log:\", roc_auc_score(target_valid, probabilities_one_valid))"
   ]
  },
  {
   "cell_type": "markdown",
   "metadata": {},
   "source": [
    "**Вывод**\n",
    "\n",
    "\n",
    "* Уменьшение и увеличение выборки позволяют достичь примерно одинаковое значение F1-score.\n",
    "\n",
    "* Наибольшее значение метрики F1-score получено на модели Случайный лес при помощи взвешивания классов. Поэтому для тестирования будем использовать эту модель.\n",
    "\n",
    "* Значение метрики AUC-ROC всегда стабильно выше F1-score\n"
   ]
  },
  {
   "cell_type": "markdown",
   "metadata": {},
   "source": [
    "## Тестирование модели"
   ]
  },
  {
   "cell_type": "code",
   "execution_count": 52,
   "metadata": {},
   "outputs": [
    {
     "name": "stdout",
     "output_type": "stream",
     "text": [
      "Recall_forest: 0.7728337236533958\n",
      "Precision_forest: 0.5271565495207667\n",
      "F1_forest: 0.6267806267806266\n",
      "ROC-AUC_forest: 0.8477014788490197\n"
     ]
    }
   ],
   "source": [
    "model_final = RandomForestClassifier(random_state=12345, \n",
    "                                      n_estimators=100, \n",
    "                                      max_depth=9,\n",
    "                                      class_weight='balanced')\n",
    "model_final.fit(features_downsampled, target_downsampled)\n",
    "predictions_test_forest = model_final.predict(features_test)\n",
    "\n",
    "print(\"Recall_forest:\", recall_score(target_test, predictions_test_forest))\n",
    "print(\"Precision_forest:\", precision_score(target_test, predictions_test_forest))\n",
    "print(\"F1_forest:\", f1_score(target_test, predictions_test_forest))\n",
    "\n",
    "probabilities_test = model.predict_proba(features_test)\n",
    "probabilities_one_test = probabilities_test[:, 1]\n",
    "print(\"ROC-AUC_forest:\", roc_auc_score(target_test, probabilities_one_test))"
   ]
  },
  {
   "cell_type": "code",
   "execution_count": 53,
   "metadata": {
    "scrolled": true
   },
   "outputs": [
    {
     "data": {
      "image/png": "[encoded data removed]",
      "text/plain": [
       "<Figure size 640x480 with 1 Axes>"
      ]
     },
     "metadata": {},
     "output_type": "display_data"
    }
   ],
   "source": [
    "fpr, tpr, thresholds = roc_curve(target_test, probabilities_one_test) \n",
    "\n",
    "plt.figure()\n",
    "plt.plot(fpr, tpr, linestyle='solid')\n",
    "plt.plot([0, 1], [0, 1], linestyle='--')\n",
    "plt.xlim([0.0, 1.0])\n",
    "plt.ylim([0.0, 1.0])\n",
    "plt.xlabel('False Positive Rate')\n",
    "plt.ylabel('True Positive Rate')\n",
    "plt.title('ROC-кривая')\n",
    "plt.show()"
   ]
  },
  {
   "cell_type": "markdown",
   "metadata": {},
   "source": [
    "**Вывод**\n",
    "\n",
    "* заполнены пропуски в данных\n",
    "* удалены 2 категориальных столбца CustomerId и Surname + RowNumber, так как они никак не влияют на качество обучения \n",
    "\n",
    "* 2 категориальных признака (Gender, Geography) были преобразованы в бинарные при помощи техники One-Hot Ecnoding\n",
    "\n",
    "* В первоначальные данных наблюдался значительный дисбаланс (80% ответов целевого признака были негативными и только 20% позитивными), из-за чего обученная на этих данных модель не проходила проверку на адекватность.\n",
    "\n",
    "\n",
    "* устранили дисбаланс классов в обучающей выборки методом upsampling — увеличили количество значений позитивного класса в 4 раза. \n",
    "\n",
    "\n",
    "* На новых данных все модели показали результат выше, чем на несбалансированной выборке. Лучшие показатели были у модели случайного леса:\n",
    "\n",
    "Recall_forest: 0.77\n",
    "\n",
    "Precision_forest: 0.52\n",
    "\n",
    "F1_forest: 0.62\n",
    "\n",
    "ROC-AUC_forest: 0.84\n",
    "\n",
    "* Далее, наилучшая модель была протестирована на тестовой выборке.\n",
    "Значения ключевых метрик получились следующие:\n",
    "\n",
    "F1-score = 0.64 (выше необходимого значения)\n",
    "\n",
    "AUC-ROC = 0.84 (достаточно близко к единице)"
   ]
  },
  {
   "cell_type": "markdown",
   "metadata": {
    "toc": true
   },
   "source": [
    "<h1>Содержание<span class=\"tocSkip\"></span></h1>\n",
    "<div class=\"toc\"><ul class=\"toc-item\"><li><span><a href=\"#Подготовка-данных\" data-toc-modified-id=\"Подготовка-данных-1\"><span class=\"toc-item-num\">1&nbsp;&nbsp;</span>Подготовка данных</a></span></li><li><span><a href=\"#Исследование-задачи\" data-toc-modified-id=\"Исследование-задачи-2\"><span class=\"toc-item-num\">2&nbsp;&nbsp;</span>Исследование задачи</a></span></li><li><span><a href=\"#Борьба-с-дисбалансом\" data-toc-modified-id=\"Борьба-с-дисбалансом-3\"><span class=\"toc-item-num\">3&nbsp;&nbsp;</span>Борьба с дисбалансом</a></span><ul class=\"toc-item\"><li><span><a href=\"#Взвешивание-классов\" data-toc-modified-id=\"Взвешивание-классов-3.1\"><span class=\"toc-item-num\">3.1&nbsp;&nbsp;</span>Взвешивание классов</a></span></li><li><span><a href=\"#Увеличение-выборки-(upsampling)\" data-toc-modified-id=\"Увеличение-выборки-(upsampling)-3.2\"><span class=\"toc-item-num\">3.2&nbsp;&nbsp;</span>Увеличение выборки (upsampling)</a></span></li><li><span><a href=\"#Уменьшение-выборки-(downsampling)\" data-toc-modified-id=\"Уменьшение-выборки-(downsampling)-3.3\"><span class=\"toc-item-num\">3.3&nbsp;&nbsp;</span>Уменьшение выборки (downsampling)</a></span></li></ul></li><li><span><a href=\"#Тестирование-модели\" data-toc-modified-id=\"Тестирование-модели-4\"><span class=\"toc-item-num\">4&nbsp;&nbsp;</span>Тестирование модели</a></span></li></ul></div>"
   ]
  }
 ],
 "metadata": {
  "ExecuteTimeLog": [
   {
    "duration": 1647,
    "start_time": "2023-07-28T06:31:12.852Z"
   },
   {
    "duration": 222,
    "start_time": "2023-07-28T06:32:30.351Z"
   },
   {
    "duration": 16,
    "start_time": "2023-07-28T06:32:30.841Z"
   },
   {
    "duration": 16,
    "start_time": "2023-07-28T06:33:14.314Z"
   },
   {
    "duration": 86,
    "start_time": "2023-07-28T06:33:30.734Z"
   },
   {
    "duration": 11,
    "start_time": "2023-07-28T06:40:37.935Z"
   },
   {
    "duration": 11,
    "start_time": "2023-07-28T06:40:58.624Z"
   },
   {
    "duration": 4,
    "start_time": "2023-07-28T06:46:11.205Z"
   },
   {
    "duration": 16,
    "start_time": "2023-07-28T06:46:28.114Z"
   },
   {
    "duration": 4,
    "start_time": "2023-07-28T06:49:21.623Z"
   },
   {
    "duration": 52,
    "start_time": "2023-07-28T10:45:42.896Z"
   },
   {
    "duration": 2209,
    "start_time": "2023-07-28T10:45:50.432Z"
   },
   {
    "duration": 89,
    "start_time": "2023-07-28T10:45:52.643Z"
   },
   {
    "duration": 15,
    "start_time": "2023-07-28T10:45:52.733Z"
   },
   {
    "duration": 18,
    "start_time": "2023-07-28T10:45:52.750Z"
   },
   {
    "duration": 52,
    "start_time": "2023-07-28T10:45:52.769Z"
   },
   {
    "duration": 10,
    "start_time": "2023-07-28T10:45:52.822Z"
   },
   {
    "duration": 11,
    "start_time": "2023-07-28T10:45:52.834Z"
   },
   {
    "duration": 8,
    "start_time": "2023-07-28T10:45:52.846Z"
   },
   {
    "duration": 18,
    "start_time": "2023-07-28T10:45:52.855Z"
   },
   {
    "duration": 12,
    "start_time": "2023-07-28T10:45:52.874Z"
   },
   {
    "duration": 12,
    "start_time": "2023-07-28T10:45:52.888Z"
   },
   {
    "duration": 12,
    "start_time": "2023-07-28T10:46:06.650Z"
   },
   {
    "duration": 9,
    "start_time": "2023-07-28T10:50:54.192Z"
   },
   {
    "duration": 425,
    "start_time": "2023-07-28T10:50:54.762Z"
   },
   {
    "duration": 5,
    "start_time": "2023-07-28T10:51:03.508Z"
   },
   {
    "duration": 115,
    "start_time": "2023-07-28T10:54:11.683Z"
   },
   {
    "duration": 6,
    "start_time": "2023-07-28T10:54:15.795Z"
   },
   {
    "duration": 231,
    "start_time": "2023-07-28T10:54:16.283Z"
   },
   {
    "duration": 1694,
    "start_time": "2023-07-28T10:54:28.066Z"
   },
   {
    "duration": 41,
    "start_time": "2023-07-28T10:54:29.762Z"
   },
   {
    "duration": 17,
    "start_time": "2023-07-28T10:54:29.805Z"
   },
   {
    "duration": 24,
    "start_time": "2023-07-28T10:54:29.824Z"
   },
   {
    "duration": 37,
    "start_time": "2023-07-28T10:54:29.849Z"
   },
   {
    "duration": 23,
    "start_time": "2023-07-28T10:54:29.888Z"
   },
   {
    "duration": 7,
    "start_time": "2023-07-28T10:54:29.912Z"
   },
   {
    "duration": 10,
    "start_time": "2023-07-28T10:54:29.921Z"
   },
   {
    "duration": 7,
    "start_time": "2023-07-28T10:54:29.933Z"
   },
   {
    "duration": 27,
    "start_time": "2023-07-28T10:54:29.942Z"
   },
   {
    "duration": 11,
    "start_time": "2023-07-28T10:54:29.970Z"
   },
   {
    "duration": 25,
    "start_time": "2023-07-28T10:54:29.983Z"
   },
   {
    "duration": 49,
    "start_time": "2023-07-28T10:54:30.010Z"
   },
   {
    "duration": 33,
    "start_time": "2023-07-28T10:54:30.061Z"
   },
   {
    "duration": 550,
    "start_time": "2023-07-28T10:54:30.095Z"
   },
   {
    "duration": 0,
    "start_time": "2023-07-28T10:54:30.647Z"
   },
   {
    "duration": 4,
    "start_time": "2023-07-28T10:55:04.793Z"
   },
   {
    "duration": 3,
    "start_time": "2023-07-28T10:55:38.666Z"
   },
   {
    "duration": 7,
    "start_time": "2023-07-28T10:55:40.344Z"
   },
   {
    "duration": 19,
    "start_time": "2023-07-28T10:55:56.587Z"
   },
   {
    "duration": 16,
    "start_time": "2023-07-28T10:56:11.486Z"
   },
   {
    "duration": 25,
    "start_time": "2023-07-28T10:56:24.746Z"
   },
   {
    "duration": 4,
    "start_time": "2023-07-28T10:57:18.259Z"
   },
   {
    "duration": 5,
    "start_time": "2023-07-28T10:57:23.188Z"
   },
   {
    "duration": 3,
    "start_time": "2023-07-28T10:57:30.587Z"
   },
   {
    "duration": 4,
    "start_time": "2023-07-28T10:57:38.100Z"
   },
   {
    "duration": 5,
    "start_time": "2023-07-28T10:58:01.403Z"
   },
   {
    "duration": 5,
    "start_time": "2023-07-28T10:58:01.982Z"
   },
   {
    "duration": 8,
    "start_time": "2023-07-28T11:03:21.886Z"
   },
   {
    "duration": 150,
    "start_time": "2023-07-28T11:04:16.121Z"
   },
   {
    "duration": 7,
    "start_time": "2023-07-28T11:06:04.715Z"
   },
   {
    "duration": 148,
    "start_time": "2023-07-28T11:11:05.398Z"
   },
   {
    "duration": 6,
    "start_time": "2023-07-28T11:11:07.312Z"
   },
   {
    "duration": 126,
    "start_time": "2023-07-28T11:11:32.900Z"
   },
   {
    "duration": 96,
    "start_time": "2023-07-28T11:13:58.124Z"
   },
   {
    "duration": 158,
    "start_time": "2023-07-28T11:15:03.856Z"
   },
   {
    "duration": 30,
    "start_time": "2023-07-28T11:15:20.705Z"
   },
   {
    "duration": 12,
    "start_time": "2023-07-28T11:15:36.174Z"
   },
   {
    "duration": 21101,
    "start_time": "2023-07-28T11:16:20.751Z"
   },
   {
    "duration": 146,
    "start_time": "2023-07-28T11:17:29.251Z"
   },
   {
    "duration": 21,
    "start_time": "2023-07-28T11:17:32.586Z"
   },
   {
    "duration": 9,
    "start_time": "2023-07-28T11:17:34.161Z"
   },
   {
    "duration": 21713,
    "start_time": "2023-07-28T11:17:36.330Z"
   },
   {
    "duration": 20784,
    "start_time": "2023-07-28T11:18:18.591Z"
   },
   {
    "duration": 22520,
    "start_time": "2023-07-28T11:20:26.890Z"
   },
   {
    "duration": 23698,
    "start_time": "2023-07-28T11:21:46.007Z"
   },
   {
    "duration": 1632,
    "start_time": "2023-07-28T11:22:31.019Z"
   },
   {
    "duration": 40,
    "start_time": "2023-07-28T11:22:32.653Z"
   },
   {
    "duration": 54,
    "start_time": "2023-07-28T11:22:32.695Z"
   },
   {
    "duration": 101,
    "start_time": "2023-07-28T11:22:32.755Z"
   },
   {
    "duration": 61,
    "start_time": "2023-07-28T11:22:32.858Z"
   },
   {
    "duration": 10,
    "start_time": "2023-07-28T11:22:32.921Z"
   },
   {
    "duration": 40,
    "start_time": "2023-07-28T11:22:32.934Z"
   },
   {
    "duration": 8,
    "start_time": "2023-07-28T11:22:32.976Z"
   },
   {
    "duration": 26,
    "start_time": "2023-07-28T11:22:32.986Z"
   },
   {
    "duration": 27,
    "start_time": "2023-07-28T11:22:33.015Z"
   },
   {
    "duration": 26,
    "start_time": "2023-07-28T11:22:33.045Z"
   },
   {
    "duration": 24,
    "start_time": "2023-07-28T11:22:33.073Z"
   },
   {
    "duration": 16,
    "start_time": "2023-07-28T11:22:33.099Z"
   },
   {
    "duration": 10,
    "start_time": "2023-07-28T11:22:33.118Z"
   },
   {
    "duration": 31,
    "start_time": "2023-07-28T11:22:33.130Z"
   },
   {
    "duration": 14,
    "start_time": "2023-07-28T11:22:33.163Z"
   },
   {
    "duration": 32,
    "start_time": "2023-07-28T11:22:33.179Z"
   },
   {
    "duration": 27,
    "start_time": "2023-07-28T11:22:33.213Z"
   },
   {
    "duration": 28,
    "start_time": "2023-07-28T11:22:33.242Z"
   },
   {
    "duration": 4,
    "start_time": "2023-07-28T11:22:33.272Z"
   },
   {
    "duration": 7,
    "start_time": "2023-07-28T11:22:33.278Z"
   },
   {
    "duration": 18,
    "start_time": "2023-07-28T11:22:33.287Z"
   },
   {
    "duration": 29,
    "start_time": "2023-07-28T11:22:33.307Z"
   },
   {
    "duration": 51,
    "start_time": "2023-07-28T11:22:33.338Z"
   },
   {
    "duration": 10,
    "start_time": "2023-07-28T11:22:33.392Z"
   },
   {
    "duration": 10,
    "start_time": "2023-07-28T11:22:33.405Z"
   },
   {
    "duration": 146,
    "start_time": "2023-07-28T11:22:33.416Z"
   },
   {
    "duration": 7,
    "start_time": "2023-07-28T11:22:33.565Z"
   },
   {
    "duration": 184,
    "start_time": "2023-07-28T11:22:33.573Z"
   },
   {
    "duration": 23,
    "start_time": "2023-07-28T11:22:33.759Z"
   },
   {
    "duration": 10,
    "start_time": "2023-07-28T11:22:33.784Z"
   },
   {
    "duration": 21791,
    "start_time": "2023-07-28T11:22:33.796Z"
   },
   {
    "duration": 16,
    "start_time": "2023-07-28T11:24:30.421Z"
   },
   {
    "duration": 20281,
    "start_time": "2023-07-28T11:28:23.928Z"
   },
   {
    "duration": 58491,
    "start_time": "2023-07-28T11:29:57.360Z"
   },
   {
    "duration": 341,
    "start_time": "2023-07-28T11:33:37.214Z"
   },
   {
    "duration": 9,
    "start_time": "2023-07-28T11:33:39.317Z"
   },
   {
    "duration": 20,
    "start_time": "2023-07-28T11:33:59.989Z"
   },
   {
    "duration": 11,
    "start_time": "2023-07-28T11:34:11.486Z"
   },
   {
    "duration": 4,
    "start_time": "2023-07-28T12:20:47.714Z"
   },
   {
    "duration": 10,
    "start_time": "2023-07-28T12:20:48.676Z"
   },
   {
    "duration": 22,
    "start_time": "2023-07-28T12:20:49.467Z"
   },
   {
    "duration": 23,
    "start_time": "2023-07-28T12:20:50.295Z"
   },
   {
    "duration": 17,
    "start_time": "2023-07-28T12:20:50.810Z"
   },
   {
    "duration": 6,
    "start_time": "2023-07-28T12:20:51.121Z"
   },
   {
    "duration": 5,
    "start_time": "2023-07-28T12:20:51.267Z"
   },
   {
    "duration": 4,
    "start_time": "2023-07-28T12:20:51.402Z"
   },
   {
    "duration": 5,
    "start_time": "2023-07-28T12:20:51.525Z"
   },
   {
    "duration": 6,
    "start_time": "2023-07-28T12:20:51.664Z"
   },
   {
    "duration": 5,
    "start_time": "2023-07-28T12:20:51.795Z"
   },
   {
    "duration": 7,
    "start_time": "2023-07-28T12:20:52.594Z"
   },
   {
    "duration": 114,
    "start_time": "2023-07-28T12:20:52.705Z"
   },
   {
    "duration": 10,
    "start_time": "2023-07-28T12:20:53.009Z"
   },
   {
    "duration": 176,
    "start_time": "2023-07-28T12:20:54.421Z"
   },
   {
    "duration": 33,
    "start_time": "2023-07-28T12:20:54.599Z"
   },
   {
    "duration": 14,
    "start_time": "2023-07-28T12:20:54.695Z"
   },
   {
    "duration": 63832,
    "start_time": "2023-07-28T12:20:55.062Z"
   },
   {
    "duration": 394,
    "start_time": "2023-07-28T12:21:58.898Z"
   },
   {
    "duration": 10,
    "start_time": "2023-07-28T12:21:59.293Z"
   },
   {
    "duration": 129,
    "start_time": "2023-07-28T12:21:59.305Z"
   },
   {
    "duration": 96,
    "start_time": "2023-07-28T12:21:59.441Z"
   },
   {
    "duration": 20934,
    "start_time": "2023-07-28T12:22:18.996Z"
   },
   {
    "duration": 1870,
    "start_time": "2023-07-28T12:27:53.139Z"
   },
   {
    "duration": 50,
    "start_time": "2023-07-28T12:27:55.012Z"
   },
   {
    "duration": 17,
    "start_time": "2023-07-28T12:27:55.063Z"
   },
   {
    "duration": 42,
    "start_time": "2023-07-28T12:27:55.082Z"
   },
   {
    "duration": 70,
    "start_time": "2023-07-28T12:27:55.127Z"
   },
   {
    "duration": 12,
    "start_time": "2023-07-28T12:27:55.199Z"
   },
   {
    "duration": 14,
    "start_time": "2023-07-28T12:27:55.213Z"
   },
   {
    "duration": 27,
    "start_time": "2023-07-28T12:27:55.229Z"
   },
   {
    "duration": 39,
    "start_time": "2023-07-28T12:27:55.259Z"
   },
   {
    "duration": 28,
    "start_time": "2023-07-28T12:27:55.301Z"
   },
   {
    "duration": 40,
    "start_time": "2023-07-28T12:27:55.331Z"
   },
   {
    "duration": 40,
    "start_time": "2023-07-28T12:27:55.373Z"
   },
   {
    "duration": 59,
    "start_time": "2023-07-28T12:27:55.414Z"
   },
   {
    "duration": 34,
    "start_time": "2023-07-28T12:27:55.477Z"
   },
   {
    "duration": 11,
    "start_time": "2023-07-28T12:27:55.513Z"
   },
   {
    "duration": 52,
    "start_time": "2023-07-28T12:27:55.526Z"
   },
   {
    "duration": 46,
    "start_time": "2023-07-28T12:27:55.581Z"
   },
   {
    "duration": 26,
    "start_time": "2023-07-28T12:27:55.630Z"
   },
   {
    "duration": 111,
    "start_time": "2023-07-28T12:27:55.658Z"
   },
   {
    "duration": 22,
    "start_time": "2023-07-28T12:27:55.771Z"
   },
   {
    "duration": 19,
    "start_time": "2023-07-28T12:27:55.795Z"
   },
   {
    "duration": 45,
    "start_time": "2023-07-28T12:27:55.816Z"
   },
   {
    "duration": 16,
    "start_time": "2023-07-28T12:27:55.864Z"
   },
   {
    "duration": 27,
    "start_time": "2023-07-28T12:27:55.881Z"
   },
   {
    "duration": 20,
    "start_time": "2023-07-28T12:27:55.910Z"
   },
   {
    "duration": 36,
    "start_time": "2023-07-28T12:27:55.933Z"
   },
   {
    "duration": 151,
    "start_time": "2023-07-28T12:27:55.970Z"
   },
   {
    "duration": 15,
    "start_time": "2023-07-28T12:27:56.123Z"
   },
   {
    "duration": 167,
    "start_time": "2023-07-28T12:27:56.145Z"
   },
   {
    "duration": 30,
    "start_time": "2023-07-28T12:27:56.314Z"
   },
   {
    "duration": 11,
    "start_time": "2023-07-28T12:27:56.345Z"
   },
   {
    "duration": 19815,
    "start_time": "2023-07-28T12:27:56.358Z"
   },
   {
    "duration": 0,
    "start_time": "2023-07-28T12:28:16.175Z"
   },
   {
    "duration": 0,
    "start_time": "2023-07-28T12:28:16.176Z"
   },
   {
    "duration": 0,
    "start_time": "2023-07-28T12:28:16.178Z"
   },
   {
    "duration": 0,
    "start_time": "2023-07-28T12:28:16.179Z"
   },
   {
    "duration": 19725,
    "start_time": "2023-07-28T12:31:05.588Z"
   },
   {
    "duration": 11,
    "start_time": "2023-07-28T12:32:00.749Z"
   },
   {
    "duration": 18652,
    "start_time": "2023-07-28T12:33:08.997Z"
   },
   {
    "duration": 1302,
    "start_time": "2023-07-28T12:34:47.945Z"
   },
   {
    "duration": 41,
    "start_time": "2023-07-28T12:34:49.249Z"
   },
   {
    "duration": 17,
    "start_time": "2023-07-28T12:34:49.291Z"
   },
   {
    "duration": 12,
    "start_time": "2023-07-28T12:34:49.310Z"
   },
   {
    "duration": 46,
    "start_time": "2023-07-28T12:34:49.325Z"
   },
   {
    "duration": 11,
    "start_time": "2023-07-28T12:34:49.373Z"
   },
   {
    "duration": 15,
    "start_time": "2023-07-28T12:34:49.386Z"
   },
   {
    "duration": 3,
    "start_time": "2023-07-28T12:34:49.403Z"
   },
   {
    "duration": 14,
    "start_time": "2023-07-28T12:34:49.408Z"
   },
   {
    "duration": 10,
    "start_time": "2023-07-28T12:34:49.424Z"
   },
   {
    "duration": 22,
    "start_time": "2023-07-28T12:34:49.435Z"
   },
   {
    "duration": 18,
    "start_time": "2023-07-28T12:34:49.459Z"
   },
   {
    "duration": 24,
    "start_time": "2023-07-28T12:34:49.478Z"
   },
   {
    "duration": 7,
    "start_time": "2023-07-28T12:34:49.507Z"
   },
   {
    "duration": 15,
    "start_time": "2023-07-28T12:34:49.516Z"
   },
   {
    "duration": 16,
    "start_time": "2023-07-28T12:34:49.533Z"
   },
   {
    "duration": 17,
    "start_time": "2023-07-28T12:34:49.551Z"
   },
   {
    "duration": 16,
    "start_time": "2023-07-28T12:34:49.570Z"
   },
   {
    "duration": 29,
    "start_time": "2023-07-28T12:34:49.588Z"
   },
   {
    "duration": 14,
    "start_time": "2023-07-28T12:34:49.619Z"
   },
   {
    "duration": 17,
    "start_time": "2023-07-28T12:34:49.635Z"
   },
   {
    "duration": 5,
    "start_time": "2023-07-28T12:34:49.653Z"
   },
   {
    "duration": 10,
    "start_time": "2023-07-28T12:34:49.660Z"
   },
   {
    "duration": 22,
    "start_time": "2023-07-28T12:34:49.672Z"
   },
   {
    "duration": 12,
    "start_time": "2023-07-28T12:34:49.696Z"
   },
   {
    "duration": 14,
    "start_time": "2023-07-28T12:34:49.709Z"
   },
   {
    "duration": 98,
    "start_time": "2023-07-28T12:34:49.725Z"
   },
   {
    "duration": 9,
    "start_time": "2023-07-28T12:34:49.824Z"
   },
   {
    "duration": 159,
    "start_time": "2023-07-28T12:34:49.834Z"
   },
   {
    "duration": 20,
    "start_time": "2023-07-28T12:34:49.995Z"
   },
   {
    "duration": 20,
    "start_time": "2023-07-28T12:34:50.017Z"
   },
   {
    "duration": 17895,
    "start_time": "2023-07-28T12:34:50.038Z"
   },
   {
    "duration": 0,
    "start_time": "2023-07-28T12:35:07.934Z"
   },
   {
    "duration": 0,
    "start_time": "2023-07-28T12:35:07.935Z"
   },
   {
    "duration": 0,
    "start_time": "2023-07-28T12:35:07.937Z"
   },
   {
    "duration": 0,
    "start_time": "2023-07-28T12:35:07.937Z"
   },
   {
    "duration": 0,
    "start_time": "2023-07-28T12:35:07.939Z"
   },
   {
    "duration": 17634,
    "start_time": "2023-07-28T12:35:33.309Z"
   },
   {
    "duration": 17704,
    "start_time": "2023-07-28T12:36:18.021Z"
   },
   {
    "duration": 1646,
    "start_time": "2023-07-28T12:37:02.615Z"
   },
   {
    "duration": 41,
    "start_time": "2023-07-28T12:37:04.263Z"
   },
   {
    "duration": 16,
    "start_time": "2023-07-28T12:37:04.305Z"
   },
   {
    "duration": 11,
    "start_time": "2023-07-28T12:37:04.324Z"
   },
   {
    "duration": 39,
    "start_time": "2023-07-28T12:37:04.336Z"
   },
   {
    "duration": 10,
    "start_time": "2023-07-28T12:37:04.377Z"
   },
   {
    "duration": 9,
    "start_time": "2023-07-28T12:37:04.389Z"
   },
   {
    "duration": 5,
    "start_time": "2023-07-28T12:37:04.400Z"
   },
   {
    "duration": 31,
    "start_time": "2023-07-28T12:37:04.406Z"
   },
   {
    "duration": 5,
    "start_time": "2023-07-28T12:37:04.439Z"
   },
   {
    "duration": 19,
    "start_time": "2023-07-28T12:37:04.446Z"
   },
   {
    "duration": 18,
    "start_time": "2023-07-28T12:37:04.466Z"
   },
   {
    "duration": 27,
    "start_time": "2023-07-28T12:37:04.485Z"
   },
   {
    "duration": 9,
    "start_time": "2023-07-28T12:37:04.514Z"
   },
   {
    "duration": 7,
    "start_time": "2023-07-28T12:37:04.524Z"
   },
   {
    "duration": 22,
    "start_time": "2023-07-28T12:37:04.533Z"
   },
   {
    "duration": 27,
    "start_time": "2023-07-28T12:37:04.556Z"
   },
   {
    "duration": 36,
    "start_time": "2023-07-28T12:37:04.585Z"
   },
   {
    "duration": 22,
    "start_time": "2023-07-28T12:37:04.623Z"
   },
   {
    "duration": 12,
    "start_time": "2023-07-28T12:37:04.647Z"
   },
   {
    "duration": 8,
    "start_time": "2023-07-28T12:37:04.662Z"
   },
   {
    "duration": 17,
    "start_time": "2023-07-28T12:37:04.672Z"
   },
   {
    "duration": 14,
    "start_time": "2023-07-28T12:37:04.691Z"
   },
   {
    "duration": 10,
    "start_time": "2023-07-28T12:37:04.707Z"
   },
   {
    "duration": 11,
    "start_time": "2023-07-28T12:37:04.719Z"
   },
   {
    "duration": 15,
    "start_time": "2023-07-28T12:37:04.732Z"
   },
   {
    "duration": 108,
    "start_time": "2023-07-28T12:37:04.749Z"
   },
   {
    "duration": 6,
    "start_time": "2023-07-28T12:37:04.860Z"
   },
   {
    "duration": 152,
    "start_time": "2023-07-28T12:37:04.868Z"
   },
   {
    "duration": 24,
    "start_time": "2023-07-28T12:37:05.021Z"
   },
   {
    "duration": 8,
    "start_time": "2023-07-28T12:37:05.046Z"
   },
   {
    "duration": 17822,
    "start_time": "2023-07-28T12:37:05.056Z"
   },
   {
    "duration": 0,
    "start_time": "2023-07-28T12:37:22.880Z"
   },
   {
    "duration": 0,
    "start_time": "2023-07-28T12:37:22.881Z"
   },
   {
    "duration": 0,
    "start_time": "2023-07-28T12:37:22.882Z"
   },
   {
    "duration": 0,
    "start_time": "2023-07-28T12:37:22.883Z"
   },
   {
    "duration": 9,
    "start_time": "2023-07-28T12:45:52.353Z"
   },
   {
    "duration": 38,
    "start_time": "2023-07-28T12:46:13.436Z"
   },
   {
    "duration": 142,
    "start_time": "2023-07-28T12:46:24.309Z"
   },
   {
    "duration": 6026,
    "start_time": "2023-07-28T12:48:41.695Z"
   },
   {
    "duration": 5746,
    "start_time": "2023-07-28T12:49:05.554Z"
   },
   {
    "duration": 10,
    "start_time": "2023-07-28T12:49:50.493Z"
   },
   {
    "duration": 174225,
    "start_time": "2023-07-28T12:49:55.798Z"
   },
   {
    "duration": 134,
    "start_time": "2023-07-28T12:56:20.192Z"
   },
   {
    "duration": 387,
    "start_time": "2023-07-28T12:56:40.617Z"
   },
   {
    "duration": 2169,
    "start_time": "2023-07-28T12:57:00.482Z"
   },
   {
    "duration": 2365,
    "start_time": "2023-07-28T12:57:15.732Z"
   },
   {
    "duration": 17808,
    "start_time": "2023-07-28T12:57:33.769Z"
   },
   {
    "duration": 533,
    "start_time": "2023-07-28T12:58:37.509Z"
   },
   {
    "duration": 10,
    "start_time": "2023-07-28T12:58:56.689Z"
   },
   {
    "duration": 37,
    "start_time": "2023-07-28T12:59:02.804Z"
   },
   {
    "duration": 14,
    "start_time": "2023-07-28T12:59:03.332Z"
   },
   {
    "duration": 24,
    "start_time": "2023-07-28T13:00:34.109Z"
   },
   {
    "duration": 18043,
    "start_time": "2023-07-28T13:13:20.913Z"
   },
   {
    "duration": 1525,
    "start_time": "2023-07-28T13:14:13.497Z"
   },
   {
    "duration": 40,
    "start_time": "2023-07-28T13:14:15.024Z"
   },
   {
    "duration": 17,
    "start_time": "2023-07-28T13:14:15.066Z"
   },
   {
    "duration": 36,
    "start_time": "2023-07-28T13:14:15.085Z"
   },
   {
    "duration": 38,
    "start_time": "2023-07-28T13:14:15.123Z"
   },
   {
    "duration": 10,
    "start_time": "2023-07-28T13:14:15.162Z"
   },
   {
    "duration": 8,
    "start_time": "2023-07-28T13:14:15.173Z"
   },
   {
    "duration": 4,
    "start_time": "2023-07-28T13:14:15.183Z"
   },
   {
    "duration": 21,
    "start_time": "2023-07-28T13:14:15.189Z"
   },
   {
    "duration": 14,
    "start_time": "2023-07-28T13:14:15.212Z"
   },
   {
    "duration": 11,
    "start_time": "2023-07-28T13:14:15.227Z"
   },
   {
    "duration": 12,
    "start_time": "2023-07-28T13:14:15.239Z"
   },
   {
    "duration": 11,
    "start_time": "2023-07-28T13:14:15.252Z"
   },
   {
    "duration": 5,
    "start_time": "2023-07-28T13:14:15.265Z"
   },
   {
    "duration": 6,
    "start_time": "2023-07-28T13:14:15.271Z"
   },
   {
    "duration": 9,
    "start_time": "2023-07-28T13:14:15.278Z"
   },
   {
    "duration": 21,
    "start_time": "2023-07-28T13:14:15.288Z"
   },
   {
    "duration": 35,
    "start_time": "2023-07-28T13:14:15.310Z"
   },
   {
    "duration": 15,
    "start_time": "2023-07-28T13:14:15.346Z"
   },
   {
    "duration": 3,
    "start_time": "2023-07-28T13:14:15.362Z"
   },
   {
    "duration": 32,
    "start_time": "2023-07-28T13:14:15.367Z"
   },
   {
    "duration": 15,
    "start_time": "2023-07-28T13:14:15.400Z"
   },
   {
    "duration": 12,
    "start_time": "2023-07-28T13:14:15.416Z"
   },
   {
    "duration": 9,
    "start_time": "2023-07-28T13:14:15.429Z"
   },
   {
    "duration": 6,
    "start_time": "2023-07-28T13:14:15.440Z"
   },
   {
    "duration": 8,
    "start_time": "2023-07-28T13:14:15.448Z"
   },
   {
    "duration": 104,
    "start_time": "2023-07-28T13:14:15.458Z"
   },
   {
    "duration": 7,
    "start_time": "2023-07-28T13:14:15.565Z"
   },
   {
    "duration": 145,
    "start_time": "2023-07-28T13:14:15.573Z"
   },
   {
    "duration": 23,
    "start_time": "2023-07-28T13:14:15.720Z"
   },
   {
    "duration": 22,
    "start_time": "2023-07-28T13:14:15.745Z"
   },
   {
    "duration": 17989,
    "start_time": "2023-07-28T13:14:15.769Z"
   },
   {
    "duration": 0,
    "start_time": "2023-07-28T13:14:33.759Z"
   },
   {
    "duration": 0,
    "start_time": "2023-07-28T13:14:33.760Z"
   },
   {
    "duration": 0,
    "start_time": "2023-07-28T13:14:33.762Z"
   },
   {
    "duration": 0,
    "start_time": "2023-07-28T13:14:33.763Z"
   },
   {
    "duration": 0,
    "start_time": "2023-07-28T13:14:33.764Z"
   },
   {
    "duration": 51,
    "start_time": "2023-07-28T15:35:20.886Z"
   },
   {
    "duration": 1668,
    "start_time": "2023-07-28T15:35:34.390Z"
   },
   {
    "duration": 1451,
    "start_time": "2023-07-28T15:37:56.415Z"
   },
   {
    "duration": 168,
    "start_time": "2023-07-28T15:37:57.868Z"
   },
   {
    "duration": 17,
    "start_time": "2023-07-28T15:37:58.038Z"
   },
   {
    "duration": 42,
    "start_time": "2023-07-28T15:37:58.056Z"
   },
   {
    "duration": 66,
    "start_time": "2023-07-28T15:37:58.100Z"
   },
   {
    "duration": 24,
    "start_time": "2023-07-28T15:37:58.167Z"
   },
   {
    "duration": 16,
    "start_time": "2023-07-28T15:37:58.192Z"
   },
   {
    "duration": 26,
    "start_time": "2023-07-28T15:37:58.210Z"
   },
   {
    "duration": 59,
    "start_time": "2023-07-28T15:37:58.238Z"
   },
   {
    "duration": 9,
    "start_time": "2023-07-28T15:37:58.301Z"
   },
   {
    "duration": 14,
    "start_time": "2023-07-28T15:37:58.312Z"
   },
   {
    "duration": 35,
    "start_time": "2023-07-28T15:37:58.328Z"
   },
   {
    "duration": 21,
    "start_time": "2023-07-28T15:37:58.365Z"
   },
   {
    "duration": 23,
    "start_time": "2023-07-28T15:37:58.389Z"
   },
   {
    "duration": 25,
    "start_time": "2023-07-28T15:37:58.414Z"
   },
   {
    "duration": 29,
    "start_time": "2023-07-28T15:37:58.441Z"
   },
   {
    "duration": 32,
    "start_time": "2023-07-28T15:37:58.472Z"
   },
   {
    "duration": 18,
    "start_time": "2023-07-28T15:37:58.506Z"
   },
   {
    "duration": 31,
    "start_time": "2023-07-28T15:37:58.525Z"
   },
   {
    "duration": 37,
    "start_time": "2023-07-28T15:37:58.557Z"
   },
   {
    "duration": 5,
    "start_time": "2023-07-28T15:37:58.602Z"
   },
   {
    "duration": 14,
    "start_time": "2023-07-28T15:37:58.609Z"
   },
   {
    "duration": 20,
    "start_time": "2023-07-28T15:37:58.624Z"
   },
   {
    "duration": 19,
    "start_time": "2023-07-28T15:37:58.645Z"
   },
   {
    "duration": 26,
    "start_time": "2023-07-28T15:37:58.665Z"
   },
   {
    "duration": 16,
    "start_time": "2023-07-28T15:37:58.693Z"
   },
   {
    "duration": 133,
    "start_time": "2023-07-28T15:37:58.711Z"
   },
   {
    "duration": 10,
    "start_time": "2023-07-28T15:37:58.848Z"
   },
   {
    "duration": 178,
    "start_time": "2023-07-28T15:37:58.860Z"
   },
   {
    "duration": 24,
    "start_time": "2023-07-28T15:37:59.039Z"
   },
   {
    "duration": 22,
    "start_time": "2023-07-28T15:37:59.074Z"
   },
   {
    "duration": 185706,
    "start_time": "2023-07-28T15:37:59.098Z"
   },
   {
    "duration": 520,
    "start_time": "2023-07-28T15:41:04.805Z"
   },
   {
    "duration": 8,
    "start_time": "2023-07-28T15:41:05.327Z"
   },
   {
    "duration": 59,
    "start_time": "2023-07-28T15:41:05.337Z"
   },
   {
    "duration": 101,
    "start_time": "2023-07-28T15:41:05.402Z"
   },
   {
    "duration": 26,
    "start_time": "2023-07-28T15:41:05.574Z"
   },
   {
    "duration": 1416,
    "start_time": "2023-07-28T15:43:55.429Z"
   },
   {
    "duration": 52,
    "start_time": "2023-07-28T15:43:56.846Z"
   },
   {
    "duration": 14,
    "start_time": "2023-07-28T15:43:56.900Z"
   },
   {
    "duration": 28,
    "start_time": "2023-07-28T15:43:56.916Z"
   },
   {
    "duration": 53,
    "start_time": "2023-07-28T15:43:56.945Z"
   },
   {
    "duration": 10,
    "start_time": "2023-07-28T15:43:57.000Z"
   },
   {
    "duration": 11,
    "start_time": "2023-07-28T15:43:57.011Z"
   },
   {
    "duration": 8,
    "start_time": "2023-07-28T15:43:57.024Z"
   },
   {
    "duration": 26,
    "start_time": "2023-07-28T15:43:57.033Z"
   },
   {
    "duration": 23,
    "start_time": "2023-07-28T15:43:57.062Z"
   },
   {
    "duration": 17,
    "start_time": "2023-07-28T15:43:57.087Z"
   },
   {
    "duration": 18,
    "start_time": "2023-07-28T15:43:57.106Z"
   },
   {
    "duration": 25,
    "start_time": "2023-07-28T15:43:57.125Z"
   },
   {
    "duration": 20,
    "start_time": "2023-07-28T15:43:57.151Z"
   },
   {
    "duration": 45,
    "start_time": "2023-07-28T15:43:57.172Z"
   },
   {
    "duration": 14,
    "start_time": "2023-07-28T15:43:57.219Z"
   },
   {
    "duration": 25,
    "start_time": "2023-07-28T15:43:57.234Z"
   },
   {
    "duration": 27,
    "start_time": "2023-07-28T15:43:57.260Z"
   },
   {
    "duration": 21,
    "start_time": "2023-07-28T15:43:57.290Z"
   },
   {
    "duration": 4,
    "start_time": "2023-07-28T15:43:57.312Z"
   },
   {
    "duration": 19,
    "start_time": "2023-07-28T15:43:57.317Z"
   },
   {
    "duration": 12,
    "start_time": "2023-07-28T15:43:57.337Z"
   },
   {
    "duration": 15,
    "start_time": "2023-07-28T15:43:57.350Z"
   },
   {
    "duration": 23,
    "start_time": "2023-07-28T15:43:57.367Z"
   },
   {
    "duration": 21,
    "start_time": "2023-07-28T15:43:57.391Z"
   },
   {
    "duration": 25,
    "start_time": "2023-07-28T15:43:57.414Z"
   },
   {
    "duration": 107,
    "start_time": "2023-07-28T15:43:57.440Z"
   },
   {
    "duration": 6,
    "start_time": "2023-07-28T15:43:57.550Z"
   },
   {
    "duration": 155,
    "start_time": "2023-07-28T15:43:57.557Z"
   },
   {
    "duration": 21,
    "start_time": "2023-07-28T15:43:57.713Z"
   },
   {
    "duration": 9,
    "start_time": "2023-07-28T15:43:57.735Z"
   },
   {
    "duration": 0,
    "start_time": "2023-07-28T15:46:46.410Z"
   },
   {
    "duration": 0,
    "start_time": "2023-07-28T15:46:46.411Z"
   },
   {
    "duration": 0,
    "start_time": "2023-07-28T15:46:46.413Z"
   },
   {
    "duration": 0,
    "start_time": "2023-07-28T15:46:46.414Z"
   },
   {
    "duration": 0,
    "start_time": "2023-07-28T15:46:46.415Z"
   },
   {
    "duration": 0,
    "start_time": "2023-07-28T15:46:46.417Z"
   },
   {
    "duration": 11,
    "start_time": "2023-07-28T15:46:55.102Z"
   },
   {
    "duration": 1438,
    "start_time": "2023-07-28T15:49:39.165Z"
   },
   {
    "duration": 41,
    "start_time": "2023-07-28T15:49:40.604Z"
   },
   {
    "duration": 14,
    "start_time": "2023-07-28T15:49:40.646Z"
   },
   {
    "duration": 10,
    "start_time": "2023-07-28T15:49:40.662Z"
   },
   {
    "duration": 46,
    "start_time": "2023-07-28T15:49:40.673Z"
   },
   {
    "duration": 10,
    "start_time": "2023-07-28T15:49:40.720Z"
   },
   {
    "duration": 22,
    "start_time": "2023-07-28T15:49:40.732Z"
   },
   {
    "duration": 11,
    "start_time": "2023-07-28T15:49:40.755Z"
   },
   {
    "duration": 25,
    "start_time": "2023-07-28T15:49:40.768Z"
   },
   {
    "duration": 11,
    "start_time": "2023-07-28T15:49:40.795Z"
   },
   {
    "duration": 16,
    "start_time": "2023-07-28T15:49:40.807Z"
   },
   {
    "duration": 16,
    "start_time": "2023-07-28T15:49:40.825Z"
   },
   {
    "duration": 12,
    "start_time": "2023-07-28T15:49:40.843Z"
   },
   {
    "duration": 7,
    "start_time": "2023-07-28T15:49:40.857Z"
   },
   {
    "duration": 26,
    "start_time": "2023-07-28T15:49:40.865Z"
   },
   {
    "duration": 16,
    "start_time": "2023-07-28T15:49:40.893Z"
   },
   {
    "duration": 21,
    "start_time": "2023-07-28T15:49:40.910Z"
   },
   {
    "duration": 14,
    "start_time": "2023-07-28T15:49:40.933Z"
   },
   {
    "duration": 21,
    "start_time": "2023-07-28T15:49:40.949Z"
   },
   {
    "duration": 15,
    "start_time": "2023-07-28T15:49:40.972Z"
   },
   {
    "duration": 20,
    "start_time": "2023-07-28T15:49:40.988Z"
   },
   {
    "duration": 6,
    "start_time": "2023-07-28T15:49:41.010Z"
   },
   {
    "duration": 10,
    "start_time": "2023-07-28T15:49:41.017Z"
   },
   {
    "duration": 5,
    "start_time": "2023-07-28T15:49:41.028Z"
   },
   {
    "duration": 6,
    "start_time": "2023-07-28T15:49:41.034Z"
   },
   {
    "duration": 9,
    "start_time": "2023-07-28T15:49:41.041Z"
   },
   {
    "duration": 95,
    "start_time": "2023-07-28T15:49:41.051Z"
   },
   {
    "duration": 6,
    "start_time": "2023-07-28T15:49:41.149Z"
   },
   {
    "duration": 146,
    "start_time": "2023-07-28T15:49:41.156Z"
   },
   {
    "duration": 20,
    "start_time": "2023-07-28T15:49:41.304Z"
   },
   {
    "duration": 8,
    "start_time": "2023-07-28T15:49:41.325Z"
   },
   {
    "duration": 19019,
    "start_time": "2023-07-28T15:49:41.335Z"
   },
   {
    "duration": 610,
    "start_time": "2023-07-28T15:50:00.357Z"
   },
   {
    "duration": 11,
    "start_time": "2023-07-28T15:50:00.968Z"
   },
   {
    "duration": 61,
    "start_time": "2023-07-28T15:50:00.984Z"
   },
   {
    "duration": 142,
    "start_time": "2023-07-28T15:50:01.047Z"
   },
   {
    "duration": 89,
    "start_time": "2023-07-28T15:50:01.190Z"
   },
   {
    "duration": 19142,
    "start_time": "2023-07-28T15:52:29.060Z"
   },
   {
    "duration": 542,
    "start_time": "2023-07-28T15:52:48.204Z"
   },
   {
    "duration": 10,
    "start_time": "2023-07-28T15:52:48.748Z"
   },
   {
    "duration": 112,
    "start_time": "2023-07-28T16:45:15.151Z"
   },
   {
    "duration": 5,
    "start_time": "2023-07-28T16:47:49.287Z"
   },
   {
    "duration": 137,
    "start_time": "2023-07-28T16:48:17.307Z"
   },
   {
    "duration": 120,
    "start_time": "2023-07-28T16:48:42.419Z"
   },
   {
    "duration": 134,
    "start_time": "2023-07-28T16:48:48.830Z"
   },
   {
    "duration": 177,
    "start_time": "2023-07-28T16:49:29.951Z"
   },
   {
    "duration": 305,
    "start_time": "2023-07-28T16:50:03.599Z"
   },
   {
    "duration": 174,
    "start_time": "2023-07-28T16:54:37.145Z"
   },
   {
    "duration": 20,
    "start_time": "2023-07-28T16:55:05.991Z"
   },
   {
    "duration": 22,
    "start_time": "2023-07-28T16:55:06.364Z"
   },
   {
    "duration": 19146,
    "start_time": "2023-07-28T16:55:40.165Z"
   },
   {
    "duration": 149,
    "start_time": "2023-07-28T16:59:17.740Z"
   },
   {
    "duration": 409,
    "start_time": "2023-07-28T16:59:32.803Z"
   },
   {
    "duration": 120,
    "start_time": "2023-07-28T16:59:43.820Z"
   },
   {
    "duration": 546,
    "start_time": "2023-07-28T17:00:06.068Z"
   },
   {
    "duration": 134,
    "start_time": "2023-07-28T17:00:08.116Z"
   },
   {
    "duration": 23,
    "start_time": "2023-07-28T17:00:27.740Z"
   },
   {
    "duration": 29,
    "start_time": "2023-07-28T17:00:34.766Z"
   },
   {
    "duration": 13,
    "start_time": "2023-07-28T17:01:34.998Z"
   },
   {
    "duration": 3,
    "start_time": "2023-07-28T17:01:48.654Z"
   },
   {
    "duration": 317,
    "start_time": "2023-07-28T17:04:33.441Z"
   },
   {
    "duration": 128,
    "start_time": "2023-07-28T17:04:44.345Z"
   },
   {
    "duration": 43,
    "start_time": "2023-07-28T17:05:39.947Z"
   },
   {
    "duration": 146,
    "start_time": "2023-07-28T17:14:57.755Z"
   },
   {
    "duration": 74,
    "start_time": "2023-07-28T17:15:26.515Z"
   },
   {
    "duration": 13,
    "start_time": "2023-07-28T17:16:37.239Z"
   },
   {
    "duration": 23,
    "start_time": "2023-07-28T17:17:53.406Z"
   },
   {
    "duration": 62,
    "start_time": "2023-07-28T17:18:10.766Z"
   },
   {
    "duration": 37,
    "start_time": "2023-07-28T17:18:24.446Z"
   },
   {
    "duration": 118,
    "start_time": "2023-07-28T17:19:06.100Z"
   },
   {
    "duration": 7,
    "start_time": "2023-07-28T17:22:38.549Z"
   },
   {
    "duration": 4,
    "start_time": "2023-07-28T17:22:49.100Z"
   },
   {
    "duration": 5,
    "start_time": "2023-07-28T17:23:06.102Z"
   },
   {
    "duration": 166,
    "start_time": "2023-07-28T17:23:51.548Z"
   },
   {
    "duration": 688,
    "start_time": "2023-07-28T17:24:47.350Z"
   },
   {
    "duration": 20040,
    "start_time": "2023-07-28T17:25:03.899Z"
   },
   {
    "duration": 132,
    "start_time": "2023-07-28T17:25:36.095Z"
   },
   {
    "duration": 1576,
    "start_time": "2023-07-28T17:27:15.905Z"
   },
   {
    "duration": 57,
    "start_time": "2023-07-28T17:27:17.484Z"
   },
   {
    "duration": 16,
    "start_time": "2023-07-28T17:27:17.543Z"
   },
   {
    "duration": 33,
    "start_time": "2023-07-28T17:27:17.561Z"
   },
   {
    "duration": 52,
    "start_time": "2023-07-28T17:27:17.596Z"
   },
   {
    "duration": 10,
    "start_time": "2023-07-28T17:27:17.650Z"
   },
   {
    "duration": 26,
    "start_time": "2023-07-28T17:27:17.661Z"
   },
   {
    "duration": 26,
    "start_time": "2023-07-28T17:27:17.689Z"
   },
   {
    "duration": 45,
    "start_time": "2023-07-28T17:27:17.716Z"
   },
   {
    "duration": 33,
    "start_time": "2023-07-28T17:27:17.763Z"
   },
   {
    "duration": 21,
    "start_time": "2023-07-28T17:27:17.798Z"
   },
   {
    "duration": 30,
    "start_time": "2023-07-28T17:27:17.821Z"
   },
   {
    "duration": 42,
    "start_time": "2023-07-28T17:27:17.853Z"
   },
   {
    "duration": 42,
    "start_time": "2023-07-28T17:27:17.897Z"
   },
   {
    "duration": 17,
    "start_time": "2023-07-28T17:27:17.940Z"
   },
   {
    "duration": 19,
    "start_time": "2023-07-28T17:27:17.959Z"
   },
   {
    "duration": 37,
    "start_time": "2023-07-28T17:27:17.980Z"
   },
   {
    "duration": 20,
    "start_time": "2023-07-28T17:27:18.019Z"
   },
   {
    "duration": 22,
    "start_time": "2023-07-28T17:27:18.040Z"
   },
   {
    "duration": 41,
    "start_time": "2023-07-28T17:27:18.064Z"
   },
   {
    "duration": 20,
    "start_time": "2023-07-28T17:27:18.112Z"
   },
   {
    "duration": 21,
    "start_time": "2023-07-28T17:27:18.133Z"
   },
   {
    "duration": 22,
    "start_time": "2023-07-28T17:27:18.156Z"
   },
   {
    "duration": 35,
    "start_time": "2023-07-28T17:27:18.180Z"
   },
   {
    "duration": 15,
    "start_time": "2023-07-28T17:27:18.216Z"
   },
   {
    "duration": 25,
    "start_time": "2023-07-28T17:27:18.232Z"
   },
   {
    "duration": 115,
    "start_time": "2023-07-28T17:27:18.258Z"
   },
   {
    "duration": 11,
    "start_time": "2023-07-28T17:27:18.382Z"
   },
   {
    "duration": 166,
    "start_time": "2023-07-28T17:27:18.395Z"
   },
   {
    "duration": 32,
    "start_time": "2023-07-28T17:27:18.563Z"
   },
   {
    "duration": 15,
    "start_time": "2023-07-28T17:27:18.598Z"
   },
   {
    "duration": 22326,
    "start_time": "2023-07-28T17:27:18.614Z"
   },
   {
    "duration": 622,
    "start_time": "2023-07-28T17:27:40.942Z"
   },
   {
    "duration": 19,
    "start_time": "2023-07-28T17:27:41.566Z"
   },
   {
    "duration": 33,
    "start_time": "2023-07-28T17:27:41.589Z"
   },
   {
    "duration": 27,
    "start_time": "2023-07-28T17:27:41.677Z"
   },
   {
    "duration": 204,
    "start_time": "2023-07-28T17:27:41.779Z"
   },
   {
    "duration": 237,
    "start_time": "2023-07-28T17:27:41.987Z"
   },
   {
    "duration": 412,
    "start_time": "2023-07-28T17:27:42.225Z"
   },
   {
    "duration": 184,
    "start_time": "2023-07-28T17:27:42.639Z"
   },
   {
    "duration": 22,
    "start_time": "2023-07-28T17:27:42.825Z"
   },
   {
    "duration": 40,
    "start_time": "2023-07-28T17:27:42.849Z"
   },
   {
    "duration": 22189,
    "start_time": "2023-07-28T17:27:42.895Z"
   },
   {
    "duration": 631,
    "start_time": "2023-07-28T17:28:05.086Z"
   },
   {
    "duration": 49,
    "start_time": "2023-07-28T17:28:05.719Z"
   },
   {
    "duration": 34,
    "start_time": "2023-07-28T17:28:05.784Z"
   },
   {
    "duration": 167,
    "start_time": "2023-07-28T17:28:05.820Z"
   },
   {
    "duration": 114,
    "start_time": "2023-07-28T17:28:05.993Z"
   },
   {
    "duration": 10,
    "start_time": "2023-07-28T17:28:06.110Z"
   },
   {
    "duration": 43,
    "start_time": "2023-07-28T17:28:06.122Z"
   },
   {
    "duration": 125,
    "start_time": "2023-07-28T17:28:06.168Z"
   },
   {
    "duration": 117,
    "start_time": "2023-07-28T17:28:06.297Z"
   },
   {
    "duration": 115,
    "start_time": "2023-07-28T17:28:06.489Z"
   },
   {
    "duration": 22,
    "start_time": "2023-07-28T17:28:06.606Z"
   },
   {
    "duration": 55,
    "start_time": "2023-07-28T17:28:06.630Z"
   },
   {
    "duration": 216,
    "start_time": "2023-07-28T17:28:06.687Z"
   },
   {
    "duration": 72,
    "start_time": "2023-07-28T17:28:06.914Z"
   },
   {
    "duration": 14,
    "start_time": "2023-07-28T17:28:06.996Z"
   },
   {
    "duration": 6,
    "start_time": "2023-07-28T17:28:07.012Z"
   },
   {
    "duration": 21632,
    "start_time": "2023-07-28T17:28:07.020Z"
   },
   {
    "duration": 699,
    "start_time": "2023-07-28T17:28:28.654Z"
   },
   {
    "duration": 168,
    "start_time": "2023-07-28T17:28:29.355Z"
   },
   {
    "duration": 7,
    "start_time": "2023-07-28T17:40:39.409Z"
   },
   {
    "duration": 16,
    "start_time": "2023-07-28T17:40:53.872Z"
   },
   {
    "duration": 24,
    "start_time": "2023-07-28T17:41:09.964Z"
   },
   {
    "duration": 11,
    "start_time": "2023-07-28T17:41:21.789Z"
   },
   {
    "duration": 9,
    "start_time": "2023-07-28T17:41:32.613Z"
   },
   {
    "duration": 6,
    "start_time": "2023-07-28T17:43:36.462Z"
   },
   {
    "duration": 7,
    "start_time": "2023-07-28T17:43:43.662Z"
   },
   {
    "duration": 18,
    "start_time": "2023-07-28T17:44:47.055Z"
   },
   {
    "duration": 31,
    "start_time": "2023-07-28T17:45:00.527Z"
   },
   {
    "duration": 5,
    "start_time": "2023-07-28T17:47:15.396Z"
   },
   {
    "duration": 1702,
    "start_time": "2023-07-28T17:53:28.134Z"
   },
   {
    "duration": 53,
    "start_time": "2023-07-28T17:53:29.838Z"
   },
   {
    "duration": 30,
    "start_time": "2023-07-28T17:53:29.893Z"
   },
   {
    "duration": 12,
    "start_time": "2023-07-28T17:53:29.926Z"
   },
   {
    "duration": 80,
    "start_time": "2023-07-28T17:53:29.940Z"
   },
   {
    "duration": 11,
    "start_time": "2023-07-28T17:53:30.022Z"
   },
   {
    "duration": 59,
    "start_time": "2023-07-28T17:53:30.034Z"
   },
   {
    "duration": 29,
    "start_time": "2023-07-28T17:53:30.096Z"
   },
   {
    "duration": 43,
    "start_time": "2023-07-28T17:53:30.128Z"
   },
   {
    "duration": 50,
    "start_time": "2023-07-28T17:53:30.173Z"
   },
   {
    "duration": 43,
    "start_time": "2023-07-28T17:53:30.224Z"
   },
   {
    "duration": 56,
    "start_time": "2023-07-28T17:53:30.270Z"
   },
   {
    "duration": 47,
    "start_time": "2023-07-28T17:53:30.328Z"
   },
   {
    "duration": 46,
    "start_time": "2023-07-28T17:53:30.378Z"
   },
   {
    "duration": 23,
    "start_time": "2023-07-28T17:53:30.427Z"
   },
   {
    "duration": 73,
    "start_time": "2023-07-28T17:53:30.452Z"
   },
   {
    "duration": 57,
    "start_time": "2023-07-28T17:53:30.526Z"
   },
   {
    "duration": 70,
    "start_time": "2023-07-28T17:53:30.585Z"
   },
   {
    "duration": 47,
    "start_time": "2023-07-28T17:53:30.657Z"
   },
   {
    "duration": 6,
    "start_time": "2023-07-28T17:53:30.709Z"
   },
   {
    "duration": 70,
    "start_time": "2023-07-28T17:53:30.718Z"
   },
   {
    "duration": 54,
    "start_time": "2023-07-28T17:53:30.791Z"
   },
   {
    "duration": 71,
    "start_time": "2023-07-28T17:53:30.847Z"
   },
   {
    "duration": 28,
    "start_time": "2023-07-28T17:53:30.920Z"
   },
   {
    "duration": 39,
    "start_time": "2023-07-28T17:53:30.950Z"
   },
   {
    "duration": 36,
    "start_time": "2023-07-28T17:53:30.990Z"
   },
   {
    "duration": 184,
    "start_time": "2023-07-28T17:53:31.028Z"
   },
   {
    "duration": 9,
    "start_time": "2023-07-28T17:53:31.219Z"
   },
   {
    "duration": 218,
    "start_time": "2023-07-28T17:53:31.230Z"
   },
   {
    "duration": 22,
    "start_time": "2023-07-28T17:53:31.449Z"
   },
   {
    "duration": 42,
    "start_time": "2023-07-28T17:53:31.473Z"
   },
   {
    "duration": 23142,
    "start_time": "2023-07-28T17:53:31.517Z"
   },
   {
    "duration": 652,
    "start_time": "2023-07-28T17:53:54.661Z"
   },
   {
    "duration": 15,
    "start_time": "2023-07-28T17:53:55.315Z"
   },
   {
    "duration": 150,
    "start_time": "2023-07-28T17:53:55.331Z"
   },
   {
    "duration": 38,
    "start_time": "2023-07-28T17:53:55.483Z"
   },
   {
    "duration": 200,
    "start_time": "2023-07-28T17:53:55.527Z"
   },
   {
    "duration": 203,
    "start_time": "2023-07-28T17:53:55.729Z"
   },
   {
    "duration": 421,
    "start_time": "2023-07-28T17:53:55.933Z"
   },
   {
    "duration": 198,
    "start_time": "2023-07-28T17:53:56.356Z"
   },
   {
    "duration": 32,
    "start_time": "2023-07-28T17:53:56.556Z"
   },
   {
    "duration": 30,
    "start_time": "2023-07-28T17:53:56.591Z"
   },
   {
    "duration": 22980,
    "start_time": "2023-07-28T17:53:56.626Z"
   },
   {
    "duration": 683,
    "start_time": "2023-07-28T17:54:19.614Z"
   },
   {
    "duration": 74,
    "start_time": "2023-07-28T17:54:20.299Z"
   },
   {
    "duration": 96,
    "start_time": "2023-07-28T17:54:20.382Z"
   },
   {
    "duration": 114,
    "start_time": "2023-07-28T17:54:20.482Z"
   },
   {
    "duration": 85,
    "start_time": "2023-07-28T17:54:20.622Z"
   },
   {
    "duration": 7,
    "start_time": "2023-07-28T17:54:20.720Z"
   },
   {
    "duration": 43,
    "start_time": "2023-07-28T17:54:20.729Z"
   },
   {
    "duration": 142,
    "start_time": "2023-07-28T17:54:20.774Z"
   },
   {
    "duration": 75,
    "start_time": "2023-07-28T17:54:20.922Z"
   },
   {
    "duration": 87,
    "start_time": "2023-07-28T17:54:21.016Z"
   },
   {
    "duration": 69,
    "start_time": "2023-07-28T17:54:21.111Z"
   },
   {
    "duration": 73,
    "start_time": "2023-07-28T17:54:21.182Z"
   },
   {
    "duration": 56,
    "start_time": "2023-07-28T17:54:21.256Z"
   },
   {
    "duration": 71,
    "start_time": "2023-07-28T17:54:21.314Z"
   },
   {
    "duration": 19,
    "start_time": "2023-07-28T17:54:21.401Z"
   },
   {
    "duration": 5,
    "start_time": "2023-07-28T17:54:21.425Z"
   },
   {
    "duration": 23173,
    "start_time": "2023-07-28T17:54:21.432Z"
   },
   {
    "duration": 805,
    "start_time": "2023-07-28T17:54:44.615Z"
   },
   {
    "duration": 137,
    "start_time": "2023-07-28T17:54:45.422Z"
   },
   {
    "duration": 2514,
    "start_time": "2023-07-28T18:01:55.017Z"
   },
   {
    "duration": 80,
    "start_time": "2023-07-28T18:01:57.534Z"
   },
   {
    "duration": 26,
    "start_time": "2023-07-28T18:01:57.616Z"
   },
   {
    "duration": 58,
    "start_time": "2023-07-28T18:01:57.645Z"
   },
   {
    "duration": 75,
    "start_time": "2023-07-28T18:01:57.705Z"
   },
   {
    "duration": 10,
    "start_time": "2023-07-28T18:01:57.782Z"
   },
   {
    "duration": 43,
    "start_time": "2023-07-28T18:01:57.794Z"
   },
   {
    "duration": 24,
    "start_time": "2023-07-28T18:01:57.838Z"
   },
   {
    "duration": 21,
    "start_time": "2023-07-28T18:01:57.864Z"
   },
   {
    "duration": 19,
    "start_time": "2023-07-28T18:01:57.888Z"
   },
   {
    "duration": 48,
    "start_time": "2023-07-28T18:01:57.909Z"
   },
   {
    "duration": 34,
    "start_time": "2023-07-28T18:01:57.959Z"
   },
   {
    "duration": 17,
    "start_time": "2023-07-28T18:01:57.995Z"
   },
   {
    "duration": 25,
    "start_time": "2023-07-28T18:01:58.014Z"
   },
   {
    "duration": 34,
    "start_time": "2023-07-28T18:01:58.040Z"
   },
   {
    "duration": 44,
    "start_time": "2023-07-28T18:01:58.075Z"
   },
   {
    "duration": 34,
    "start_time": "2023-07-28T18:01:58.120Z"
   },
   {
    "duration": 18,
    "start_time": "2023-07-28T18:01:58.156Z"
   },
   {
    "duration": 20,
    "start_time": "2023-07-28T18:01:58.176Z"
   },
   {
    "duration": 6,
    "start_time": "2023-07-28T18:01:58.198Z"
   },
   {
    "duration": 17,
    "start_time": "2023-07-28T18:01:58.206Z"
   },
   {
    "duration": 25,
    "start_time": "2023-07-28T18:01:58.225Z"
   },
   {
    "duration": 44,
    "start_time": "2023-07-28T18:01:58.252Z"
   },
   {
    "duration": 37,
    "start_time": "2023-07-28T18:01:58.298Z"
   },
   {
    "duration": 35,
    "start_time": "2023-07-28T18:01:58.337Z"
   },
   {
    "duration": 18,
    "start_time": "2023-07-28T18:01:58.375Z"
   },
   {
    "duration": 149,
    "start_time": "2023-07-28T18:01:58.395Z"
   },
   {
    "duration": 7,
    "start_time": "2023-07-28T18:01:58.548Z"
   },
   {
    "duration": 194,
    "start_time": "2023-07-28T18:01:58.557Z"
   },
   {
    "duration": 24,
    "start_time": "2023-07-28T18:01:58.753Z"
   },
   {
    "duration": 18,
    "start_time": "2023-07-28T18:01:58.780Z"
   },
   {
    "duration": 19877,
    "start_time": "2023-07-28T18:01:58.801Z"
   },
   {
    "duration": 541,
    "start_time": "2023-07-28T18:02:18.680Z"
   },
   {
    "duration": 12,
    "start_time": "2023-07-28T18:02:19.222Z"
   },
   {
    "duration": 65,
    "start_time": "2023-07-28T18:02:19.236Z"
   },
   {
    "duration": 13,
    "start_time": "2023-07-28T18:02:19.388Z"
   },
   {
    "duration": 230,
    "start_time": "2023-07-28T18:02:19.403Z"
   },
   {
    "duration": 204,
    "start_time": "2023-07-28T18:02:19.635Z"
   },
   {
    "duration": 414,
    "start_time": "2023-07-28T18:02:19.841Z"
   },
   {
    "duration": 185,
    "start_time": "2023-07-28T18:02:20.257Z"
   },
   {
    "duration": 22,
    "start_time": "2023-07-28T18:02:20.444Z"
   },
   {
    "duration": 28,
    "start_time": "2023-07-28T18:02:20.467Z"
   },
   {
    "duration": 19968,
    "start_time": "2023-07-28T18:02:20.497Z"
   },
   {
    "duration": 566,
    "start_time": "2023-07-28T18:02:40.467Z"
   },
   {
    "duration": 64,
    "start_time": "2023-07-28T18:02:41.034Z"
   },
   {
    "duration": 87,
    "start_time": "2023-07-28T18:02:41.100Z"
   },
   {
    "duration": 104,
    "start_time": "2023-07-28T18:02:41.190Z"
   },
   {
    "duration": 190,
    "start_time": "2023-07-28T18:02:41.299Z"
   },
   {
    "duration": 4,
    "start_time": "2023-07-28T18:02:41.492Z"
   },
   {
    "duration": 71,
    "start_time": "2023-07-28T18:02:41.498Z"
   },
   {
    "duration": 117,
    "start_time": "2023-07-28T18:02:41.571Z"
   },
   {
    "duration": 112,
    "start_time": "2023-07-28T18:02:41.690Z"
   },
   {
    "duration": 108,
    "start_time": "2023-07-28T18:02:41.888Z"
   },
   {
    "duration": 23,
    "start_time": "2023-07-28T18:02:41.998Z"
   },
   {
    "duration": 77,
    "start_time": "2023-07-28T18:02:42.023Z"
   },
   {
    "duration": 196,
    "start_time": "2023-07-28T18:02:42.102Z"
   },
   {
    "duration": 91,
    "start_time": "2023-07-28T18:02:42.301Z"
   },
   {
    "duration": 137,
    "start_time": "2023-07-28T18:02:42.394Z"
   },
   {
    "duration": 121,
    "start_time": "2023-07-28T18:02:42.533Z"
   },
   {
    "duration": 20671,
    "start_time": "2023-07-28T18:02:42.657Z"
   },
   {
    "duration": 705,
    "start_time": "2023-07-28T18:03:03.330Z"
   },
   {
    "duration": 134,
    "start_time": "2023-07-28T18:03:04.037Z"
   },
   {
    "duration": 9,
    "start_time": "2023-07-28T20:18:40.610Z"
   },
   {
    "duration": 46,
    "start_time": "2023-07-28T20:18:40.621Z"
   },
   {
    "duration": 14,
    "start_time": "2023-07-28T20:18:40.669Z"
   },
   {
    "duration": 33,
    "start_time": "2023-07-28T20:18:40.686Z"
   },
   {
    "duration": 40,
    "start_time": "2023-07-28T20:18:40.720Z"
   },
   {
    "duration": 39,
    "start_time": "2023-07-28T20:18:40.762Z"
   },
   {
    "duration": 10,
    "start_time": "2023-07-28T20:18:40.802Z"
   },
   {
    "duration": 41,
    "start_time": "2023-07-28T20:18:40.816Z"
   },
   {
    "duration": 11,
    "start_time": "2023-07-28T20:18:40.859Z"
   },
   {
    "duration": 7,
    "start_time": "2023-07-28T20:18:40.872Z"
   },
   {
    "duration": 18,
    "start_time": "2023-07-28T20:18:40.881Z"
   },
   {
    "duration": 14,
    "start_time": "2023-07-28T20:18:40.910Z"
   },
   {
    "duration": 29,
    "start_time": "2023-07-28T20:18:40.925Z"
   },
   {
    "duration": 22,
    "start_time": "2023-07-28T20:18:40.956Z"
   },
   {
    "duration": 13,
    "start_time": "2023-07-28T20:18:40.979Z"
   },
   {
    "duration": 31,
    "start_time": "2023-07-28T20:18:40.994Z"
   },
   {
    "duration": 18,
    "start_time": "2023-07-28T20:18:41.027Z"
   },
   {
    "duration": 16,
    "start_time": "2023-07-28T20:18:41.046Z"
   },
   {
    "duration": 18,
    "start_time": "2023-07-28T20:18:41.064Z"
   },
   {
    "duration": 23,
    "start_time": "2023-07-28T20:18:41.084Z"
   },
   {
    "duration": 8,
    "start_time": "2023-07-28T20:18:41.113Z"
   },
   {
    "duration": 4,
    "start_time": "2023-07-28T20:18:41.122Z"
   },
   {
    "duration": 5,
    "start_time": "2023-07-28T20:18:41.127Z"
   },
   {
    "duration": 4,
    "start_time": "2023-07-28T20:18:41.135Z"
   },
   {
    "duration": 12,
    "start_time": "2023-07-28T20:18:41.140Z"
   },
   {
    "duration": 10,
    "start_time": "2023-07-28T20:18:41.154Z"
   },
   {
    "duration": 114,
    "start_time": "2023-07-28T20:18:41.166Z"
   },
   {
    "duration": 17,
    "start_time": "2023-07-28T20:18:41.288Z"
   },
   {
    "duration": 162,
    "start_time": "2023-07-28T20:18:41.309Z"
   },
   {
    "duration": 43,
    "start_time": "2023-07-28T20:18:41.472Z"
   },
   {
    "duration": 10,
    "start_time": "2023-07-28T20:18:41.518Z"
   },
   {
    "duration": 22623,
    "start_time": "2023-07-28T20:18:41.530Z"
   },
   {
    "duration": 651,
    "start_time": "2023-07-28T20:19:04.155Z"
   },
   {
    "duration": 14,
    "start_time": "2023-07-28T20:19:04.818Z"
   },
   {
    "duration": 40,
    "start_time": "2023-07-28T20:19:04.834Z"
   },
   {
    "duration": 38,
    "start_time": "2023-07-28T20:19:04.878Z"
   },
   {
    "duration": 272,
    "start_time": "2023-07-28T20:19:04.918Z"
   },
   {
    "duration": 221,
    "start_time": "2023-07-28T20:19:05.192Z"
   },
   {
    "duration": 342,
    "start_time": "2023-07-28T20:19:05.418Z"
   },
   {
    "duration": 209,
    "start_time": "2023-07-28T20:19:05.762Z"
   },
   {
    "duration": 45,
    "start_time": "2023-07-28T20:19:05.974Z"
   },
   {
    "duration": 88,
    "start_time": "2023-07-28T20:19:06.024Z"
   },
   {
    "duration": 22288,
    "start_time": "2023-07-28T20:19:06.114Z"
   },
   {
    "duration": 619,
    "start_time": "2023-07-28T20:19:28.404Z"
   },
   {
    "duration": 50,
    "start_time": "2023-07-28T20:19:29.024Z"
   },
   {
    "duration": 5,
    "start_time": "2023-07-28T20:19:52.873Z"
   },
   {
    "duration": 4,
    "start_time": "2023-07-28T20:21:17.262Z"
   },
   {
    "duration": 1596,
    "start_time": "2023-07-29T08:55:29.831Z"
   },
   {
    "duration": 1383,
    "start_time": "2023-07-29T08:55:35.525Z"
   },
   {
    "duration": 147,
    "start_time": "2023-07-29T08:55:36.910Z"
   },
   {
    "duration": 17,
    "start_time": "2023-07-29T08:55:37.058Z"
   },
   {
    "duration": 13,
    "start_time": "2023-07-29T08:55:37.077Z"
   },
   {
    "duration": 37,
    "start_time": "2023-07-29T08:55:37.092Z"
   },
   {
    "duration": 34,
    "start_time": "2023-07-29T08:55:37.131Z"
   },
   {
    "duration": 7,
    "start_time": "2023-07-29T08:55:37.167Z"
   },
   {
    "duration": 5,
    "start_time": "2023-07-29T08:55:37.175Z"
   },
   {
    "duration": 10,
    "start_time": "2023-07-29T08:55:37.181Z"
   },
   {
    "duration": 12,
    "start_time": "2023-07-29T08:55:37.194Z"
   },
   {
    "duration": 10,
    "start_time": "2023-07-29T08:55:37.208Z"
   },
   {
    "duration": 40,
    "start_time": "2023-07-29T08:55:37.219Z"
   },
   {
    "duration": 12,
    "start_time": "2023-07-29T08:55:37.261Z"
   },
   {
    "duration": 6,
    "start_time": "2023-07-29T08:55:37.275Z"
   },
   {
    "duration": 5,
    "start_time": "2023-07-29T08:55:37.282Z"
   },
   {
    "duration": 14,
    "start_time": "2023-07-29T08:55:37.288Z"
   },
   {
    "duration": 17,
    "start_time": "2023-07-29T08:55:37.304Z"
   },
   {
    "duration": 42,
    "start_time": "2023-07-29T08:55:37.323Z"
   },
   {
    "duration": 17,
    "start_time": "2023-07-29T08:55:37.367Z"
   },
   {
    "duration": 5,
    "start_time": "2023-07-29T08:55:37.386Z"
   },
   {
    "duration": 6,
    "start_time": "2023-07-29T08:55:37.392Z"
   },
   {
    "duration": 9,
    "start_time": "2023-07-29T08:55:37.399Z"
   },
   {
    "duration": 6,
    "start_time": "2023-07-29T08:55:37.410Z"
   },
   {
    "duration": 5,
    "start_time": "2023-07-29T08:55:37.418Z"
   },
   {
    "duration": 4,
    "start_time": "2023-07-29T08:55:37.460Z"
   },
   {
    "duration": 9,
    "start_time": "2023-07-29T08:55:37.465Z"
   },
   {
    "duration": 10,
    "start_time": "2023-07-29T08:55:37.475Z"
   },
   {
    "duration": 125,
    "start_time": "2023-07-29T08:55:37.489Z"
   },
   {
    "duration": 0,
    "start_time": "2023-07-29T08:55:37.616Z"
   },
   {
    "duration": 0,
    "start_time": "2023-07-29T08:55:37.617Z"
   },
   {
    "duration": 0,
    "start_time": "2023-07-29T08:55:37.620Z"
   },
   {
    "duration": 0,
    "start_time": "2023-07-29T08:55:37.621Z"
   },
   {
    "duration": 0,
    "start_time": "2023-07-29T08:55:37.622Z"
   },
   {
    "duration": 0,
    "start_time": "2023-07-29T08:55:37.623Z"
   },
   {
    "duration": 0,
    "start_time": "2023-07-29T08:55:37.625Z"
   },
   {
    "duration": 0,
    "start_time": "2023-07-29T08:55:37.626Z"
   },
   {
    "duration": 0,
    "start_time": "2023-07-29T08:55:37.628Z"
   },
   {
    "duration": 0,
    "start_time": "2023-07-29T08:55:37.629Z"
   },
   {
    "duration": 0,
    "start_time": "2023-07-29T08:55:37.630Z"
   },
   {
    "duration": 0,
    "start_time": "2023-07-29T08:55:37.660Z"
   },
   {
    "duration": 0,
    "start_time": "2023-07-29T08:55:37.661Z"
   },
   {
    "duration": 0,
    "start_time": "2023-07-29T08:55:37.663Z"
   },
   {
    "duration": 0,
    "start_time": "2023-07-29T08:55:37.665Z"
   },
   {
    "duration": 0,
    "start_time": "2023-07-29T08:55:37.666Z"
   },
   {
    "duration": 0,
    "start_time": "2023-07-29T08:55:37.667Z"
   },
   {
    "duration": 0,
    "start_time": "2023-07-29T08:55:37.669Z"
   },
   {
    "duration": 0,
    "start_time": "2023-07-29T08:55:37.670Z"
   },
   {
    "duration": 0,
    "start_time": "2023-07-29T08:55:37.672Z"
   },
   {
    "duration": 0,
    "start_time": "2023-07-29T08:55:37.673Z"
   },
   {
    "duration": 0,
    "start_time": "2023-07-29T08:55:37.675Z"
   },
   {
    "duration": 0,
    "start_time": "2023-07-29T08:55:37.676Z"
   },
   {
    "duration": 0,
    "start_time": "2023-07-29T08:55:37.678Z"
   },
   {
    "duration": 0,
    "start_time": "2023-07-29T08:55:37.679Z"
   },
   {
    "duration": 0,
    "start_time": "2023-07-29T08:55:37.680Z"
   },
   {
    "duration": 0,
    "start_time": "2023-07-29T08:55:37.682Z"
   },
   {
    "duration": 0,
    "start_time": "2023-07-29T08:55:37.684Z"
   },
   {
    "duration": 0,
    "start_time": "2023-07-29T08:55:37.685Z"
   },
   {
    "duration": 0,
    "start_time": "2023-07-29T08:55:37.687Z"
   },
   {
    "duration": 0,
    "start_time": "2023-07-29T08:55:37.688Z"
   },
   {
    "duration": 0,
    "start_time": "2023-07-29T08:55:37.689Z"
   },
   {
    "duration": 0,
    "start_time": "2023-07-29T08:55:37.690Z"
   },
   {
    "duration": 0,
    "start_time": "2023-07-29T08:55:37.691Z"
   },
   {
    "duration": 9,
    "start_time": "2023-07-29T08:58:27.017Z"
   },
   {
    "duration": 52,
    "start_time": "2023-07-29T08:58:39.594Z"
   },
   {
    "duration": 51,
    "start_time": "2023-07-29T08:58:51.782Z"
   },
   {
    "duration": 45,
    "start_time": "2023-07-29T08:59:06.885Z"
   },
   {
    "duration": 20,
    "start_time": "2023-07-29T09:02:37.747Z"
   },
   {
    "duration": 13,
    "start_time": "2023-07-29T09:02:53.839Z"
   },
   {
    "duration": 7,
    "start_time": "2023-07-29T09:03:11.688Z"
   },
   {
    "duration": 7,
    "start_time": "2023-07-29T09:03:21.391Z"
   },
   {
    "duration": 1470,
    "start_time": "2023-07-29T09:03:27.947Z"
   },
   {
    "duration": 41,
    "start_time": "2023-07-29T09:03:29.419Z"
   },
   {
    "duration": 16,
    "start_time": "2023-07-29T09:03:29.461Z"
   },
   {
    "duration": 12,
    "start_time": "2023-07-29T09:03:29.479Z"
   },
   {
    "duration": 51,
    "start_time": "2023-07-29T09:03:29.493Z"
   },
   {
    "duration": 11,
    "start_time": "2023-07-29T09:03:29.558Z"
   },
   {
    "duration": 7,
    "start_time": "2023-07-29T09:03:29.571Z"
   },
   {
    "duration": 42,
    "start_time": "2023-07-29T09:03:29.580Z"
   },
   {
    "duration": 11,
    "start_time": "2023-07-29T09:03:29.624Z"
   },
   {
    "duration": 8,
    "start_time": "2023-07-29T09:03:29.660Z"
   },
   {
    "duration": 5,
    "start_time": "2023-07-29T09:03:29.669Z"
   },
   {
    "duration": 11,
    "start_time": "2023-07-29T09:03:29.675Z"
   },
   {
    "duration": 12,
    "start_time": "2023-07-29T09:03:29.687Z"
   },
   {
    "duration": 8,
    "start_time": "2023-07-29T09:03:29.700Z"
   },
   {
    "duration": 4,
    "start_time": "2023-07-29T09:03:29.710Z"
   },
   {
    "duration": 3,
    "start_time": "2023-07-29T09:03:29.716Z"
   },
   {
    "duration": 42,
    "start_time": "2023-07-29T09:03:29.720Z"
   },
   {
    "duration": 18,
    "start_time": "2023-07-29T09:03:29.764Z"
   },
   {
    "duration": 15,
    "start_time": "2023-07-29T09:03:29.783Z"
   },
   {
    "duration": 14,
    "start_time": "2023-07-29T09:03:29.800Z"
   },
   {
    "duration": 3,
    "start_time": "2023-07-29T09:03:29.816Z"
   },
   {
    "duration": 6,
    "start_time": "2023-07-29T09:03:29.820Z"
   },
   {
    "duration": 4,
    "start_time": "2023-07-29T09:03:29.860Z"
   },
   {
    "duration": 5,
    "start_time": "2023-07-29T09:03:29.866Z"
   },
   {
    "duration": 4,
    "start_time": "2023-07-29T09:03:29.873Z"
   },
   {
    "duration": 5,
    "start_time": "2023-07-29T09:03:29.879Z"
   },
   {
    "duration": 6,
    "start_time": "2023-07-29T09:03:29.886Z"
   },
   {
    "duration": 7,
    "start_time": "2023-07-29T09:03:29.897Z"
   },
   {
    "duration": 150,
    "start_time": "2023-07-29T09:03:29.905Z"
   },
   {
    "duration": 0,
    "start_time": "2023-07-29T09:03:30.064Z"
   },
   {
    "duration": 0,
    "start_time": "2023-07-29T09:03:30.065Z"
   },
   {
    "duration": 0,
    "start_time": "2023-07-29T09:03:30.066Z"
   },
   {
    "duration": 0,
    "start_time": "2023-07-29T09:03:30.067Z"
   },
   {
    "duration": 0,
    "start_time": "2023-07-29T09:03:30.068Z"
   },
   {
    "duration": 0,
    "start_time": "2023-07-29T09:03:30.070Z"
   },
   {
    "duration": 0,
    "start_time": "2023-07-29T09:03:30.071Z"
   },
   {
    "duration": 0,
    "start_time": "2023-07-29T09:03:30.073Z"
   },
   {
    "duration": 0,
    "start_time": "2023-07-29T09:03:30.074Z"
   },
   {
    "duration": 0,
    "start_time": "2023-07-29T09:03:30.075Z"
   },
   {
    "duration": 0,
    "start_time": "2023-07-29T09:03:30.076Z"
   },
   {
    "duration": 0,
    "start_time": "2023-07-29T09:03:30.077Z"
   },
   {
    "duration": 0,
    "start_time": "2023-07-29T09:03:30.079Z"
   },
   {
    "duration": 0,
    "start_time": "2023-07-29T09:03:30.081Z"
   },
   {
    "duration": 0,
    "start_time": "2023-07-29T09:03:30.082Z"
   },
   {
    "duration": 0,
    "start_time": "2023-07-29T09:03:30.083Z"
   },
   {
    "duration": 0,
    "start_time": "2023-07-29T09:03:30.085Z"
   },
   {
    "duration": 0,
    "start_time": "2023-07-29T09:03:30.087Z"
   },
   {
    "duration": 0,
    "start_time": "2023-07-29T09:03:30.088Z"
   },
   {
    "duration": 0,
    "start_time": "2023-07-29T09:03:30.089Z"
   },
   {
    "duration": 0,
    "start_time": "2023-07-29T09:03:30.091Z"
   },
   {
    "duration": 0,
    "start_time": "2023-07-29T09:03:30.093Z"
   },
   {
    "duration": 0,
    "start_time": "2023-07-29T09:03:30.094Z"
   },
   {
    "duration": 0,
    "start_time": "2023-07-29T09:03:30.095Z"
   },
   {
    "duration": 0,
    "start_time": "2023-07-29T09:03:30.096Z"
   },
   {
    "duration": 0,
    "start_time": "2023-07-29T09:03:30.097Z"
   },
   {
    "duration": 0,
    "start_time": "2023-07-29T09:03:30.098Z"
   },
   {
    "duration": 0,
    "start_time": "2023-07-29T09:03:30.100Z"
   },
   {
    "duration": 1,
    "start_time": "2023-07-29T09:03:30.158Z"
   },
   {
    "duration": 0,
    "start_time": "2023-07-29T09:03:30.161Z"
   },
   {
    "duration": 0,
    "start_time": "2023-07-29T09:03:30.162Z"
   },
   {
    "duration": 0,
    "start_time": "2023-07-29T09:03:30.163Z"
   },
   {
    "duration": 0,
    "start_time": "2023-07-29T09:03:30.164Z"
   },
   {
    "duration": 0,
    "start_time": "2023-07-29T09:03:30.165Z"
   },
   {
    "duration": 24,
    "start_time": "2023-07-29T09:06:03.057Z"
   },
   {
    "duration": 1723,
    "start_time": "2023-07-29T09:11:18.526Z"
   },
   {
    "duration": 6,
    "start_time": "2023-07-29T09:11:34.933Z"
   },
   {
    "duration": 6,
    "start_time": "2023-07-29T09:13:15.496Z"
   },
   {
    "duration": 22,
    "start_time": "2023-07-29T09:13:27.904Z"
   },
   {
    "duration": 15,
    "start_time": "2023-07-29T09:14:20.160Z"
   },
   {
    "duration": 6,
    "start_time": "2023-07-29T09:15:07.721Z"
   },
   {
    "duration": 27,
    "start_time": "2023-07-29T09:15:12.042Z"
   },
   {
    "duration": 1580,
    "start_time": "2023-07-29T09:15:32.815Z"
   },
   {
    "duration": 52,
    "start_time": "2023-07-29T09:15:34.398Z"
   },
   {
    "duration": 20,
    "start_time": "2023-07-29T09:15:34.452Z"
   },
   {
    "duration": 15,
    "start_time": "2023-07-29T09:15:34.476Z"
   },
   {
    "duration": 69,
    "start_time": "2023-07-29T09:15:34.492Z"
   },
   {
    "duration": 14,
    "start_time": "2023-07-29T09:15:34.564Z"
   },
   {
    "duration": 8,
    "start_time": "2023-07-29T09:15:34.580Z"
   },
   {
    "duration": 11,
    "start_time": "2023-07-29T09:15:34.590Z"
   },
   {
    "duration": 148,
    "start_time": "2023-07-29T09:15:34.603Z"
   },
   {
    "duration": 0,
    "start_time": "2023-07-29T09:15:34.760Z"
   },
   {
    "duration": 0,
    "start_time": "2023-07-29T09:15:34.762Z"
   },
   {
    "duration": 0,
    "start_time": "2023-07-29T09:15:34.763Z"
   },
   {
    "duration": 0,
    "start_time": "2023-07-29T09:15:34.765Z"
   },
   {
    "duration": 0,
    "start_time": "2023-07-29T09:15:34.765Z"
   },
   {
    "duration": 0,
    "start_time": "2023-07-29T09:15:34.766Z"
   },
   {
    "duration": 0,
    "start_time": "2023-07-29T09:15:34.768Z"
   },
   {
    "duration": 0,
    "start_time": "2023-07-29T09:15:34.769Z"
   },
   {
    "duration": 0,
    "start_time": "2023-07-29T09:15:34.769Z"
   },
   {
    "duration": 0,
    "start_time": "2023-07-29T09:15:34.770Z"
   },
   {
    "duration": 0,
    "start_time": "2023-07-29T09:15:34.772Z"
   },
   {
    "duration": 0,
    "start_time": "2023-07-29T09:15:34.773Z"
   },
   {
    "duration": 0,
    "start_time": "2023-07-29T09:15:34.774Z"
   },
   {
    "duration": 0,
    "start_time": "2023-07-29T09:15:34.775Z"
   },
   {
    "duration": 0,
    "start_time": "2023-07-29T09:15:34.776Z"
   },
   {
    "duration": 0,
    "start_time": "2023-07-29T09:15:34.777Z"
   },
   {
    "duration": 0,
    "start_time": "2023-07-29T09:15:34.778Z"
   },
   {
    "duration": 0,
    "start_time": "2023-07-29T09:15:34.779Z"
   },
   {
    "duration": 0,
    "start_time": "2023-07-29T09:15:34.780Z"
   },
   {
    "duration": 0,
    "start_time": "2023-07-29T09:15:34.781Z"
   },
   {
    "duration": 0,
    "start_time": "2023-07-29T09:15:34.782Z"
   },
   {
    "duration": 0,
    "start_time": "2023-07-29T09:15:34.783Z"
   },
   {
    "duration": 0,
    "start_time": "2023-07-29T09:15:34.784Z"
   },
   {
    "duration": 0,
    "start_time": "2023-07-29T09:15:34.785Z"
   },
   {
    "duration": 0,
    "start_time": "2023-07-29T09:15:34.786Z"
   },
   {
    "duration": 0,
    "start_time": "2023-07-29T09:15:34.787Z"
   },
   {
    "duration": 0,
    "start_time": "2023-07-29T09:15:34.788Z"
   },
   {
    "duration": 0,
    "start_time": "2023-07-29T09:15:34.789Z"
   },
   {
    "duration": 0,
    "start_time": "2023-07-29T09:15:34.790Z"
   },
   {
    "duration": 0,
    "start_time": "2023-07-29T09:15:34.791Z"
   },
   {
    "duration": 0,
    "start_time": "2023-07-29T09:15:34.792Z"
   },
   {
    "duration": 0,
    "start_time": "2023-07-29T09:15:34.793Z"
   },
   {
    "duration": 0,
    "start_time": "2023-07-29T09:15:34.794Z"
   },
   {
    "duration": 0,
    "start_time": "2023-07-29T09:15:34.796Z"
   },
   {
    "duration": 0,
    "start_time": "2023-07-29T09:15:34.860Z"
   },
   {
    "duration": 0,
    "start_time": "2023-07-29T09:15:34.861Z"
   },
   {
    "duration": 0,
    "start_time": "2023-07-29T09:15:34.862Z"
   },
   {
    "duration": 0,
    "start_time": "2023-07-29T09:15:34.863Z"
   },
   {
    "duration": 0,
    "start_time": "2023-07-29T09:15:34.865Z"
   },
   {
    "duration": 0,
    "start_time": "2023-07-29T09:15:34.866Z"
   },
   {
    "duration": 0,
    "start_time": "2023-07-29T09:15:34.868Z"
   },
   {
    "duration": 0,
    "start_time": "2023-07-29T09:15:34.869Z"
   },
   {
    "duration": 0,
    "start_time": "2023-07-29T09:15:34.871Z"
   },
   {
    "duration": 0,
    "start_time": "2023-07-29T09:15:34.872Z"
   },
   {
    "duration": 0,
    "start_time": "2023-07-29T09:15:34.874Z"
   },
   {
    "duration": 1,
    "start_time": "2023-07-29T09:15:34.875Z"
   },
   {
    "duration": 0,
    "start_time": "2023-07-29T09:15:34.877Z"
   },
   {
    "duration": 0,
    "start_time": "2023-07-29T09:15:34.878Z"
   },
   {
    "duration": 0,
    "start_time": "2023-07-29T09:15:34.880Z"
   },
   {
    "duration": 1,
    "start_time": "2023-07-29T09:15:34.881Z"
   },
   {
    "duration": 0,
    "start_time": "2023-07-29T09:15:34.883Z"
   },
   {
    "duration": 0,
    "start_time": "2023-07-29T09:15:34.885Z"
   },
   {
    "duration": 0,
    "start_time": "2023-07-29T09:15:34.886Z"
   },
   {
    "duration": 0,
    "start_time": "2023-07-29T09:15:34.888Z"
   },
   {
    "duration": 0,
    "start_time": "2023-07-29T09:15:34.889Z"
   },
   {
    "duration": 0,
    "start_time": "2023-07-29T09:15:34.891Z"
   },
   {
    "duration": 0,
    "start_time": "2023-07-29T09:15:34.892Z"
   },
   {
    "duration": 3,
    "start_time": "2023-07-29T09:16:32.131Z"
   },
   {
    "duration": 5,
    "start_time": "2023-07-29T09:16:34.523Z"
   },
   {
    "duration": 19,
    "start_time": "2023-07-29T09:16:35.620Z"
   },
   {
    "duration": 57,
    "start_time": "2023-07-29T09:22:39.506Z"
   },
   {
    "duration": 14,
    "start_time": "2023-07-29T09:22:44.121Z"
   },
   {
    "duration": 13,
    "start_time": "2023-07-29T09:23:02.475Z"
   },
   {
    "duration": 8,
    "start_time": "2023-07-29T09:23:08.321Z"
   },
   {
    "duration": 30,
    "start_time": "2023-07-29T09:24:01.523Z"
   },
   {
    "duration": 8,
    "start_time": "2023-07-29T09:24:04.449Z"
   },
   {
    "duration": 8,
    "start_time": "2023-07-29T09:24:31.401Z"
   },
   {
    "duration": 1852,
    "start_time": "2023-07-29T10:51:27.870Z"
   },
   {
    "duration": 87,
    "start_time": "2023-07-29T10:51:29.724Z"
   },
   {
    "duration": 27,
    "start_time": "2023-07-29T10:51:29.813Z"
   },
   {
    "duration": 18,
    "start_time": "2023-07-29T10:51:29.843Z"
   },
   {
    "duration": 51,
    "start_time": "2023-07-29T10:51:29.863Z"
   },
   {
    "duration": 14,
    "start_time": "2023-07-29T10:51:29.916Z"
   },
   {
    "duration": 9,
    "start_time": "2023-07-29T10:51:29.952Z"
   },
   {
    "duration": 13,
    "start_time": "2023-07-29T10:51:29.963Z"
   },
   {
    "duration": 6,
    "start_time": "2023-07-29T10:51:29.978Z"
   },
   {
    "duration": 8,
    "start_time": "2023-07-29T10:51:29.988Z"
   },
   {
    "duration": 83,
    "start_time": "2023-07-29T10:51:29.998Z"
   },
   {
    "duration": 60,
    "start_time": "2023-07-29T10:51:30.083Z"
   },
   {
    "duration": 10,
    "start_time": "2023-07-29T10:51:30.146Z"
   },
   {
    "duration": 21,
    "start_time": "2023-07-29T10:51:30.158Z"
   },
   {
    "duration": 49,
    "start_time": "2023-07-29T10:51:30.181Z"
   },
   {
    "duration": 110,
    "start_time": "2023-07-29T10:51:30.232Z"
   },
   {
    "duration": 37,
    "start_time": "2023-07-29T10:51:30.344Z"
   },
   {
    "duration": 52,
    "start_time": "2023-07-29T10:51:30.383Z"
   },
   {
    "duration": 39,
    "start_time": "2023-07-29T10:51:30.437Z"
   },
   {
    "duration": 57,
    "start_time": "2023-07-29T10:51:30.478Z"
   },
   {
    "duration": 84,
    "start_time": "2023-07-29T10:51:30.538Z"
   },
   {
    "duration": 67,
    "start_time": "2023-07-29T10:51:30.624Z"
   },
   {
    "duration": 46,
    "start_time": "2023-07-29T10:51:30.694Z"
   },
   {
    "duration": 41,
    "start_time": "2023-07-29T10:51:30.743Z"
   },
   {
    "duration": 66,
    "start_time": "2023-07-29T10:51:30.786Z"
   },
   {
    "duration": 46,
    "start_time": "2023-07-29T10:51:30.854Z"
   },
   {
    "duration": 101,
    "start_time": "2023-07-29T10:51:30.903Z"
   },
   {
    "duration": 83,
    "start_time": "2023-07-29T10:51:31.009Z"
   },
   {
    "duration": 53,
    "start_time": "2023-07-29T10:51:31.094Z"
   },
   {
    "duration": 66,
    "start_time": "2023-07-29T10:51:31.149Z"
   },
   {
    "duration": 73,
    "start_time": "2023-07-29T10:51:31.218Z"
   },
   {
    "duration": 211,
    "start_time": "2023-07-29T10:51:31.293Z"
   },
   {
    "duration": 1,
    "start_time": "2023-07-29T10:51:31.506Z"
   },
   {
    "duration": 0,
    "start_time": "2023-07-29T10:51:31.508Z"
   },
   {
    "duration": 0,
    "start_time": "2023-07-29T10:51:31.510Z"
   },
   {
    "duration": 0,
    "start_time": "2023-07-29T10:51:31.511Z"
   },
   {
    "duration": 0,
    "start_time": "2023-07-29T10:51:31.512Z"
   },
   {
    "duration": 0,
    "start_time": "2023-07-29T10:51:31.513Z"
   },
   {
    "duration": 0,
    "start_time": "2023-07-29T10:51:31.515Z"
   },
   {
    "duration": 0,
    "start_time": "2023-07-29T10:51:31.515Z"
   },
   {
    "duration": 0,
    "start_time": "2023-07-29T10:51:31.518Z"
   },
   {
    "duration": 0,
    "start_time": "2023-07-29T10:51:31.519Z"
   },
   {
    "duration": 0,
    "start_time": "2023-07-29T10:51:31.520Z"
   },
   {
    "duration": 0,
    "start_time": "2023-07-29T10:51:31.521Z"
   },
   {
    "duration": 0,
    "start_time": "2023-07-29T10:51:31.553Z"
   },
   {
    "duration": 0,
    "start_time": "2023-07-29T10:51:31.555Z"
   },
   {
    "duration": 0,
    "start_time": "2023-07-29T10:51:31.556Z"
   },
   {
    "duration": 0,
    "start_time": "2023-07-29T10:51:31.557Z"
   },
   {
    "duration": 0,
    "start_time": "2023-07-29T10:51:31.559Z"
   },
   {
    "duration": 0,
    "start_time": "2023-07-29T10:51:31.560Z"
   },
   {
    "duration": 0,
    "start_time": "2023-07-29T10:51:31.561Z"
   },
   {
    "duration": 0,
    "start_time": "2023-07-29T10:51:31.563Z"
   },
   {
    "duration": 0,
    "start_time": "2023-07-29T10:51:31.564Z"
   },
   {
    "duration": 0,
    "start_time": "2023-07-29T10:51:31.564Z"
   },
   {
    "duration": 0,
    "start_time": "2023-07-29T10:51:31.566Z"
   },
   {
    "duration": 0,
    "start_time": "2023-07-29T10:51:31.567Z"
   },
   {
    "duration": 0,
    "start_time": "2023-07-29T10:51:31.568Z"
   },
   {
    "duration": 0,
    "start_time": "2023-07-29T10:51:31.569Z"
   },
   {
    "duration": 0,
    "start_time": "2023-07-29T10:51:31.570Z"
   },
   {
    "duration": 0,
    "start_time": "2023-07-29T10:51:31.571Z"
   },
   {
    "duration": 0,
    "start_time": "2023-07-29T10:51:31.572Z"
   },
   {
    "duration": 0,
    "start_time": "2023-07-29T10:51:31.574Z"
   },
   {
    "duration": 0,
    "start_time": "2023-07-29T10:51:31.575Z"
   },
   {
    "duration": 0,
    "start_time": "2023-07-29T10:51:31.575Z"
   },
   {
    "duration": 0,
    "start_time": "2023-07-29T10:51:31.578Z"
   },
   {
    "duration": 0,
    "start_time": "2023-07-29T10:51:31.578Z"
   },
   {
    "duration": 3,
    "start_time": "2023-07-29T10:55:05.554Z"
   },
   {
    "duration": 8,
    "start_time": "2023-07-29T10:55:06.035Z"
   },
   {
    "duration": 21,
    "start_time": "2023-07-29T10:55:09.981Z"
   },
   {
    "duration": 18,
    "start_time": "2023-07-29T10:55:11.483Z"
   },
   {
    "duration": 18,
    "start_time": "2023-07-29T10:55:12.659Z"
   },
   {
    "duration": 5,
    "start_time": "2023-07-29T10:55:34.419Z"
   },
   {
    "duration": 5,
    "start_time": "2023-07-29T10:55:34.923Z"
   },
   {
    "duration": 4,
    "start_time": "2023-07-29T10:55:35.115Z"
   },
   {
    "duration": 5,
    "start_time": "2023-07-29T10:55:35.419Z"
   },
   {
    "duration": 4,
    "start_time": "2023-07-29T10:55:35.587Z"
   },
   {
    "duration": 4,
    "start_time": "2023-07-29T10:55:35.731Z"
   },
   {
    "duration": 6,
    "start_time": "2023-07-29T10:55:38.058Z"
   },
   {
    "duration": 8,
    "start_time": "2023-07-29T10:55:40.817Z"
   },
   {
    "duration": 11,
    "start_time": "2023-07-29T10:58:33.881Z"
   },
   {
    "duration": 5,
    "start_time": "2023-07-29T10:58:46.692Z"
   },
   {
    "duration": 41,
    "start_time": "2023-07-29T10:58:49.949Z"
   },
   {
    "duration": 14,
    "start_time": "2023-07-29T10:58:50.083Z"
   },
   {
    "duration": 14,
    "start_time": "2023-07-29T10:58:50.227Z"
   },
   {
    "duration": 53,
    "start_time": "2023-07-29T10:58:50.370Z"
   },
   {
    "duration": 12,
    "start_time": "2023-07-29T10:58:50.881Z"
   },
   {
    "duration": 8,
    "start_time": "2023-07-29T10:58:51.152Z"
   },
   {
    "duration": 5,
    "start_time": "2023-07-29T10:58:51.647Z"
   },
   {
    "duration": 2,
    "start_time": "2023-07-29T10:58:51.761Z"
   },
   {
    "duration": 5,
    "start_time": "2023-07-29T10:58:51.895Z"
   },
   {
    "duration": 22,
    "start_time": "2023-07-29T10:58:52.053Z"
   },
   {
    "duration": 23,
    "start_time": "2023-07-29T10:58:52.542Z"
   },
   {
    "duration": 8,
    "start_time": "2023-07-29T10:58:54.666Z"
   },
   {
    "duration": 5,
    "start_time": "2023-07-29T10:58:55.519Z"
   },
   {
    "duration": 11,
    "start_time": "2023-07-29T10:58:57.356Z"
   },
   {
    "duration": 15,
    "start_time": "2023-07-29T10:59:00.206Z"
   },
   {
    "duration": 9,
    "start_time": "2023-07-29T10:59:02.757Z"
   },
   {
    "duration": 6,
    "start_time": "2023-07-29T10:59:03.681Z"
   },
   {
    "duration": 3,
    "start_time": "2023-07-29T10:59:10.341Z"
   },
   {
    "duration": 9,
    "start_time": "2023-07-29T10:59:10.791Z"
   },
   {
    "duration": 21,
    "start_time": "2023-07-29T10:59:11.615Z"
   },
   {
    "duration": 18,
    "start_time": "2023-07-29T10:59:12.237Z"
   },
   {
    "duration": 17,
    "start_time": "2023-07-29T10:59:12.557Z"
   },
   {
    "duration": 4,
    "start_time": "2023-07-29T10:59:13.447Z"
   },
   {
    "duration": 5,
    "start_time": "2023-07-29T10:59:13.581Z"
   },
   {
    "duration": 4,
    "start_time": "2023-07-29T10:59:13.837Z"
   },
   {
    "duration": 4,
    "start_time": "2023-07-29T10:59:14.058Z"
   },
   {
    "duration": 5,
    "start_time": "2023-07-29T10:59:14.236Z"
   },
   {
    "duration": 5,
    "start_time": "2023-07-29T10:59:14.806Z"
   },
   {
    "duration": 8,
    "start_time": "2023-07-29T10:59:16.734Z"
   },
   {
    "duration": 11,
    "start_time": "2023-07-29T10:59:18.444Z"
   },
   {
    "duration": 21,
    "start_time": "2023-07-29T10:59:21.469Z"
   },
   {
    "duration": 5,
    "start_time": "2023-07-29T11:01:48.651Z"
   },
   {
    "duration": 4,
    "start_time": "2023-07-29T11:01:52.759Z"
   },
   {
    "duration": 7,
    "start_time": "2023-07-29T11:01:54.081Z"
   },
   {
    "duration": 1955,
    "start_time": "2023-07-29T11:01:59.607Z"
   },
   {
    "duration": 42,
    "start_time": "2023-07-29T11:02:01.565Z"
   },
   {
    "duration": 19,
    "start_time": "2023-07-29T11:02:01.609Z"
   },
   {
    "duration": 37,
    "start_time": "2023-07-29T11:02:01.630Z"
   },
   {
    "duration": 58,
    "start_time": "2023-07-29T11:02:01.669Z"
   },
   {
    "duration": 11,
    "start_time": "2023-07-29T11:02:01.729Z"
   },
   {
    "duration": 27,
    "start_time": "2023-07-29T11:02:01.742Z"
   },
   {
    "duration": 18,
    "start_time": "2023-07-29T11:02:01.771Z"
   },
   {
    "duration": 38,
    "start_time": "2023-07-29T11:02:01.791Z"
   },
   {
    "duration": 29,
    "start_time": "2023-07-29T11:02:01.833Z"
   },
   {
    "duration": 42,
    "start_time": "2023-07-29T11:02:01.863Z"
   },
   {
    "duration": 49,
    "start_time": "2023-07-29T11:02:01.907Z"
   },
   {
    "duration": 21,
    "start_time": "2023-07-29T11:02:01.958Z"
   },
   {
    "duration": 20,
    "start_time": "2023-07-29T11:02:01.981Z"
   },
   {
    "duration": 62,
    "start_time": "2023-07-29T11:02:02.002Z"
   },
   {
    "duration": 33,
    "start_time": "2023-07-29T11:02:02.065Z"
   },
   {
    "duration": 26,
    "start_time": "2023-07-29T11:02:02.101Z"
   },
   {
    "duration": 18,
    "start_time": "2023-07-29T11:02:02.129Z"
   },
   {
    "duration": 5,
    "start_time": "2023-07-29T11:02:02.149Z"
   },
   {
    "duration": 17,
    "start_time": "2023-07-29T11:02:02.156Z"
   },
   {
    "duration": 39,
    "start_time": "2023-07-29T11:02:02.175Z"
   },
   {
    "duration": 19,
    "start_time": "2023-07-29T11:02:02.216Z"
   },
   {
    "duration": 25,
    "start_time": "2023-07-29T11:02:02.237Z"
   },
   {
    "duration": 5,
    "start_time": "2023-07-29T11:02:02.264Z"
   },
   {
    "duration": 10,
    "start_time": "2023-07-29T11:02:02.271Z"
   },
   {
    "duration": 12,
    "start_time": "2023-07-29T11:02:02.284Z"
   },
   {
    "duration": 12,
    "start_time": "2023-07-29T11:02:02.298Z"
   },
   {
    "duration": 9,
    "start_time": "2023-07-29T11:02:02.314Z"
   },
   {
    "duration": 17,
    "start_time": "2023-07-29T11:02:02.325Z"
   },
   {
    "duration": 14,
    "start_time": "2023-07-29T11:02:02.352Z"
   },
   {
    "duration": 20,
    "start_time": "2023-07-29T11:02:02.367Z"
   },
   {
    "duration": 186,
    "start_time": "2023-07-29T11:02:02.388Z"
   },
   {
    "duration": 24,
    "start_time": "2023-07-29T11:02:02.576Z"
   },
   {
    "duration": 16,
    "start_time": "2023-07-29T11:02:02.602Z"
   },
   {
    "duration": 20382,
    "start_time": "2023-07-29T11:02:02.620Z"
   },
   {
    "duration": 598,
    "start_time": "2023-07-29T11:02:23.004Z"
   },
   {
    "duration": 11,
    "start_time": "2023-07-29T11:02:23.604Z"
   },
   {
    "duration": 47,
    "start_time": "2023-07-29T11:02:23.617Z"
   },
   {
    "duration": 97,
    "start_time": "2023-07-29T11:02:23.666Z"
   },
   {
    "duration": 271,
    "start_time": "2023-07-29T11:02:23.766Z"
   },
   {
    "duration": 205,
    "start_time": "2023-07-29T11:02:24.039Z"
   },
   {
    "duration": 327,
    "start_time": "2023-07-29T11:02:24.253Z"
   },
   {
    "duration": 182,
    "start_time": "2023-07-29T11:02:24.582Z"
   },
   {
    "duration": 25,
    "start_time": "2023-07-29T11:02:24.767Z"
   },
   {
    "duration": 19,
    "start_time": "2023-07-29T11:02:24.794Z"
   },
   {
    "duration": 20669,
    "start_time": "2023-07-29T11:02:24.815Z"
   },
   {
    "duration": 4,
    "start_time": "2023-07-29T11:02:45.486Z"
   },
   {
    "duration": 593,
    "start_time": "2023-07-29T11:02:45.492Z"
   },
   {
    "duration": 67,
    "start_time": "2023-07-29T11:02:46.087Z"
   },
   {
    "duration": 95,
    "start_time": "2023-07-29T11:02:46.156Z"
   },
   {
    "duration": 115,
    "start_time": "2023-07-29T11:02:46.253Z"
   },
   {
    "duration": 193,
    "start_time": "2023-07-29T11:02:46.370Z"
   },
   {
    "duration": 4,
    "start_time": "2023-07-29T11:02:46.565Z"
   },
   {
    "duration": 45,
    "start_time": "2023-07-29T11:02:46.570Z"
   },
   {
    "duration": 119,
    "start_time": "2023-07-29T11:02:46.617Z"
   },
   {
    "duration": 115,
    "start_time": "2023-07-29T11:02:46.738Z"
   },
   {
    "duration": 97,
    "start_time": "2023-07-29T11:02:46.856Z"
   },
   {
    "duration": 41,
    "start_time": "2023-07-29T11:02:46.956Z"
   },
   {
    "duration": 72,
    "start_time": "2023-07-29T11:02:46.999Z"
   },
   {
    "duration": 92,
    "start_time": "2023-07-29T11:02:47.072Z"
   },
   {
    "duration": 7,
    "start_time": "2023-07-29T11:02:47.251Z"
   },
   {
    "duration": 93,
    "start_time": "2023-07-29T11:02:47.261Z"
   },
   {
    "duration": 11,
    "start_time": "2023-07-29T11:02:47.356Z"
   },
   {
    "duration": 20339,
    "start_time": "2023-07-29T11:02:47.369Z"
   },
   {
    "duration": 688,
    "start_time": "2023-07-29T11:03:07.710Z"
   },
   {
    "duration": 156,
    "start_time": "2023-07-29T11:03:08.401Z"
   },
   {
    "duration": 1662,
    "start_time": "2023-07-29T11:13:05.303Z"
   },
   {
    "duration": 40,
    "start_time": "2023-07-29T11:13:06.968Z"
   },
   {
    "duration": 18,
    "start_time": "2023-07-29T11:13:07.010Z"
   },
   {
    "duration": 13,
    "start_time": "2023-07-29T11:13:07.030Z"
   },
   {
    "duration": 51,
    "start_time": "2023-07-29T11:13:07.044Z"
   },
   {
    "duration": 13,
    "start_time": "2023-07-29T11:13:07.096Z"
   },
   {
    "duration": 7,
    "start_time": "2023-07-29T11:13:07.110Z"
   },
   {
    "duration": 5,
    "start_time": "2023-07-29T11:13:07.119Z"
   },
   {
    "duration": 30,
    "start_time": "2023-07-29T11:13:07.125Z"
   },
   {
    "duration": 24,
    "start_time": "2023-07-29T11:13:07.158Z"
   },
   {
    "duration": 9,
    "start_time": "2023-07-29T11:13:07.183Z"
   },
   {
    "duration": 12,
    "start_time": "2023-07-29T11:13:07.194Z"
   },
   {
    "duration": 15,
    "start_time": "2023-07-29T11:13:07.208Z"
   },
   {
    "duration": 29,
    "start_time": "2023-07-29T11:13:07.225Z"
   },
   {
    "duration": 13,
    "start_time": "2023-07-29T11:13:07.256Z"
   },
   {
    "duration": 10,
    "start_time": "2023-07-29T11:13:07.271Z"
   },
   {
    "duration": 13,
    "start_time": "2023-07-29T11:13:07.283Z"
   },
   {
    "duration": 29,
    "start_time": "2023-07-29T11:13:07.298Z"
   },
   {
    "duration": 13,
    "start_time": "2023-07-29T11:13:07.330Z"
   },
   {
    "duration": 28,
    "start_time": "2023-07-29T11:13:07.345Z"
   },
   {
    "duration": 18,
    "start_time": "2023-07-29T11:13:07.375Z"
   },
   {
    "duration": 17,
    "start_time": "2023-07-29T11:13:07.395Z"
   },
   {
    "duration": 4,
    "start_time": "2023-07-29T11:13:07.414Z"
   },
   {
    "duration": 32,
    "start_time": "2023-07-29T11:13:07.420Z"
   },
   {
    "duration": 4,
    "start_time": "2023-07-29T11:13:07.454Z"
   },
   {
    "duration": 6,
    "start_time": "2023-07-29T11:13:07.460Z"
   },
   {
    "duration": 7,
    "start_time": "2023-07-29T11:13:07.468Z"
   },
   {
    "duration": 5,
    "start_time": "2023-07-29T11:13:07.480Z"
   },
   {
    "duration": 10,
    "start_time": "2023-07-29T11:13:07.486Z"
   },
   {
    "duration": 12,
    "start_time": "2023-07-29T11:13:07.498Z"
   },
   {
    "duration": 189,
    "start_time": "2023-07-29T11:13:07.513Z"
   },
   {
    "duration": 22,
    "start_time": "2023-07-29T11:13:07.704Z"
   },
   {
    "duration": 24,
    "start_time": "2023-07-29T11:13:07.728Z"
   },
   {
    "duration": 2,
    "start_time": "2023-07-29T11:13:07.754Z"
   },
   {
    "duration": 20009,
    "start_time": "2023-07-29T11:13:07.758Z"
   },
   {
    "duration": 609,
    "start_time": "2023-07-29T11:13:27.769Z"
   },
   {
    "duration": 14,
    "start_time": "2023-07-29T11:13:28.380Z"
   },
   {
    "duration": 59,
    "start_time": "2023-07-29T11:13:28.397Z"
   },
   {
    "duration": 97,
    "start_time": "2023-07-29T11:13:28.458Z"
   },
   {
    "duration": 252,
    "start_time": "2023-07-29T11:13:28.559Z"
   },
   {
    "duration": 187,
    "start_time": "2023-07-29T11:13:28.813Z"
   },
   {
    "duration": 293,
    "start_time": "2023-07-29T11:13:29.003Z"
   },
   {
    "duration": 184,
    "start_time": "2023-07-29T11:13:29.298Z"
   },
   {
    "duration": 23,
    "start_time": "2023-07-29T11:13:29.484Z"
   },
   {
    "duration": 15,
    "start_time": "2023-07-29T11:13:29.509Z"
   },
   {
    "duration": 20260,
    "start_time": "2023-07-29T11:13:29.527Z"
   },
   {
    "duration": 4,
    "start_time": "2023-07-29T11:13:49.789Z"
   },
   {
    "duration": 560,
    "start_time": "2023-07-29T11:13:49.795Z"
   },
   {
    "duration": 56,
    "start_time": "2023-07-29T11:13:50.357Z"
   },
   {
    "duration": 46,
    "start_time": "2023-07-29T11:13:50.415Z"
   },
   {
    "duration": 195,
    "start_time": "2023-07-29T11:13:50.463Z"
   },
   {
    "duration": 114,
    "start_time": "2023-07-29T11:13:50.661Z"
   },
   {
    "duration": 11,
    "start_time": "2023-07-29T11:13:50.777Z"
   },
   {
    "duration": 51,
    "start_time": "2023-07-29T11:13:50.793Z"
   },
   {
    "duration": 107,
    "start_time": "2023-07-29T11:13:50.846Z"
   },
   {
    "duration": 207,
    "start_time": "2023-07-29T11:13:50.954Z"
   },
   {
    "duration": 193,
    "start_time": "2023-07-29T11:13:51.163Z"
   },
   {
    "duration": 39,
    "start_time": "2023-07-29T11:13:51.358Z"
   },
   {
    "duration": 73,
    "start_time": "2023-07-29T11:13:51.399Z"
   },
   {
    "duration": 183,
    "start_time": "2023-07-29T11:13:51.474Z"
   },
   {
    "duration": 98,
    "start_time": "2023-07-29T11:13:51.659Z"
   },
   {
    "duration": 94,
    "start_time": "2023-07-29T11:13:51.759Z"
   },
   {
    "duration": 5,
    "start_time": "2023-07-29T11:13:51.855Z"
   },
   {
    "duration": 20339,
    "start_time": "2023-07-29T11:13:51.862Z"
   },
   {
    "duration": 710,
    "start_time": "2023-07-29T11:14:12.204Z"
   },
   {
    "duration": 132,
    "start_time": "2023-07-29T11:14:12.916Z"
   },
   {
    "duration": 58,
    "start_time": "2023-07-29T11:40:11.795Z"
   },
   {
    "duration": 1467,
    "start_time": "2023-07-29T11:40:24.603Z"
   },
   {
    "duration": 45,
    "start_time": "2023-07-29T11:40:30.589Z"
   },
   {
    "duration": 24,
    "start_time": "2023-07-29T11:40:31.109Z"
   },
   {
    "duration": 15,
    "start_time": "2023-07-29T11:40:31.700Z"
   },
   {
    "duration": 63,
    "start_time": "2023-07-29T11:40:31.862Z"
   },
   {
    "duration": 12,
    "start_time": "2023-07-29T11:40:32.853Z"
   },
   {
    "duration": 8,
    "start_time": "2023-07-29T11:40:32.992Z"
   },
   {
    "duration": 6,
    "start_time": "2023-07-29T11:40:33.123Z"
   },
   {
    "duration": 88,
    "start_time": "2023-07-29T11:40:33.266Z"
   },
   {
    "duration": 24,
    "start_time": "2023-07-29T11:40:33.389Z"
   },
   {
    "duration": 108,
    "start_time": "2023-07-29T11:40:33.549Z"
   },
   {
    "duration": 9,
    "start_time": "2023-07-29T11:40:33.966Z"
   },
   {
    "duration": 6,
    "start_time": "2023-07-29T11:40:34.117Z"
   },
   {
    "duration": 14,
    "start_time": "2023-07-29T11:40:34.563Z"
   },
   {
    "duration": 20,
    "start_time": "2023-07-29T11:40:35.157Z"
   },
   {
    "duration": 10,
    "start_time": "2023-07-29T11:40:35.635Z"
   },
   {
    "duration": 7,
    "start_time": "2023-07-29T11:40:35.811Z"
   },
   {
    "duration": 3,
    "start_time": "2023-07-29T11:40:36.827Z"
   },
   {
    "duration": 9,
    "start_time": "2023-07-29T11:40:37.468Z"
   },
   {
    "duration": 21,
    "start_time": "2023-07-29T11:40:37.635Z"
   },
   {
    "duration": 19,
    "start_time": "2023-07-29T11:40:37.789Z"
   },
   {
    "duration": 18,
    "start_time": "2023-07-29T11:40:37.928Z"
   },
   {
    "duration": 5,
    "start_time": "2023-07-29T11:40:38.397Z"
   },
   {
    "duration": 5,
    "start_time": "2023-07-29T11:40:38.733Z"
   },
   {
    "duration": 5,
    "start_time": "2023-07-29T11:40:38.908Z"
   },
   {
    "duration": 4,
    "start_time": "2023-07-29T11:40:39.085Z"
   },
   {
    "duration": 4,
    "start_time": "2023-07-29T11:40:39.254Z"
   },
   {
    "duration": 4,
    "start_time": "2023-07-29T11:40:39.589Z"
   },
   {
    "duration": 7,
    "start_time": "2023-07-29T11:40:40.411Z"
   },
   {
    "duration": 7,
    "start_time": "2023-07-29T11:40:41.283Z"
   },
   {
    "duration": 147,
    "start_time": "2023-07-29T11:40:44.987Z"
   },
   {
    "duration": 25,
    "start_time": "2023-07-29T11:40:47.531Z"
   },
   {
    "duration": 10,
    "start_time": "2023-07-29T11:40:53.051Z"
   },
   {
    "duration": 74,
    "start_time": "2023-07-29T11:40:56.060Z"
   },
   {
    "duration": 13,
    "start_time": "2023-07-29T11:41:16.133Z"
   },
   {
    "duration": 1451,
    "start_time": "2023-07-29T11:41:30.356Z"
   },
   {
    "duration": 20018,
    "start_time": "2023-07-29T11:41:59.581Z"
   },
   {
    "duration": 19414,
    "start_time": "2023-07-29T11:43:38.697Z"
   },
   {
    "duration": 540,
    "start_time": "2023-07-29T11:44:03.385Z"
   },
   {
    "duration": 10,
    "start_time": "2023-07-29T11:44:04.807Z"
   },
   {
    "duration": 116,
    "start_time": "2023-07-29T11:44:09.744Z"
   },
   {
    "duration": 14,
    "start_time": "2023-07-29T11:44:13.531Z"
   },
   {
    "duration": 371,
    "start_time": "2023-07-29T11:44:14.944Z"
   },
   {
    "duration": 182,
    "start_time": "2023-07-29T11:44:16.662Z"
   },
   {
    "duration": 426,
    "start_time": "2023-07-29T11:44:17.830Z"
   },
   {
    "duration": 244,
    "start_time": "2023-07-29T11:48:06.595Z"
   },
   {
    "duration": 31,
    "start_time": "2023-07-29T11:48:07.563Z"
   },
   {
    "duration": 21,
    "start_time": "2023-07-29T11:48:08.587Z"
   },
   {
    "duration": 23624,
    "start_time": "2023-07-29T11:48:10.362Z"
   },
   {
    "duration": 4,
    "start_time": "2023-07-29T11:48:33.989Z"
   },
   {
    "duration": 647,
    "start_time": "2023-07-29T11:48:51.381Z"
   },
   {
    "duration": 75,
    "start_time": "2023-07-29T11:49:08.463Z"
   },
   {
    "duration": 190,
    "start_time": "2023-07-29T11:49:17.572Z"
   },
   {
    "duration": 137,
    "start_time": "2023-07-29T11:49:18.046Z"
   },
   {
    "duration": 169,
    "start_time": "2023-07-29T11:50:41.067Z"
   },
   {
    "duration": 13,
    "start_time": "2023-07-29T11:50:46.970Z"
   },
   {
    "duration": 24,
    "start_time": "2023-07-29T11:51:09.915Z"
   },
   {
    "duration": 11,
    "start_time": "2023-07-29T11:51:11.746Z"
   },
   {
    "duration": 167,
    "start_time": "2023-07-29T11:51:21.889Z"
   },
   {
    "duration": 24,
    "start_time": "2023-07-29T11:51:23.587Z"
   },
   {
    "duration": 16,
    "start_time": "2023-07-29T11:51:24.380Z"
   },
   {
    "duration": 391,
    "start_time": "2023-07-29T11:52:19.133Z"
   },
   {
    "duration": 162,
    "start_time": "2023-07-29T11:52:22.357Z"
   },
   {
    "duration": 23,
    "start_time": "2023-07-29T11:52:23.584Z"
   },
   {
    "duration": 18,
    "start_time": "2023-07-29T11:52:24.588Z"
   },
   {
    "duration": 21243,
    "start_time": "2023-07-29T11:52:26.076Z"
   },
   {
    "duration": 5,
    "start_time": "2023-07-29T11:53:18.999Z"
   },
   {
    "duration": 674,
    "start_time": "2023-07-29T11:53:21.583Z"
   },
   {
    "duration": 59,
    "start_time": "2023-07-29T11:53:23.317Z"
   },
   {
    "duration": 121,
    "start_time": "2023-07-29T11:53:26.733Z"
   },
   {
    "duration": 83,
    "start_time": "2023-07-29T11:53:27.280Z"
   },
   {
    "duration": 16,
    "start_time": "2023-07-29T11:53:28.605Z"
   },
   {
    "duration": 9,
    "start_time": "2023-07-29T11:53:29.820Z"
   },
   {
    "duration": 222,
    "start_time": "2023-07-29T11:53:31.135Z"
   },
   {
    "duration": 28,
    "start_time": "2023-07-29T11:53:32.220Z"
   },
   {
    "duration": 57,
    "start_time": "2023-07-29T11:53:32.989Z"
   },
   {
    "duration": 20857,
    "start_time": "2023-07-29T11:54:17.309Z"
   },
   {
    "duration": 642,
    "start_time": "2023-07-29T11:54:38.168Z"
   },
   {
    "duration": 104,
    "start_time": "2023-07-29T11:54:45.688Z"
   },
   {
    "duration": 1659,
    "start_time": "2023-07-29T11:56:08.121Z"
   },
   {
    "duration": 41,
    "start_time": "2023-07-29T11:56:09.782Z"
   },
   {
    "duration": 19,
    "start_time": "2023-07-29T11:56:09.824Z"
   },
   {
    "duration": 16,
    "start_time": "2023-07-29T11:56:09.845Z"
   },
   {
    "duration": 49,
    "start_time": "2023-07-29T11:56:09.863Z"
   },
   {
    "duration": 12,
    "start_time": "2023-07-29T11:56:09.914Z"
   },
   {
    "duration": 31,
    "start_time": "2023-07-29T11:56:09.928Z"
   },
   {
    "duration": 7,
    "start_time": "2023-07-29T11:56:09.960Z"
   },
   {
    "duration": 9,
    "start_time": "2023-07-29T11:56:09.968Z"
   },
   {
    "duration": 26,
    "start_time": "2023-07-29T11:56:09.980Z"
   },
   {
    "duration": 14,
    "start_time": "2023-07-29T11:56:10.008Z"
   },
   {
    "duration": 29,
    "start_time": "2023-07-29T11:56:10.024Z"
   },
   {
    "duration": 5,
    "start_time": "2023-07-29T11:56:10.055Z"
   },
   {
    "duration": 21,
    "start_time": "2023-07-29T11:56:10.062Z"
   },
   {
    "duration": 16,
    "start_time": "2023-07-29T11:56:10.084Z"
   },
   {
    "duration": 18,
    "start_time": "2023-07-29T11:56:10.102Z"
   },
   {
    "duration": 6,
    "start_time": "2023-07-29T11:56:10.122Z"
   },
   {
    "duration": 13,
    "start_time": "2023-07-29T11:56:10.129Z"
   },
   {
    "duration": 26,
    "start_time": "2023-07-29T11:56:10.143Z"
   },
   {
    "duration": 22,
    "start_time": "2023-07-29T11:56:10.171Z"
   },
   {
    "duration": 17,
    "start_time": "2023-07-29T11:56:10.195Z"
   },
   {
    "duration": 39,
    "start_time": "2023-07-29T11:56:10.214Z"
   },
   {
    "duration": 4,
    "start_time": "2023-07-29T11:56:10.255Z"
   },
   {
    "duration": 10,
    "start_time": "2023-07-29T11:56:10.261Z"
   },
   {
    "duration": 6,
    "start_time": "2023-07-29T11:56:10.273Z"
   },
   {
    "duration": 6,
    "start_time": "2023-07-29T11:56:10.281Z"
   },
   {
    "duration": 6,
    "start_time": "2023-07-29T11:56:10.288Z"
   },
   {
    "duration": 5,
    "start_time": "2023-07-29T11:56:10.298Z"
   },
   {
    "duration": 7,
    "start_time": "2023-07-29T11:56:10.305Z"
   },
   {
    "duration": 40,
    "start_time": "2023-07-29T11:56:10.314Z"
   },
   {
    "duration": 170,
    "start_time": "2023-07-29T11:56:10.356Z"
   },
   {
    "duration": 38,
    "start_time": "2023-07-29T11:56:10.527Z"
   },
   {
    "duration": 11,
    "start_time": "2023-07-29T11:56:10.567Z"
   },
   {
    "duration": 20200,
    "start_time": "2023-07-29T11:56:10.580Z"
   },
   {
    "duration": 569,
    "start_time": "2023-07-29T11:56:30.783Z"
   },
   {
    "duration": 13,
    "start_time": "2023-07-29T11:56:31.353Z"
   },
   {
    "duration": 78,
    "start_time": "2023-07-29T11:56:31.368Z"
   },
   {
    "duration": 219,
    "start_time": "2023-07-29T11:56:31.449Z"
   },
   {
    "duration": 180,
    "start_time": "2023-07-29T11:56:31.670Z"
   },
   {
    "duration": 189,
    "start_time": "2023-07-29T11:56:31.852Z"
   },
   {
    "duration": 373,
    "start_time": "2023-07-29T11:56:32.043Z"
   },
   {
    "duration": 173,
    "start_time": "2023-07-29T11:56:32.419Z"
   },
   {
    "duration": 71,
    "start_time": "2023-07-29T11:56:32.594Z"
   },
   {
    "duration": 27,
    "start_time": "2023-07-29T11:56:32.666Z"
   },
   {
    "duration": 19613,
    "start_time": "2023-07-29T11:56:32.695Z"
   },
   {
    "duration": 3,
    "start_time": "2023-07-29T11:56:52.310Z"
   },
   {
    "duration": 572,
    "start_time": "2023-07-29T11:56:52.315Z"
   },
   {
    "duration": 53,
    "start_time": "2023-07-29T11:56:52.889Z"
   },
   {
    "duration": 23,
    "start_time": "2023-07-29T11:56:52.951Z"
   },
   {
    "duration": 182,
    "start_time": "2023-07-29T11:56:52.975Z"
   },
   {
    "duration": 110,
    "start_time": "2023-07-29T11:56:53.159Z"
   },
   {
    "duration": 19,
    "start_time": "2023-07-29T11:56:53.271Z"
   },
   {
    "duration": 186,
    "start_time": "2023-07-29T11:56:53.292Z"
   },
   {
    "duration": 22,
    "start_time": "2023-07-29T11:56:53.479Z"
   },
   {
    "duration": 54,
    "start_time": "2023-07-29T11:56:53.503Z"
   },
   {
    "duration": 19641,
    "start_time": "2023-07-29T11:56:53.559Z"
   },
   {
    "duration": 555,
    "start_time": "2023-07-29T11:57:13.201Z"
   },
   {
    "duration": 100,
    "start_time": "2023-07-29T11:57:13.758Z"
   },
   {
    "duration": 100,
    "start_time": "2023-07-29T11:57:13.860Z"
   },
   {
    "duration": 14,
    "start_time": "2023-07-29T11:57:14.053Z"
   },
   {
    "duration": 103,
    "start_time": "2023-07-29T11:57:14.069Z"
   },
   {
    "duration": 55,
    "start_time": "2023-07-29T11:57:14.174Z"
   },
   {
    "duration": 123,
    "start_time": "2023-07-29T11:57:14.230Z"
   },
   {
    "duration": 10,
    "start_time": "2023-07-29T11:57:14.355Z"
   },
   {
    "duration": 95,
    "start_time": "2023-07-29T11:57:14.366Z"
   },
   {
    "duration": 7,
    "start_time": "2023-07-29T11:57:14.463Z"
   },
   {
    "duration": 19948,
    "start_time": "2023-07-29T11:57:14.471Z"
   },
   {
    "duration": 683,
    "start_time": "2023-07-29T11:57:34.420Z"
   },
   {
    "duration": 134,
    "start_time": "2023-07-29T11:57:35.105Z"
   },
   {
    "duration": 1621,
    "start_time": "2023-07-29T12:05:20.703Z"
   },
   {
    "duration": 42,
    "start_time": "2023-07-29T12:05:22.326Z"
   },
   {
    "duration": 17,
    "start_time": "2023-07-29T12:05:22.370Z"
   },
   {
    "duration": 18,
    "start_time": "2023-07-29T12:05:22.390Z"
   },
   {
    "duration": 65,
    "start_time": "2023-07-29T12:05:22.410Z"
   },
   {
    "duration": 12,
    "start_time": "2023-07-29T12:05:22.477Z"
   },
   {
    "duration": 31,
    "start_time": "2023-07-29T12:05:22.491Z"
   },
   {
    "duration": 20,
    "start_time": "2023-07-29T12:05:22.524Z"
   },
   {
    "duration": 9,
    "start_time": "2023-07-29T12:05:22.547Z"
   },
   {
    "duration": 26,
    "start_time": "2023-07-29T12:05:22.560Z"
   },
   {
    "duration": 7,
    "start_time": "2023-07-29T12:05:22.589Z"
   },
   {
    "duration": 13,
    "start_time": "2023-07-29T12:05:22.598Z"
   },
   {
    "duration": 6,
    "start_time": "2023-07-29T12:05:22.613Z"
   },
   {
    "duration": 16,
    "start_time": "2023-07-29T12:05:22.621Z"
   },
   {
    "duration": 29,
    "start_time": "2023-07-29T12:05:22.638Z"
   },
   {
    "duration": 23,
    "start_time": "2023-07-29T12:05:22.669Z"
   },
   {
    "duration": 6,
    "start_time": "2023-07-29T12:05:22.694Z"
   },
   {
    "duration": 23,
    "start_time": "2023-07-29T12:05:22.702Z"
   },
   {
    "duration": 21,
    "start_time": "2023-07-29T12:05:22.727Z"
   },
   {
    "duration": 24,
    "start_time": "2023-07-29T12:05:22.750Z"
   },
   {
    "duration": 19,
    "start_time": "2023-07-29T12:05:22.776Z"
   },
   {
    "duration": 19,
    "start_time": "2023-07-29T12:05:22.797Z"
   },
   {
    "duration": 6,
    "start_time": "2023-07-29T12:05:22.817Z"
   },
   {
    "duration": 5,
    "start_time": "2023-07-29T12:05:22.851Z"
   },
   {
    "duration": 7,
    "start_time": "2023-07-29T12:05:22.858Z"
   },
   {
    "duration": 9,
    "start_time": "2023-07-29T12:05:22.866Z"
   },
   {
    "duration": 9,
    "start_time": "2023-07-29T12:05:22.877Z"
   },
   {
    "duration": 6,
    "start_time": "2023-07-29T12:05:22.890Z"
   },
   {
    "duration": 12,
    "start_time": "2023-07-29T12:05:22.897Z"
   },
   {
    "duration": 13,
    "start_time": "2023-07-29T12:05:22.910Z"
   },
   {
    "duration": 179,
    "start_time": "2023-07-29T12:05:22.925Z"
   },
   {
    "duration": 22,
    "start_time": "2023-07-29T12:05:23.106Z"
   },
   {
    "duration": 26,
    "start_time": "2023-07-29T12:05:23.130Z"
   },
   {
    "duration": 20206,
    "start_time": "2023-07-29T12:05:23.158Z"
   },
   {
    "duration": 583,
    "start_time": "2023-07-29T12:05:43.366Z"
   },
   {
    "duration": 11,
    "start_time": "2023-07-29T12:05:43.952Z"
   },
   {
    "duration": 88,
    "start_time": "2023-07-29T12:05:43.964Z"
   },
   {
    "duration": 12,
    "start_time": "2023-07-29T12:05:44.054Z"
   },
   {
    "duration": 162,
    "start_time": "2023-07-29T12:05:44.153Z"
   },
   {
    "duration": 235,
    "start_time": "2023-07-29T12:05:44.317Z"
   },
   {
    "duration": 336,
    "start_time": "2023-07-29T12:05:44.555Z"
   },
   {
    "duration": 168,
    "start_time": "2023-07-29T12:05:44.893Z"
   },
   {
    "duration": 25,
    "start_time": "2023-07-29T12:05:45.062Z"
   },
   {
    "duration": 16,
    "start_time": "2023-07-29T12:05:45.089Z"
   },
   {
    "duration": 20567,
    "start_time": "2023-07-29T12:05:45.108Z"
   },
   {
    "duration": 4,
    "start_time": "2023-07-29T12:06:05.678Z"
   },
   {
    "duration": 636,
    "start_time": "2023-07-29T12:06:05.684Z"
   },
   {
    "duration": 62,
    "start_time": "2023-07-29T12:06:06.322Z"
   },
   {
    "duration": 23,
    "start_time": "2023-07-29T12:06:06.386Z"
   },
   {
    "duration": 156,
    "start_time": "2023-07-29T12:06:06.412Z"
   },
   {
    "duration": 95,
    "start_time": "2023-07-29T12:06:06.570Z"
   },
   {
    "duration": 92,
    "start_time": "2023-07-29T12:06:06.666Z"
   },
   {
    "duration": 166,
    "start_time": "2023-07-29T12:06:06.760Z"
   },
   {
    "duration": 32,
    "start_time": "2023-07-29T12:06:06.928Z"
   },
   {
    "duration": 40,
    "start_time": "2023-07-29T12:06:06.962Z"
   },
   {
    "duration": 20280,
    "start_time": "2023-07-29T12:06:07.004Z"
   },
   {
    "duration": 603,
    "start_time": "2023-07-29T12:06:27.286Z"
   },
   {
    "duration": 115,
    "start_time": "2023-07-29T12:06:27.891Z"
   },
   {
    "duration": 142,
    "start_time": "2023-07-29T12:06:28.009Z"
   },
   {
    "duration": 112,
    "start_time": "2023-07-29T12:06:28.154Z"
   },
   {
    "duration": 41,
    "start_time": "2023-07-29T12:06:28.268Z"
   },
   {
    "duration": 86,
    "start_time": "2023-07-29T12:06:28.311Z"
   },
   {
    "duration": 59,
    "start_time": "2023-07-29T12:06:28.400Z"
   },
   {
    "duration": 103,
    "start_time": "2023-07-29T12:06:28.461Z"
   },
   {
    "duration": 100,
    "start_time": "2023-07-29T12:06:28.569Z"
   },
   {
    "duration": 9,
    "start_time": "2023-07-29T12:06:28.671Z"
   },
   {
    "duration": 19892,
    "start_time": "2023-07-29T12:06:28.682Z"
   },
   {
    "duration": 646,
    "start_time": "2023-07-29T12:06:48.576Z"
   },
   {
    "duration": 144,
    "start_time": "2023-07-29T12:06:49.224Z"
   },
   {
    "duration": 20274,
    "start_time": "2023-07-29T12:08:12.603Z"
   },
   {
    "duration": 1717,
    "start_time": "2023-07-29T15:37:42.681Z"
   },
   {
    "duration": 161,
    "start_time": "2023-07-29T15:37:44.400Z"
   },
   {
    "duration": 24,
    "start_time": "2023-07-29T15:37:44.563Z"
   },
   {
    "duration": 13,
    "start_time": "2023-07-29T15:37:44.589Z"
   },
   {
    "duration": 45,
    "start_time": "2023-07-29T15:37:44.604Z"
   },
   {
    "duration": 28,
    "start_time": "2023-07-29T15:37:44.651Z"
   },
   {
    "duration": 8,
    "start_time": "2023-07-29T15:37:44.681Z"
   },
   {
    "duration": 13,
    "start_time": "2023-07-29T15:37:44.690Z"
   },
   {
    "duration": 8,
    "start_time": "2023-07-29T15:37:44.705Z"
   },
   {
    "duration": 48,
    "start_time": "2023-07-29T15:37:44.715Z"
   },
   {
    "duration": 20,
    "start_time": "2023-07-29T15:37:44.764Z"
   },
   {
    "duration": 7,
    "start_time": "2023-07-29T15:37:44.786Z"
   },
   {
    "duration": 5,
    "start_time": "2023-07-29T15:37:44.794Z"
   },
   {
    "duration": 13,
    "start_time": "2023-07-29T15:37:44.801Z"
   },
   {
    "duration": 36,
    "start_time": "2023-07-29T15:37:44.815Z"
   },
   {
    "duration": 13,
    "start_time": "2023-07-29T15:37:44.852Z"
   },
   {
    "duration": 13,
    "start_time": "2023-07-29T15:37:44.872Z"
   },
   {
    "duration": 13,
    "start_time": "2023-07-29T15:37:44.887Z"
   },
   {
    "duration": 12,
    "start_time": "2023-07-29T15:37:44.901Z"
   },
   {
    "duration": 42,
    "start_time": "2023-07-29T15:37:44.915Z"
   },
   {
    "duration": 34,
    "start_time": "2023-07-29T15:37:44.958Z"
   },
   {
    "duration": 63,
    "start_time": "2023-07-29T15:37:44.993Z"
   },
   {
    "duration": 4,
    "start_time": "2023-07-29T15:37:45.058Z"
   },
   {
    "duration": 19,
    "start_time": "2023-07-29T15:37:45.063Z"
   },
   {
    "duration": 22,
    "start_time": "2023-07-29T15:37:45.084Z"
   },
   {
    "duration": 9,
    "start_time": "2023-07-29T15:37:45.107Z"
   },
   {
    "duration": 5,
    "start_time": "2023-07-29T15:37:45.118Z"
   },
   {
    "duration": 9,
    "start_time": "2023-07-29T15:37:45.127Z"
   },
   {
    "duration": 6,
    "start_time": "2023-07-29T15:37:45.138Z"
   },
   {
    "duration": 8,
    "start_time": "2023-07-29T15:37:45.146Z"
   },
   {
    "duration": 164,
    "start_time": "2023-07-29T15:37:45.155Z"
   },
   {
    "duration": 24,
    "start_time": "2023-07-29T15:37:45.321Z"
   },
   {
    "duration": 28,
    "start_time": "2023-07-29T15:37:45.347Z"
   },
   {
    "duration": 20104,
    "start_time": "2023-07-29T15:37:45.378Z"
   },
   {
    "duration": 561,
    "start_time": "2023-07-29T15:38:05.484Z"
   },
   {
    "duration": 9,
    "start_time": "2023-07-29T15:38:06.047Z"
   },
   {
    "duration": 30,
    "start_time": "2023-07-29T15:38:06.058Z"
   },
   {
    "duration": 79,
    "start_time": "2023-07-29T15:38:06.090Z"
   },
   {
    "duration": 253,
    "start_time": "2023-07-29T15:38:06.170Z"
   },
   {
    "duration": 192,
    "start_time": "2023-07-29T15:38:06.425Z"
   },
   {
    "duration": 386,
    "start_time": "2023-07-29T15:38:06.619Z"
   },
   {
    "duration": 173,
    "start_time": "2023-07-29T15:38:07.007Z"
   },
   {
    "duration": 23,
    "start_time": "2023-07-29T15:38:07.182Z"
   },
   {
    "duration": 14,
    "start_time": "2023-07-29T15:38:07.206Z"
   },
   {
    "duration": 19958,
    "start_time": "2023-07-29T15:38:07.222Z"
   },
   {
    "duration": 4,
    "start_time": "2023-07-29T15:38:27.182Z"
   },
   {
    "duration": 558,
    "start_time": "2023-07-29T15:38:27.187Z"
   },
   {
    "duration": 66,
    "start_time": "2023-07-29T15:38:27.747Z"
   },
   {
    "duration": 51,
    "start_time": "2023-07-29T15:38:27.815Z"
   },
   {
    "duration": 103,
    "start_time": "2023-07-29T15:38:27.868Z"
   },
   {
    "duration": 100,
    "start_time": "2023-07-29T15:38:27.975Z"
   },
   {
    "duration": 6,
    "start_time": "2023-07-29T15:38:28.078Z"
   },
   {
    "duration": 182,
    "start_time": "2023-07-29T15:38:28.085Z"
   },
   {
    "duration": 27,
    "start_time": "2023-07-29T15:38:28.269Z"
   },
   {
    "duration": 41,
    "start_time": "2023-07-29T15:38:28.298Z"
   },
   {
    "duration": 21341,
    "start_time": "2023-07-29T15:38:28.341Z"
   },
   {
    "duration": 579,
    "start_time": "2023-07-29T15:38:49.683Z"
   },
   {
    "duration": 117,
    "start_time": "2023-07-29T15:38:50.264Z"
   },
   {
    "duration": 192,
    "start_time": "2023-07-29T15:38:50.383Z"
   },
   {
    "duration": 101,
    "start_time": "2023-07-29T15:38:50.583Z"
   },
   {
    "duration": 28,
    "start_time": "2023-07-29T15:38:50.686Z"
   },
   {
    "duration": 71,
    "start_time": "2023-07-29T15:38:50.716Z"
   },
   {
    "duration": 98,
    "start_time": "2023-07-29T15:38:50.789Z"
   },
   {
    "duration": 887,
    "start_time": "2023-07-29T15:38:50.968Z"
   },
   {
    "duration": 141,
    "start_time": "2023-07-29T15:38:51.857Z"
   },
   {
    "duration": 1669,
    "start_time": "2023-07-30T06:06:59.711Z"
   },
   {
    "duration": 4,
    "start_time": "2023-07-30T06:07:55.935Z"
   },
   {
    "duration": 1348,
    "start_time": "2023-07-30T06:08:03.056Z"
   },
   {
    "duration": 83,
    "start_time": "2023-07-30T06:08:04.405Z"
   },
   {
    "duration": 15,
    "start_time": "2023-07-30T06:08:04.490Z"
   },
   {
    "duration": 12,
    "start_time": "2023-07-30T06:08:04.507Z"
   },
   {
    "duration": 44,
    "start_time": "2023-07-30T06:08:04.533Z"
   },
   {
    "duration": 14,
    "start_time": "2023-07-30T06:08:04.579Z"
   },
   {
    "duration": 8,
    "start_time": "2023-07-30T06:08:04.595Z"
   },
   {
    "duration": 21,
    "start_time": "2023-07-30T06:08:04.604Z"
   },
   {
    "duration": 11,
    "start_time": "2023-07-30T06:08:04.627Z"
   },
   {
    "duration": 46,
    "start_time": "2023-07-30T06:08:04.640Z"
   },
   {
    "duration": 19,
    "start_time": "2023-07-30T06:08:04.688Z"
   },
   {
    "duration": 23,
    "start_time": "2023-07-30T06:08:04.709Z"
   },
   {
    "duration": 6,
    "start_time": "2023-07-30T06:08:04.734Z"
   },
   {
    "duration": 11,
    "start_time": "2023-07-30T06:08:04.741Z"
   },
   {
    "duration": 111,
    "start_time": "2023-07-30T06:08:04.754Z"
   },
   {
    "duration": 0,
    "start_time": "2023-07-30T06:08:04.868Z"
   },
   {
    "duration": 0,
    "start_time": "2023-07-30T06:08:04.869Z"
   },
   {
    "duration": 0,
    "start_time": "2023-07-30T06:08:04.870Z"
   },
   {
    "duration": 0,
    "start_time": "2023-07-30T06:08:04.871Z"
   },
   {
    "duration": 0,
    "start_time": "2023-07-30T06:08:04.872Z"
   },
   {
    "duration": 0,
    "start_time": "2023-07-30T06:08:04.872Z"
   },
   {
    "duration": 0,
    "start_time": "2023-07-30T06:08:04.874Z"
   },
   {
    "duration": 0,
    "start_time": "2023-07-30T06:08:04.875Z"
   },
   {
    "duration": 0,
    "start_time": "2023-07-30T06:08:04.876Z"
   },
   {
    "duration": 0,
    "start_time": "2023-07-30T06:08:04.877Z"
   },
   {
    "duration": 0,
    "start_time": "2023-07-30T06:08:04.877Z"
   },
   {
    "duration": 0,
    "start_time": "2023-07-30T06:08:04.878Z"
   },
   {
    "duration": 0,
    "start_time": "2023-07-30T06:08:04.880Z"
   },
   {
    "duration": 0,
    "start_time": "2023-07-30T06:08:04.880Z"
   },
   {
    "duration": 0,
    "start_time": "2023-07-30T06:08:04.881Z"
   },
   {
    "duration": 0,
    "start_time": "2023-07-30T06:08:04.882Z"
   },
   {
    "duration": 0,
    "start_time": "2023-07-30T06:08:04.883Z"
   },
   {
    "duration": 0,
    "start_time": "2023-07-30T06:08:04.884Z"
   },
   {
    "duration": 0,
    "start_time": "2023-07-30T06:08:04.920Z"
   },
   {
    "duration": 0,
    "start_time": "2023-07-30T06:08:04.920Z"
   },
   {
    "duration": 0,
    "start_time": "2023-07-30T06:08:04.921Z"
   },
   {
    "duration": 0,
    "start_time": "2023-07-30T06:08:04.921Z"
   },
   {
    "duration": 0,
    "start_time": "2023-07-30T06:08:04.922Z"
   },
   {
    "duration": 0,
    "start_time": "2023-07-30T06:08:04.922Z"
   },
   {
    "duration": 0,
    "start_time": "2023-07-30T06:08:04.923Z"
   },
   {
    "duration": 0,
    "start_time": "2023-07-30T06:08:04.923Z"
   },
   {
    "duration": 0,
    "start_time": "2023-07-30T06:08:04.924Z"
   },
   {
    "duration": 0,
    "start_time": "2023-07-30T06:08:04.924Z"
   },
   {
    "duration": 0,
    "start_time": "2023-07-30T06:08:04.925Z"
   },
   {
    "duration": 1,
    "start_time": "2023-07-30T06:08:04.929Z"
   },
   {
    "duration": 0,
    "start_time": "2023-07-30T06:08:04.930Z"
   },
   {
    "duration": 0,
    "start_time": "2023-07-30T06:08:04.931Z"
   },
   {
    "duration": 0,
    "start_time": "2023-07-30T06:08:04.932Z"
   },
   {
    "duration": 0,
    "start_time": "2023-07-30T06:08:04.932Z"
   },
   {
    "duration": 0,
    "start_time": "2023-07-30T06:08:04.933Z"
   },
   {
    "duration": 0,
    "start_time": "2023-07-30T06:08:04.934Z"
   },
   {
    "duration": 0,
    "start_time": "2023-07-30T06:08:04.934Z"
   },
   {
    "duration": 0,
    "start_time": "2023-07-30T06:08:04.935Z"
   },
   {
    "duration": 0,
    "start_time": "2023-07-30T06:08:04.935Z"
   },
   {
    "duration": 0,
    "start_time": "2023-07-30T06:08:04.936Z"
   },
   {
    "duration": 0,
    "start_time": "2023-07-30T06:08:04.937Z"
   },
   {
    "duration": 0,
    "start_time": "2023-07-30T06:08:04.939Z"
   },
   {
    "duration": 0,
    "start_time": "2023-07-30T06:08:04.940Z"
   },
   {
    "duration": 0,
    "start_time": "2023-07-30T06:08:04.941Z"
   },
   {
    "duration": 0,
    "start_time": "2023-07-30T06:08:04.942Z"
   },
   {
    "duration": 0,
    "start_time": "2023-07-30T06:08:04.943Z"
   },
   {
    "duration": 0,
    "start_time": "2023-07-30T06:08:04.944Z"
   },
   {
    "duration": 0,
    "start_time": "2023-07-30T06:08:04.945Z"
   },
   {
    "duration": 0,
    "start_time": "2023-07-30T06:08:04.946Z"
   },
   {
    "duration": 0,
    "start_time": "2023-07-30T06:08:04.947Z"
   },
   {
    "duration": 13,
    "start_time": "2023-07-30T06:14:28.664Z"
   },
   {
    "duration": 1488,
    "start_time": "2023-07-30T06:14:49.263Z"
   },
   {
    "duration": 39,
    "start_time": "2023-07-30T06:14:50.753Z"
   },
   {
    "duration": 15,
    "start_time": "2023-07-30T06:14:50.794Z"
   },
   {
    "duration": 22,
    "start_time": "2023-07-30T06:14:50.811Z"
   },
   {
    "duration": 70,
    "start_time": "2023-07-30T06:14:50.834Z"
   },
   {
    "duration": 10,
    "start_time": "2023-07-30T06:14:50.906Z"
   },
   {
    "duration": 60,
    "start_time": "2023-07-30T06:14:50.917Z"
   },
   {
    "duration": 60,
    "start_time": "2023-07-30T06:14:50.979Z"
   },
   {
    "duration": 68,
    "start_time": "2023-07-30T06:14:51.040Z"
   },
   {
    "duration": 101,
    "start_time": "2023-07-30T06:14:51.110Z"
   },
   {
    "duration": 94,
    "start_time": "2023-07-30T06:14:51.213Z"
   },
   {
    "duration": 32,
    "start_time": "2023-07-30T06:14:51.308Z"
   },
   {
    "duration": 20,
    "start_time": "2023-07-30T06:14:51.342Z"
   },
   {
    "duration": 33,
    "start_time": "2023-07-30T06:14:51.364Z"
   },
   {
    "duration": 15,
    "start_time": "2023-07-30T06:14:51.399Z"
   },
   {
    "duration": 22,
    "start_time": "2023-07-30T06:14:51.416Z"
   },
   {
    "duration": 14,
    "start_time": "2023-07-30T06:14:51.440Z"
   },
   {
    "duration": 10,
    "start_time": "2023-07-30T06:14:51.456Z"
   },
   {
    "duration": 11,
    "start_time": "2023-07-30T06:14:51.468Z"
   },
   {
    "duration": 23,
    "start_time": "2023-07-30T06:14:51.480Z"
   },
   {
    "duration": 15,
    "start_time": "2023-07-30T06:14:51.504Z"
   },
   {
    "duration": 34,
    "start_time": "2023-07-30T06:14:51.520Z"
   },
   {
    "duration": 3,
    "start_time": "2023-07-30T06:14:51.555Z"
   },
   {
    "duration": 17,
    "start_time": "2023-07-30T06:14:51.559Z"
   },
   {
    "duration": 27,
    "start_time": "2023-07-30T06:14:51.577Z"
   },
   {
    "duration": 23,
    "start_time": "2023-07-30T06:14:51.606Z"
   },
   {
    "duration": 9,
    "start_time": "2023-07-30T06:14:51.631Z"
   },
   {
    "duration": 12,
    "start_time": "2023-07-30T06:14:51.644Z"
   },
   {
    "duration": 10,
    "start_time": "2023-07-30T06:14:51.658Z"
   },
   {
    "duration": 9,
    "start_time": "2023-07-30T06:14:51.670Z"
   },
   {
    "duration": 165,
    "start_time": "2023-07-30T06:14:51.680Z"
   },
   {
    "duration": 22,
    "start_time": "2023-07-30T06:14:51.847Z"
   },
   {
    "duration": 9,
    "start_time": "2023-07-30T06:14:51.871Z"
   },
   {
    "duration": 19296,
    "start_time": "2023-07-30T06:14:51.882Z"
   },
   {
    "duration": 589,
    "start_time": "2023-07-30T06:15:11.180Z"
   },
   {
    "duration": 10,
    "start_time": "2023-07-30T06:15:11.770Z"
   },
   {
    "duration": 50,
    "start_time": "2023-07-30T06:15:11.781Z"
   },
   {
    "duration": 89,
    "start_time": "2023-07-30T06:15:11.835Z"
   },
   {
    "duration": 203,
    "start_time": "2023-07-30T06:15:11.926Z"
   },
   {
    "duration": 162,
    "start_time": "2023-07-30T06:15:12.131Z"
   },
   {
    "duration": 285,
    "start_time": "2023-07-30T06:15:12.295Z"
   },
   {
    "duration": 184,
    "start_time": "2023-07-30T06:15:12.582Z"
   },
   {
    "duration": 23,
    "start_time": "2023-07-30T06:15:12.768Z"
   },
   {
    "duration": 40,
    "start_time": "2023-07-30T06:15:12.793Z"
   },
   {
    "duration": 20268,
    "start_time": "2023-07-30T06:15:12.835Z"
   },
   {
    "duration": 5,
    "start_time": "2023-07-30T06:15:33.105Z"
   },
   {
    "duration": 624,
    "start_time": "2023-07-30T06:15:33.120Z"
   },
   {
    "duration": 39,
    "start_time": "2023-07-30T06:15:33.746Z"
   },
   {
    "duration": 141,
    "start_time": "2023-07-30T06:15:33.787Z"
   },
   {
    "duration": 98,
    "start_time": "2023-07-30T06:15:33.929Z"
   },
   {
    "duration": 108,
    "start_time": "2023-07-30T06:15:34.029Z"
   },
   {
    "duration": 11,
    "start_time": "2023-07-30T06:15:34.139Z"
   },
   {
    "duration": 183,
    "start_time": "2023-07-30T06:15:34.151Z"
   },
   {
    "duration": 37,
    "start_time": "2023-07-30T06:15:34.336Z"
   },
   {
    "duration": 19755,
    "start_time": "2023-07-30T06:15:34.374Z"
   },
   {
    "duration": 558,
    "start_time": "2023-07-30T06:15:54.130Z"
   },
   {
    "duration": 103,
    "start_time": "2023-07-30T06:15:54.689Z"
   },
   {
    "duration": 251,
    "start_time": "2023-07-30T06:15:54.794Z"
   },
   {
    "duration": 95,
    "start_time": "2023-07-30T06:15:55.051Z"
   },
   {
    "duration": 86,
    "start_time": "2023-07-30T06:15:55.222Z"
   },
   {
    "duration": 67,
    "start_time": "2023-07-30T06:15:55.310Z"
   },
   {
    "duration": 74,
    "start_time": "2023-07-30T06:15:55.379Z"
   },
   {
    "duration": 883,
    "start_time": "2023-07-30T06:15:55.521Z"
   },
   {
    "duration": 115,
    "start_time": "2023-07-30T06:15:56.405Z"
   },
   {
    "duration": 6,
    "start_time": "2023-07-30T07:18:35.875Z"
   },
   {
    "duration": 1383,
    "start_time": "2023-07-30T07:21:21.649Z"
   },
   {
    "duration": 41,
    "start_time": "2023-07-30T07:21:23.034Z"
   },
   {
    "duration": 16,
    "start_time": "2023-07-30T07:21:23.076Z"
   },
   {
    "duration": 11,
    "start_time": "2023-07-30T07:21:23.094Z"
   },
   {
    "duration": 44,
    "start_time": "2023-07-30T07:21:23.107Z"
   },
   {
    "duration": 10,
    "start_time": "2023-07-30T07:21:23.153Z"
   },
   {
    "duration": 8,
    "start_time": "2023-07-30T07:21:23.164Z"
   },
   {
    "duration": 6,
    "start_time": "2023-07-30T07:21:23.175Z"
   },
   {
    "duration": 12,
    "start_time": "2023-07-30T07:21:23.183Z"
   },
   {
    "duration": 30,
    "start_time": "2023-07-30T07:21:23.219Z"
   },
   {
    "duration": 6,
    "start_time": "2023-07-30T07:21:23.252Z"
   },
   {
    "duration": 12,
    "start_time": "2023-07-30T07:21:23.260Z"
   },
   {
    "duration": 20,
    "start_time": "2023-07-30T07:21:23.274Z"
   },
   {
    "duration": 11,
    "start_time": "2023-07-30T07:21:23.296Z"
   },
   {
    "duration": 143,
    "start_time": "2023-07-30T07:21:23.309Z"
   },
   {
    "duration": 57,
    "start_time": "2023-07-30T07:21:23.454Z"
   },
   {
    "duration": 84,
    "start_time": "2023-07-30T07:21:23.513Z"
   },
   {
    "duration": 3,
    "start_time": "2023-07-30T07:21:23.599Z"
   },
   {
    "duration": 10,
    "start_time": "2023-07-30T07:21:23.604Z"
   },
   {
    "duration": 28,
    "start_time": "2023-07-30T07:21:23.615Z"
   },
   {
    "duration": 35,
    "start_time": "2023-07-30T07:21:23.645Z"
   },
   {
    "duration": 21,
    "start_time": "2023-07-30T07:21:23.682Z"
   },
   {
    "duration": 39,
    "start_time": "2023-07-30T07:21:23.705Z"
   },
   {
    "duration": 38,
    "start_time": "2023-07-30T07:21:23.746Z"
   },
   {
    "duration": 14,
    "start_time": "2023-07-30T07:21:23.786Z"
   },
   {
    "duration": 10,
    "start_time": "2023-07-30T07:21:23.802Z"
   },
   {
    "duration": 17,
    "start_time": "2023-07-30T07:21:23.813Z"
   },
   {
    "duration": 6,
    "start_time": "2023-07-30T07:21:23.833Z"
   },
   {
    "duration": 19,
    "start_time": "2023-07-30T07:21:23.841Z"
   },
   {
    "duration": 8,
    "start_time": "2023-07-30T07:21:23.862Z"
   },
   {
    "duration": 149,
    "start_time": "2023-07-30T07:21:23.871Z"
   },
   {
    "duration": 24,
    "start_time": "2023-07-30T07:21:24.022Z"
   },
   {
    "duration": 11,
    "start_time": "2023-07-30T07:21:24.047Z"
   },
   {
    "duration": 18752,
    "start_time": "2023-07-30T07:21:24.060Z"
   },
   {
    "duration": 541,
    "start_time": "2023-07-30T07:21:42.814Z"
   },
   {
    "duration": 11,
    "start_time": "2023-07-30T07:21:43.356Z"
   },
   {
    "duration": 56,
    "start_time": "2023-07-30T07:21:43.369Z"
   },
   {
    "duration": 103,
    "start_time": "2023-07-30T07:21:43.427Z"
   },
   {
    "duration": 184,
    "start_time": "2023-07-30T07:21:43.532Z"
   },
   {
    "duration": 162,
    "start_time": "2023-07-30T07:21:43.721Z"
   },
   {
    "duration": 285,
    "start_time": "2023-07-30T07:21:43.885Z"
   },
   {
    "duration": 229,
    "start_time": "2023-07-30T07:21:44.171Z"
   },
   {
    "duration": 31,
    "start_time": "2023-07-30T07:21:44.402Z"
   },
   {
    "duration": 17,
    "start_time": "2023-07-30T07:21:44.434Z"
   },
   {
    "duration": 19212,
    "start_time": "2023-07-30T07:21:44.453Z"
   },
   {
    "duration": 3,
    "start_time": "2023-07-30T07:22:03.667Z"
   },
   {
    "duration": 558,
    "start_time": "2023-07-30T07:22:03.671Z"
   },
   {
    "duration": 41,
    "start_time": "2023-07-30T07:22:04.231Z"
   },
   {
    "duration": 16,
    "start_time": "2023-07-30T07:22:04.274Z"
   },
   {
    "duration": 98,
    "start_time": "2023-07-30T07:22:04.326Z"
   },
   {
    "duration": 97,
    "start_time": "2023-07-30T07:22:04.429Z"
   },
   {
    "duration": 3,
    "start_time": "2023-07-30T07:22:04.528Z"
   },
   {
    "duration": 120,
    "start_time": "2023-07-30T07:22:04.533Z"
   },
   {
    "duration": 0,
    "start_time": "2023-07-30T07:22:04.655Z"
   },
   {
    "duration": 0,
    "start_time": "2023-07-30T07:22:04.656Z"
   },
   {
    "duration": 0,
    "start_time": "2023-07-30T07:22:04.657Z"
   },
   {
    "duration": 0,
    "start_time": "2023-07-30T07:22:04.658Z"
   },
   {
    "duration": 0,
    "start_time": "2023-07-30T07:22:04.659Z"
   },
   {
    "duration": 0,
    "start_time": "2023-07-30T07:22:04.659Z"
   },
   {
    "duration": 0,
    "start_time": "2023-07-30T07:22:04.660Z"
   },
   {
    "duration": 0,
    "start_time": "2023-07-30T07:22:04.661Z"
   },
   {
    "duration": 0,
    "start_time": "2023-07-30T07:22:04.662Z"
   },
   {
    "duration": 0,
    "start_time": "2023-07-30T07:22:04.663Z"
   },
   {
    "duration": 0,
    "start_time": "2023-07-30T07:22:04.665Z"
   },
   {
    "duration": 0,
    "start_time": "2023-07-30T07:22:04.670Z"
   },
   {
    "duration": 198,
    "start_time": "2023-07-30T07:22:39.007Z"
   },
   {
    "duration": 1311,
    "start_time": "2023-07-30T07:22:51.858Z"
   },
   {
    "duration": 41,
    "start_time": "2023-07-30T07:22:53.171Z"
   },
   {
    "duration": 17,
    "start_time": "2023-07-30T07:22:53.214Z"
   },
   {
    "duration": 20,
    "start_time": "2023-07-30T07:22:53.236Z"
   },
   {
    "duration": 42,
    "start_time": "2023-07-30T07:22:53.257Z"
   },
   {
    "duration": 11,
    "start_time": "2023-07-30T07:22:53.300Z"
   },
   {
    "duration": 21,
    "start_time": "2023-07-30T07:22:53.312Z"
   },
   {
    "duration": 14,
    "start_time": "2023-07-30T07:22:53.335Z"
   },
   {
    "duration": 6,
    "start_time": "2023-07-30T07:22:53.350Z"
   },
   {
    "duration": 27,
    "start_time": "2023-07-30T07:22:53.359Z"
   },
   {
    "duration": 8,
    "start_time": "2023-07-30T07:22:53.387Z"
   },
   {
    "duration": 11,
    "start_time": "2023-07-30T07:22:53.396Z"
   },
   {
    "duration": 5,
    "start_time": "2023-07-30T07:22:53.409Z"
   },
   {
    "duration": 30,
    "start_time": "2023-07-30T07:22:53.415Z"
   },
   {
    "duration": 16,
    "start_time": "2023-07-30T07:22:53.447Z"
   },
   {
    "duration": 19,
    "start_time": "2023-07-30T07:22:53.464Z"
   },
   {
    "duration": 6,
    "start_time": "2023-07-30T07:22:53.485Z"
   },
   {
    "duration": 7,
    "start_time": "2023-07-30T07:22:53.492Z"
   },
   {
    "duration": 35,
    "start_time": "2023-07-30T07:22:53.501Z"
   },
   {
    "duration": 32,
    "start_time": "2023-07-30T07:22:53.538Z"
   },
   {
    "duration": 21,
    "start_time": "2023-07-30T07:22:53.572Z"
   },
   {
    "duration": 20,
    "start_time": "2023-07-30T07:22:53.595Z"
   },
   {
    "duration": 21,
    "start_time": "2023-07-30T07:22:53.617Z"
   },
   {
    "duration": 13,
    "start_time": "2023-07-30T07:22:53.640Z"
   },
   {
    "duration": 17,
    "start_time": "2023-07-30T07:22:53.655Z"
   },
   {
    "duration": 19,
    "start_time": "2023-07-30T07:22:53.674Z"
   },
   {
    "duration": 22,
    "start_time": "2023-07-30T07:22:53.695Z"
   },
   {
    "duration": 26,
    "start_time": "2023-07-30T07:22:53.721Z"
   },
   {
    "duration": 7,
    "start_time": "2023-07-30T07:22:53.749Z"
   },
   {
    "duration": 9,
    "start_time": "2023-07-30T07:22:53.757Z"
   },
   {
    "duration": 192,
    "start_time": "2023-07-30T07:22:53.768Z"
   },
   {
    "duration": 23,
    "start_time": "2023-07-30T07:22:53.961Z"
   },
   {
    "duration": 10,
    "start_time": "2023-07-30T07:22:53.986Z"
   },
   {
    "duration": 19116,
    "start_time": "2023-07-30T07:22:53.998Z"
   },
   {
    "duration": 620,
    "start_time": "2023-07-30T07:23:13.115Z"
   },
   {
    "duration": 10,
    "start_time": "2023-07-30T07:23:13.737Z"
   },
   {
    "duration": 35,
    "start_time": "2023-07-30T07:23:13.748Z"
   },
   {
    "duration": 156,
    "start_time": "2023-07-30T07:23:13.785Z"
   },
   {
    "duration": 164,
    "start_time": "2023-07-30T07:23:13.943Z"
   },
   {
    "duration": 162,
    "start_time": "2023-07-30T07:23:14.108Z"
   },
   {
    "duration": 257,
    "start_time": "2023-07-30T07:23:14.272Z"
   },
   {
    "duration": 161,
    "start_time": "2023-07-30T07:23:14.538Z"
   },
   {
    "duration": 36,
    "start_time": "2023-07-30T07:23:14.701Z"
   },
   {
    "duration": 13,
    "start_time": "2023-07-30T07:23:14.739Z"
   },
   {
    "duration": 19336,
    "start_time": "2023-07-30T07:23:14.753Z"
   },
   {
    "duration": 4,
    "start_time": "2023-07-30T07:23:34.092Z"
   },
   {
    "duration": 588,
    "start_time": "2023-07-30T07:23:34.098Z"
   },
   {
    "duration": 46,
    "start_time": "2023-07-30T07:23:34.688Z"
   },
   {
    "duration": 89,
    "start_time": "2023-07-30T07:23:34.736Z"
   },
   {
    "duration": 118,
    "start_time": "2023-07-30T07:23:34.826Z"
   },
   {
    "duration": 119,
    "start_time": "2023-07-30T07:23:35.027Z"
   },
   {
    "duration": 19,
    "start_time": "2023-07-30T07:23:35.147Z"
   },
   {
    "duration": 230,
    "start_time": "2023-07-30T07:23:35.167Z"
   },
   {
    "duration": 180,
    "start_time": "2023-07-30T07:23:35.399Z"
   },
   {
    "duration": 31,
    "start_time": "2023-07-30T07:23:35.580Z"
   },
   {
    "duration": 19475,
    "start_time": "2023-07-30T07:23:35.626Z"
   },
   {
    "duration": 602,
    "start_time": "2023-07-30T07:23:55.102Z"
   },
   {
    "duration": 96,
    "start_time": "2023-07-30T07:23:55.706Z"
   },
   {
    "duration": 130,
    "start_time": "2023-07-30T07:23:55.803Z"
   },
   {
    "duration": 104,
    "start_time": "2023-07-30T07:23:55.938Z"
   },
   {
    "duration": 134,
    "start_time": "2023-07-30T07:23:56.045Z"
   },
   {
    "duration": 81,
    "start_time": "2023-07-30T07:23:56.181Z"
   },
   {
    "duration": 66,
    "start_time": "2023-07-30T07:23:56.264Z"
   },
   {
    "duration": 922,
    "start_time": "2023-07-30T07:23:56.331Z"
   },
   {
    "duration": 113,
    "start_time": "2023-07-30T07:23:57.255Z"
   },
   {
    "duration": 1483,
    "start_time": "2023-07-30T07:26:05.801Z"
   },
   {
    "duration": 52,
    "start_time": "2023-07-30T07:26:07.286Z"
   },
   {
    "duration": 18,
    "start_time": "2023-07-30T07:26:07.340Z"
   },
   {
    "duration": 12,
    "start_time": "2023-07-30T07:26:07.361Z"
   },
   {
    "duration": 64,
    "start_time": "2023-07-30T07:26:07.375Z"
   },
   {
    "duration": 14,
    "start_time": "2023-07-30T07:26:07.441Z"
   },
   {
    "duration": 9,
    "start_time": "2023-07-30T07:26:07.457Z"
   },
   {
    "duration": 24,
    "start_time": "2023-07-30T07:26:07.468Z"
   },
   {
    "duration": 13,
    "start_time": "2023-07-30T07:26:07.494Z"
   },
   {
    "duration": 56,
    "start_time": "2023-07-30T07:26:07.510Z"
   },
   {
    "duration": 20,
    "start_time": "2023-07-30T07:26:07.568Z"
   },
   {
    "duration": 12,
    "start_time": "2023-07-30T07:26:07.590Z"
   },
   {
    "duration": 11,
    "start_time": "2023-07-30T07:26:07.604Z"
   },
   {
    "duration": 32,
    "start_time": "2023-07-30T07:26:07.617Z"
   },
   {
    "duration": 17,
    "start_time": "2023-07-30T07:26:07.650Z"
   },
   {
    "duration": 13,
    "start_time": "2023-07-30T07:26:07.669Z"
   },
   {
    "duration": 7,
    "start_time": "2023-07-30T07:26:07.684Z"
   },
   {
    "duration": 8,
    "start_time": "2023-07-30T07:26:07.693Z"
   },
   {
    "duration": 25,
    "start_time": "2023-07-30T07:26:07.702Z"
   },
   {
    "duration": 32,
    "start_time": "2023-07-30T07:26:07.728Z"
   },
   {
    "duration": 15,
    "start_time": "2023-07-30T07:26:07.762Z"
   },
   {
    "duration": 16,
    "start_time": "2023-07-30T07:26:07.778Z"
   },
   {
    "duration": 10,
    "start_time": "2023-07-30T07:26:07.795Z"
   },
   {
    "duration": 10,
    "start_time": "2023-07-30T07:26:07.806Z"
   },
   {
    "duration": 9,
    "start_time": "2023-07-30T07:26:07.829Z"
   },
   {
    "duration": 17,
    "start_time": "2023-07-30T07:26:07.839Z"
   },
   {
    "duration": 6,
    "start_time": "2023-07-30T07:26:07.857Z"
   },
   {
    "duration": 4,
    "start_time": "2023-07-30T07:26:07.866Z"
   },
   {
    "duration": 13,
    "start_time": "2023-07-30T07:26:07.872Z"
   },
   {
    "duration": 12,
    "start_time": "2023-07-30T07:26:07.887Z"
   },
   {
    "duration": 170,
    "start_time": "2023-07-30T07:26:07.900Z"
   },
   {
    "duration": 26,
    "start_time": "2023-07-30T07:26:08.071Z"
   },
   {
    "duration": 34,
    "start_time": "2023-07-30T07:26:08.099Z"
   },
   {
    "duration": 19576,
    "start_time": "2023-07-30T07:26:08.136Z"
   },
   {
    "duration": 550,
    "start_time": "2023-07-30T07:26:27.713Z"
   },
   {
    "duration": 10,
    "start_time": "2023-07-30T07:26:28.265Z"
   },
   {
    "duration": 70,
    "start_time": "2023-07-30T07:26:28.276Z"
   },
   {
    "duration": 87,
    "start_time": "2023-07-30T07:26:28.347Z"
   },
   {
    "duration": 148,
    "start_time": "2023-07-30T07:26:28.438Z"
   },
   {
    "duration": 157,
    "start_time": "2023-07-30T07:26:28.588Z"
   },
   {
    "duration": 279,
    "start_time": "2023-07-30T07:26:28.747Z"
   },
   {
    "duration": 165,
    "start_time": "2023-07-30T07:26:29.031Z"
   },
   {
    "duration": 32,
    "start_time": "2023-07-30T07:26:29.198Z"
   },
   {
    "duration": 15,
    "start_time": "2023-07-30T07:26:29.232Z"
   },
   {
    "duration": 19455,
    "start_time": "2023-07-30T07:26:29.249Z"
   },
   {
    "duration": 3,
    "start_time": "2023-07-30T07:26:48.706Z"
   },
   {
    "duration": 580,
    "start_time": "2023-07-30T07:26:48.721Z"
   },
   {
    "duration": 50,
    "start_time": "2023-07-30T07:26:49.302Z"
   },
   {
    "duration": 24,
    "start_time": "2023-07-30T07:26:49.355Z"
   },
   {
    "duration": 70,
    "start_time": "2023-07-30T07:26:49.381Z"
   },
   {
    "duration": 96,
    "start_time": "2023-07-30T07:26:49.534Z"
   },
   {
    "duration": 7,
    "start_time": "2023-07-30T07:26:49.632Z"
   },
   {
    "duration": 200,
    "start_time": "2023-07-30T07:26:49.641Z"
   },
   {
    "duration": 177,
    "start_time": "2023-07-30T07:26:49.842Z"
   },
   {
    "duration": 38,
    "start_time": "2023-07-30T07:26:50.026Z"
   },
   {
    "duration": 19739,
    "start_time": "2023-07-30T07:26:50.066Z"
   },
   {
    "duration": 570,
    "start_time": "2023-07-30T07:27:09.807Z"
   },
   {
    "duration": 138,
    "start_time": "2023-07-30T07:27:10.379Z"
   },
   {
    "duration": 109,
    "start_time": "2023-07-30T07:27:10.520Z"
   },
   {
    "duration": 102,
    "start_time": "2023-07-30T07:27:10.632Z"
   },
   {
    "duration": 97,
    "start_time": "2023-07-30T07:27:10.737Z"
   },
   {
    "duration": 51,
    "start_time": "2023-07-30T07:27:10.836Z"
   },
   {
    "duration": 157,
    "start_time": "2023-07-30T07:27:10.889Z"
   },
   {
    "duration": 978,
    "start_time": "2023-07-30T07:27:11.050Z"
   },
   {
    "duration": 129,
    "start_time": "2023-07-30T07:27:12.038Z"
   }
  ],
  "kernelspec": {
   "display_name": "Python 3 (ipykernel)",
   "language": "python",
   "name": "python3"
  },
  "language_info": {
   "codemirror_mode": {
    "name": "ipython",
    "version": 3
   },
   "file_extension": ".py",
   "mimetype": "text/x-python",
   "name": "python",
   "nbconvert_exporter": "python",
   "pygments_lexer": "ipython3",
   "version": "3.9.13"
  },
  "toc": {
   "base_numbering": 1,
   "nav_menu": {},
   "number_sections": true,
   "sideBar": true,
   "skip_h1_title": true,
   "title_cell": "Содержание",
   "title_sidebar": "Contents",
   "toc_cell": true,
   "toc_position": {},
   "toc_section_display": true,
   "toc_window_display": false
  }
 },
 "nbformat": 4,
 "nbformat_minor": 2
}
